{
  "nbformat": 4,
  "nbformat_minor": 0,
  "metadata": {
    "colab": {
      "name": "Untitled1.ipynb",
      "provenance": [],
      "toc_visible": true,
      "include_colab_link": true
    },
    "kernelspec": {
      "name": "python3",
      "display_name": "Python 3"
    }
  },
  "cells": [
    {
      "cell_type": "markdown",
      "metadata": {
        "id": "view-in-github",
        "colab_type": "text"
      },
      "source": [
        "<a href=\"https://colab.research.google.com/github/pavelbar/lab1_knn/blob/main/Untitled1.ipynb\" target=\"_parent\"><img src=\"https://colab.research.google.com/assets/colab-badge.svg\" alt=\"Open In Colab\"/></a>"
      ]
    },
    {
      "cell_type": "code",
      "metadata": {
        "id": "oJ0avyLEcETi"
      },
      "source": [
        "import numpy as np              # Массивы (матрицы, векторы, линейная алгебра)\n",
        "import matplotlib.pyplot as plt # Научная графика\n",
        "%matplotlib inline \n",
        "    # Говорим jupyter'у, чтобы весь графический вывод был в браузере, а не в отдельном окне\n",
        "import pandas as pd             # Таблицы и временные ряды (dataframe, series)\n",
        "import seaborn as sns           # Еще больше красивой графики для визуализации данных\n",
        "import sklearn                  # Алгоритмы машинного обучения"
      ],
      "execution_count": 1,
      "outputs": []
    },
    {
      "cell_type": "code",
      "metadata": {
        "id": "XhqE95fokn3F",
        "colab": {
          "base_uri": "https://localhost:8080/"
        },
        "outputId": "b737b603-e413-495b-8e0f-d525aa06a296"
      },
      "source": [
        "from google.colab import drive\n",
        "drive.mount('/content/drive')"
      ],
      "execution_count": 2,
      "outputs": [
        {
          "output_type": "stream",
          "text": [
            "Mounted at /content/drive\n"
          ],
          "name": "stdout"
        }
      ]
    },
    {
      "cell_type": "markdown",
      "metadata": {
        "id": "fCaaF_1IE1gL"
      },
      "source": [
        "Эти данные касаются подержанных и новых автомобилей, атак-же их цен в Пакистане. "
      ]
    },
    {
      "cell_type": "markdown",
      "metadata": {
        "id": "Bg7vs4DXDY8E"
      },
      "source": [
        "##Предварительная работа с данными"
      ]
    },
    {
      "cell_type": "code",
      "metadata": {
        "id": "r7NJsB0YcPVJ"
      },
      "source": [
        "data = pd.read_csv('/content/drive/My Drive/AAA_LABS/OLX_Car_Data_CSV.csv',  encoding= 'unicode_escape')\n"
      ],
      "execution_count": 146,
      "outputs": []
    },
    {
      "cell_type": "code",
      "metadata": {
        "id": "ZNmo5YU7lwY1",
        "colab": {
          "base_uri": "https://localhost:8080/"
        },
        "outputId": "225f7182-3e28-436c-8545-0ccc79b17547"
      },
      "source": [
        "data.shape"
      ],
      "execution_count": 147,
      "outputs": [
        {
          "output_type": "execute_result",
          "data": {
            "text/plain": [
              "(24973, 9)"
            ]
          },
          "metadata": {
            "tags": []
          },
          "execution_count": 147
        }
      ]
    },
    {
      "cell_type": "code",
      "metadata": {
        "id": "VKe3JSxYl45P",
        "colab": {
          "base_uri": "https://localhost:8080/",
          "height": 0
        },
        "outputId": "ac03c4a4-6fab-49fe-d3eb-d8173c938df4"
      },
      "source": [
        "data.sample(10)"
      ],
      "execution_count": 148,
      "outputs": [
        {
          "output_type": "execute_result",
          "data": {
            "text/html": [
              "<div>\n",
              "<style scoped>\n",
              "    .dataframe tbody tr th:only-of-type {\n",
              "        vertical-align: middle;\n",
              "    }\n",
              "\n",
              "    .dataframe tbody tr th {\n",
              "        vertical-align: top;\n",
              "    }\n",
              "\n",
              "    .dataframe thead th {\n",
              "        text-align: right;\n",
              "    }\n",
              "</style>\n",
              "<table border=\"1\" class=\"dataframe\">\n",
              "  <thead>\n",
              "    <tr style=\"text-align: right;\">\n",
              "      <th></th>\n",
              "      <th>Brand</th>\n",
              "      <th>Condition</th>\n",
              "      <th>Fuel</th>\n",
              "      <th>KMs Driven</th>\n",
              "      <th>Model</th>\n",
              "      <th>Price</th>\n",
              "      <th>Registered City</th>\n",
              "      <th>Transaction Type</th>\n",
              "      <th>Year</th>\n",
              "    </tr>\n",
              "  </thead>\n",
              "  <tbody>\n",
              "    <tr>\n",
              "      <th>21589</th>\n",
              "      <td>Toyota</td>\n",
              "      <td>Used</td>\n",
              "      <td>Petrol</td>\n",
              "      <td>12345.0</td>\n",
              "      <td>Corolla Assista</td>\n",
              "      <td>200000</td>\n",
              "      <td>Islamabad</td>\n",
              "      <td>Installment/Leasing</td>\n",
              "      <td>2001.0</td>\n",
              "    </tr>\n",
              "    <tr>\n",
              "      <th>17860</th>\n",
              "      <td>Toyota</td>\n",
              "      <td>Used</td>\n",
              "      <td>Petrol</td>\n",
              "      <td>74000.0</td>\n",
              "      <td>Passo</td>\n",
              "      <td>1125000</td>\n",
              "      <td>Karachi</td>\n",
              "      <td>Cash</td>\n",
              "      <td>2011.0</td>\n",
              "    </tr>\n",
              "    <tr>\n",
              "      <th>6756</th>\n",
              "      <td>NaN</td>\n",
              "      <td>NaN</td>\n",
              "      <td>NaN</td>\n",
              "      <td>NaN</td>\n",
              "      <td>NaN</td>\n",
              "      <td>650000</td>\n",
              "      <td>NaN</td>\n",
              "      <td>NaN</td>\n",
              "      <td>NaN</td>\n",
              "    </tr>\n",
              "    <tr>\n",
              "      <th>5801</th>\n",
              "      <td>Suzuki</td>\n",
              "      <td>New</td>\n",
              "      <td>Petrol</td>\n",
              "      <td>1.0</td>\n",
              "      <td>Cultus VXR</td>\n",
              "      <td>1340000</td>\n",
              "      <td>Karachi</td>\n",
              "      <td>Cash</td>\n",
              "      <td>2018.0</td>\n",
              "    </tr>\n",
              "    <tr>\n",
              "      <th>2841</th>\n",
              "      <td>Suzuki</td>\n",
              "      <td>Used</td>\n",
              "      <td>Petrol</td>\n",
              "      <td>13360.0</td>\n",
              "      <td>Hustler</td>\n",
              "      <td>1220000</td>\n",
              "      <td>Karachi</td>\n",
              "      <td>Cash</td>\n",
              "      <td>2015.0</td>\n",
              "    </tr>\n",
              "    <tr>\n",
              "      <th>8040</th>\n",
              "      <td>Other Brands</td>\n",
              "      <td>Used</td>\n",
              "      <td>NaN</td>\n",
              "      <td>1000.0</td>\n",
              "      <td>NaN</td>\n",
              "      <td>250000</td>\n",
              "      <td>NaN</td>\n",
              "      <td>NaN</td>\n",
              "      <td>1967.0</td>\n",
              "    </tr>\n",
              "    <tr>\n",
              "      <th>12116</th>\n",
              "      <td>Hyundai</td>\n",
              "      <td>Used</td>\n",
              "      <td>Petrol</td>\n",
              "      <td>1.0</td>\n",
              "      <td>Santro</td>\n",
              "      <td>460000</td>\n",
              "      <td>Karachi</td>\n",
              "      <td>Cash</td>\n",
              "      <td>2005.0</td>\n",
              "    </tr>\n",
              "    <tr>\n",
              "      <th>271</th>\n",
              "      <td>Toyota</td>\n",
              "      <td>Used</td>\n",
              "      <td>Petrol</td>\n",
              "      <td>35000.0</td>\n",
              "      <td>Fortuner</td>\n",
              "      <td>210000</td>\n",
              "      <td>Karachi</td>\n",
              "      <td>Installment/Leasing</td>\n",
              "      <td>2011.0</td>\n",
              "    </tr>\n",
              "    <tr>\n",
              "      <th>15473</th>\n",
              "      <td>Suzuki</td>\n",
              "      <td>New</td>\n",
              "      <td>Petrol</td>\n",
              "      <td>70000.0</td>\n",
              "      <td>Alto</td>\n",
              "      <td>650000</td>\n",
              "      <td>Karachi</td>\n",
              "      <td>Cash</td>\n",
              "      <td>2012.0</td>\n",
              "    </tr>\n",
              "    <tr>\n",
              "      <th>6394</th>\n",
              "      <td>Suzuki</td>\n",
              "      <td>Used</td>\n",
              "      <td>CNG</td>\n",
              "      <td>40000.0</td>\n",
              "      <td>Cultus VXR</td>\n",
              "      <td>560000</td>\n",
              "      <td>Karachi</td>\n",
              "      <td>Cash</td>\n",
              "      <td>2007.0</td>\n",
              "    </tr>\n",
              "  </tbody>\n",
              "</table>\n",
              "</div>"
            ],
            "text/plain": [
              "              Brand Condition  ...     Transaction Type    Year\n",
              "21589        Toyota      Used  ...  Installment/Leasing  2001.0\n",
              "17860        Toyota      Used  ...                 Cash  2011.0\n",
              "6756            NaN       NaN  ...                  NaN     NaN\n",
              "5801         Suzuki       New  ...                 Cash  2018.0\n",
              "2841         Suzuki      Used  ...                 Cash  2015.0\n",
              "8040   Other Brands      Used  ...                  NaN  1967.0\n",
              "12116       Hyundai      Used  ...                 Cash  2005.0\n",
              "271          Toyota      Used  ...  Installment/Leasing  2011.0\n",
              "15473        Suzuki       New  ...                 Cash  2012.0\n",
              "6394         Suzuki      Used  ...                 Cash  2007.0\n",
              "\n",
              "[10 rows x 9 columns]"
            ]
          },
          "metadata": {
            "tags": []
          },
          "execution_count": 148
        }
      ]
    },
    {
      "cell_type": "code",
      "metadata": {
        "id": "oVZ6OX3QmPcV"
      },
      "source": [
        "data = data.sample(frac=1)"
      ],
      "execution_count": 149,
      "outputs": []
    },
    {
      "cell_type": "code",
      "metadata": {
        "id": "FOo8rtj_nIt2"
      },
      "source": [
        "df1 = data[0:12486]\n",
        "df2 = data[12486:24973]"
      ],
      "execution_count": 150,
      "outputs": []
    },
    {
      "cell_type": "code",
      "metadata": {
        "id": "6NnKDHXLoMPD",
        "colab": {
          "base_uri": "https://localhost:8080/",
          "height": 0
        },
        "outputId": "b22f9b45-53dd-44f1-9bf9-9d551809932f"
      },
      "source": [
        "plt.scatter(data['Year'], data['Price'])\n",
        "pass"
      ],
      "execution_count": 151,
      "outputs": [
        {
          "output_type": "display_data",
          "data": {
            "image/png": "[encoded data removed]",
            "text/plain": [
              "<Figure size 432x288 with 1 Axes>"
            ]
          },
          "metadata": {
            "tags": [],
            "needs_background": "light"
          }
        }
      ]
    },
    {
      "cell_type": "code",
      "metadata": {
        "id": "SHiNMu0qoyCa",
        "colab": {
          "base_uri": "https://localhost:8080/",
          "height": 0
        },
        "outputId": "f9db2388-d207-4f97-cedd-90420c4eb7c6"
      },
      "source": [
        "plt.scatter(data['Year'], data['KMs Driven'])\n",
        "pass"
      ],
      "execution_count": 152,
      "outputs": [
        {
          "output_type": "display_data",
          "data": {
            "image/png": "[encoded data removed]",
            "text/plain": [
              "<Figure size 432x288 with 1 Axes>"
            ]
          },
          "metadata": {
            "tags": [],
            "needs_background": "light"
          }
        }
      ]
    },
    {
      "cell_type": "code",
      "metadata": {
        "id": "DqJmtCFhpPpZ",
        "colab": {
          "base_uri": "https://localhost:8080/",
          "height": 0
        },
        "outputId": "97edc5d2-6f43-4ca5-e4aa-23e65a77c3de"
      },
      "source": [
        "plt.scatter(data['KMs Driven'], data['Price'])\n",
        "pass"
      ],
      "execution_count": 153,
      "outputs": [
        {
          "output_type": "display_data",
          "data": {
            "image/png": "[encoded data removed]",
            "text/plain": [
              "<Figure size 432x288 with 1 Axes>"
            ]
          },
          "metadata": {
            "tags": [],
            "needs_background": "light"
          }
        }
      ]
    },
    {
      "cell_type": "markdown",
      "metadata": {
        "id": "5EhcC9XfptOn"
      },
      "source": [
        "### Борьба с выбросами.\n"
      ]
    },
    {
      "cell_type": "code",
      "metadata": {
        "id": "4cA3W1Z-p5D_",
        "colab": {
          "base_uri": "https://localhost:8080/"
        },
        "outputId": "70cb7291-1d4b-48dd-e574-8b1aa87b6258"
      },
      "source": [
        "df1['Price'].quantile([0.005,.01,.05,.1,.5,.9,.95,.99,.995])"
      ],
      "execution_count": 154,
      "outputs": [
        {
          "output_type": "execute_result",
          "data": {
            "text/plain": [
              "0.005      80000.0\n",
              "0.010      95000.0\n",
              "0.050     150000.0\n",
              "0.100     200000.0\n",
              "0.500     650000.0\n",
              "0.900    1700000.0\n",
              "0.950    2200000.0\n",
              "0.990    4500000.0\n",
              "0.995    7500000.0\n",
              "Name: Price, dtype: float64"
            ]
          },
          "metadata": {
            "tags": []
          },
          "execution_count": 154
        }
      ]
    },
    {
      "cell_type": "code",
      "metadata": {
        "id": "vZ6lJz_KqLZ5",
        "colab": {
          "base_uri": "https://localhost:8080/"
        },
        "outputId": "c5fcca3a-e534-42b6-d74d-0871fa5ee60e"
      },
      "source": [
        "df1['Year'].quantile([0.005,.01,.05,.1,.5,.9,.95,.99,.995])"
      ],
      "execution_count": 155,
      "outputs": [
        {
          "output_type": "execute_result",
          "data": {
            "text/plain": [
              "0.005    1976.0\n",
              "0.010    1982.0\n",
              "0.050    1986.0\n",
              "0.100    1991.0\n",
              "0.500    2008.0\n",
              "0.900    2016.0\n",
              "0.950    2017.0\n",
              "0.990    2018.0\n",
              "0.995    2018.0\n",
              "Name: Year, dtype: float64"
            ]
          },
          "metadata": {
            "tags": []
          },
          "execution_count": 155
        }
      ]
    },
    {
      "cell_type": "code",
      "metadata": {
        "id": "wZ6Z2-ODqXKY",
        "colab": {
          "base_uri": "https://localhost:8080/"
        },
        "outputId": "ebdc1cd7-fa39-4f0d-8f31-2059cce14929"
      },
      "source": [
        "df1['KMs Driven'].quantile([0.005,.01,.05,.1,.5,.9,.95,.99,.995])"
      ],
      "execution_count": 156,
      "outputs": [
        {
          "output_type": "execute_result",
          "data": {
            "text/plain": [
              "0.005          1.0\n",
              "0.010          1.0\n",
              "0.050          1.0\n",
              "0.100         22.0\n",
              "0.500      66000.0\n",
              "0.900     150000.0\n",
              "0.950     200000.0\n",
              "0.990    1000000.0\n",
              "0.995    2000000.0\n",
              "Name: KMs Driven, dtype: float64"
            ]
          },
          "metadata": {
            "tags": []
          },
          "execution_count": 156
        }
      ]
    },
    {
      "cell_type": "code",
      "metadata": {
        "id": "CyVhC1WKqkP_",
        "colab": {
          "base_uri": "https://localhost:8080/"
        },
        "outputId": "0dce2002-9cf3-4800-8bff-9aa79dda7136"
      },
      "source": [
        "rows_to_drop = df1[\n",
        "    (df1['Price'] < df1['Price'].quantile(0.005)) | (df1['Price'] > df1['Price'].quantile(0.995)) | \n",
        "    (df1['Year'] < df1['Year'].quantile(0.005)) | (df1['Year'] > df1['Year'].quantile(0.995)) |\n",
        "    (df1['KMs Driven']  < df1['KMs Driven' ].quantile(0.005)) | (df1['KMs Driven']  > df1['KMs Driven' ].quantile(0.995))].index\n",
        "data_itog = df1.drop(rows_to_drop)\n",
        "data_itog.shape"
      ],
      "execution_count": 157,
      "outputs": [
        {
          "output_type": "execute_result",
          "data": {
            "text/plain": [
              "(12271, 9)"
            ]
          },
          "metadata": {
            "tags": []
          },
          "execution_count": 157
        }
      ]
    },
    {
      "cell_type": "code",
      "metadata": {
        "id": "h_IU6IMnromY",
        "colab": {
          "base_uri": "https://localhost:8080/"
        },
        "outputId": "e502b508-2501-4a02-e037-5af11d873076"
      },
      "source": [
        "data_itog.info(memory_usage='deep')"
      ],
      "execution_count": 158,
      "outputs": [
        {
          "output_type": "stream",
          "text": [
            "<class 'pandas.core.frame.DataFrame'>\n",
            "Int64Index: 12271 entries, 13723 to 10215\n",
            "Data columns (total 9 columns):\n",
            " #   Column            Non-Null Count  Dtype  \n",
            "---  ------            --------------  -----  \n",
            " 0   Brand             11227 non-null  object \n",
            " 1   Condition         11227 non-null  object \n",
            " 2   Fuel              11076 non-null  object \n",
            " 3   KMs Driven        11144 non-null  float64\n",
            " 4   Model             11075 non-null  object \n",
            " 5   Price             12271 non-null  int64  \n",
            " 6   Registered City   10005 non-null  object \n",
            " 7   Transaction Type  11076 non-null  object \n",
            " 8   Year              11145 non-null  float64\n",
            "dtypes: float64(2), int64(1), object(6)\n",
            "memory usage: 4.5 MB\n"
          ],
          "name": "stdout"
        }
      ]
    },
    {
      "cell_type": "code",
      "metadata": {
        "id": "ZD4UNIA3rsSt",
        "colab": {
          "base_uri": "https://localhost:8080/",
          "height": 0
        },
        "outputId": "eb3e0acb-bf25-46a7-d962-d29db96e49b7"
      },
      "source": [
        "data_obj = data_itog.select_dtypes(include=['object']).copy()\n",
        "data_obj.describe()"
      ],
      "execution_count": 159,
      "outputs": [
        {
          "output_type": "execute_result",
          "data": {
            "text/html": [
              "<div>\n",
              "<style scoped>\n",
              "    .dataframe tbody tr th:only-of-type {\n",
              "        vertical-align: middle;\n",
              "    }\n",
              "\n",
              "    .dataframe tbody tr th {\n",
              "        vertical-align: top;\n",
              "    }\n",
              "\n",
              "    .dataframe thead th {\n",
              "        text-align: right;\n",
              "    }\n",
              "</style>\n",
              "<table border=\"1\" class=\"dataframe\">\n",
              "  <thead>\n",
              "    <tr style=\"text-align: right;\">\n",
              "      <th></th>\n",
              "      <th>Brand</th>\n",
              "      <th>Condition</th>\n",
              "      <th>Fuel</th>\n",
              "      <th>Model</th>\n",
              "      <th>Registered City</th>\n",
              "      <th>Transaction Type</th>\n",
              "    </tr>\n",
              "  </thead>\n",
              "  <tbody>\n",
              "    <tr>\n",
              "      <th>count</th>\n",
              "      <td>11227</td>\n",
              "      <td>11227</td>\n",
              "      <td>11076</td>\n",
              "      <td>11075</td>\n",
              "      <td>10005</td>\n",
              "      <td>11076</td>\n",
              "    </tr>\n",
              "    <tr>\n",
              "      <th>unique</th>\n",
              "      <td>22</td>\n",
              "      <td>2</td>\n",
              "      <td>5</td>\n",
              "      <td>250</td>\n",
              "      <td>50</td>\n",
              "      <td>2</td>\n",
              "    </tr>\n",
              "    <tr>\n",
              "      <th>top</th>\n",
              "      <td>Suzuki</td>\n",
              "      <td>Used</td>\n",
              "      <td>Petrol</td>\n",
              "      <td>Cultus VXR</td>\n",
              "      <td>Karachi</td>\n",
              "      <td>Cash</td>\n",
              "    </tr>\n",
              "    <tr>\n",
              "      <th>freq</th>\n",
              "      <td>4872</td>\n",
              "      <td>9100</td>\n",
              "      <td>7123</td>\n",
              "      <td>924</td>\n",
              "      <td>8116</td>\n",
              "      <td>10579</td>\n",
              "    </tr>\n",
              "  </tbody>\n",
              "</table>\n",
              "</div>"
            ],
            "text/plain": [
              "         Brand Condition    Fuel       Model Registered City Transaction Type\n",
              "count    11227     11227   11076       11075           10005            11076\n",
              "unique      22         2       5         250              50                2\n",
              "top     Suzuki      Used  Petrol  Cultus VXR         Karachi             Cash\n",
              "freq      4872      9100    7123         924            8116            10579"
            ]
          },
          "metadata": {
            "tags": []
          },
          "execution_count": 159
        }
      ]
    },
    {
      "cell_type": "code",
      "metadata": {
        "id": "D4T-9SKBsWPz"
      },
      "source": [
        "converted_obj = pd.DataFrame()\n",
        "\n",
        "for col in data_itog.columns:\n",
        "    if ((col != 'Price') & (col != 'Year') & (col != 'KMs Driven')):\n",
        "        num_unique_values = len(data_itog[col].unique())\n",
        "        num_total_values = len(data_itog[col])\n",
        "        if num_unique_values / num_total_values < 0.5:\n",
        "            converted_obj.loc[:,col] = data_itog[col].astype('category')\n",
        "        else:\n",
        "            converted_obj.loc[:,col] = data_itog[col]\n",
        "    else:\n",
        "        converted_obj.loc[:,col] = data_itog[col]"
      ],
      "execution_count": 160,
      "outputs": []
    },
    {
      "cell_type": "code",
      "metadata": {
        "id": "HwCIXmkZtUBY",
        "colab": {
          "base_uri": "https://localhost:8080/"
        },
        "outputId": "8c6428e2-28a5-4a7d-c9e6-050996b05cab"
      },
      "source": [
        "converted_obj.info(memory_usage='deep')"
      ],
      "execution_count": 161,
      "outputs": [
        {
          "output_type": "stream",
          "text": [
            "<class 'pandas.core.frame.DataFrame'>\n",
            "Int64Index: 12271 entries, 13723 to 10215\n",
            "Data columns (total 9 columns):\n",
            " #   Column            Non-Null Count  Dtype   \n",
            "---  ------            --------------  -----   \n",
            " 0   Brand             11227 non-null  category\n",
            " 1   Condition         11227 non-null  category\n",
            " 2   Fuel              11076 non-null  category\n",
            " 3   KMs Driven        11144 non-null  float64 \n",
            " 4   Model             11075 non-null  category\n",
            " 5   Price             12271 non-null  int64   \n",
            " 6   Registered City   10005 non-null  category\n",
            " 7   Transaction Type  11076 non-null  category\n",
            " 8   Year              11145 non-null  float64 \n",
            "dtypes: category(6), float64(2), int64(1)\n",
            "memory usage: 501.4 KB\n"
          ],
          "name": "stdout"
        }
      ]
    },
    {
      "cell_type": "code",
      "metadata": {
        "id": "PtAJoRuetZhB",
        "colab": {
          "base_uri": "https://localhost:8080/",
          "height": 0
        },
        "outputId": "43343b34-e62f-4702-a4e5-024e7c8ac0f8"
      },
      "source": [
        "converted_obj.describe(include=['category'])"
      ],
      "execution_count": 162,
      "outputs": [
        {
          "output_type": "execute_result",
          "data": {
            "text/html": [
              "<div>\n",
              "<style scoped>\n",
              "    .dataframe tbody tr th:only-of-type {\n",
              "        vertical-align: middle;\n",
              "    }\n",
              "\n",
              "    .dataframe tbody tr th {\n",
              "        vertical-align: top;\n",
              "    }\n",
              "\n",
              "    .dataframe thead th {\n",
              "        text-align: right;\n",
              "    }\n",
              "</style>\n",
              "<table border=\"1\" class=\"dataframe\">\n",
              "  <thead>\n",
              "    <tr style=\"text-align: right;\">\n",
              "      <th></th>\n",
              "      <th>Brand</th>\n",
              "      <th>Condition</th>\n",
              "      <th>Fuel</th>\n",
              "      <th>Model</th>\n",
              "      <th>Registered City</th>\n",
              "      <th>Transaction Type</th>\n",
              "    </tr>\n",
              "  </thead>\n",
              "  <tbody>\n",
              "    <tr>\n",
              "      <th>count</th>\n",
              "      <td>11227</td>\n",
              "      <td>11227</td>\n",
              "      <td>11076</td>\n",
              "      <td>11075</td>\n",
              "      <td>10005</td>\n",
              "      <td>11076</td>\n",
              "    </tr>\n",
              "    <tr>\n",
              "      <th>unique</th>\n",
              "      <td>22</td>\n",
              "      <td>2</td>\n",
              "      <td>5</td>\n",
              "      <td>250</td>\n",
              "      <td>50</td>\n",
              "      <td>2</td>\n",
              "    </tr>\n",
              "    <tr>\n",
              "      <th>top</th>\n",
              "      <td>Suzuki</td>\n",
              "      <td>Used</td>\n",
              "      <td>Petrol</td>\n",
              "      <td>Cultus VXR</td>\n",
              "      <td>Karachi</td>\n",
              "      <td>Cash</td>\n",
              "    </tr>\n",
              "    <tr>\n",
              "      <th>freq</th>\n",
              "      <td>4872</td>\n",
              "      <td>9100</td>\n",
              "      <td>7123</td>\n",
              "      <td>924</td>\n",
              "      <td>8116</td>\n",
              "      <td>10579</td>\n",
              "    </tr>\n",
              "  </tbody>\n",
              "</table>\n",
              "</div>"
            ],
            "text/plain": [
              "         Brand Condition    Fuel       Model Registered City Transaction Type\n",
              "count    11227     11227   11076       11075           10005            11076\n",
              "unique      22         2       5         250              50                2\n",
              "top     Suzuki      Used  Petrol  Cultus VXR         Karachi             Cash\n",
              "freq      4872      9100    7123         924            8116            10579"
            ]
          },
          "metadata": {
            "tags": []
          },
          "execution_count": 162
        }
      ]
    },
    {
      "cell_type": "code",
      "metadata": {
        "id": "rT7QcOPYtfkl",
        "colab": {
          "base_uri": "https://localhost:8080/",
          "height": 0
        },
        "outputId": "16229fec-1ed5-4fc6-f624-b247dc6b349c"
      },
      "source": [
        "plt.scatter(converted_obj['Year'], converted_obj['Price'], alpha=0.01)\n",
        "pass"
      ],
      "execution_count": 163,
      "outputs": [
        {
          "output_type": "display_data",
          "data": {
            "image/png": "[encoded data removed]",
            "text/plain": [
              "<Figure size 432x288 with 1 Axes>"
            ]
          },
          "metadata": {
            "tags": [],
            "needs_background": "light"
          }
        }
      ]
    },
    {
      "cell_type": "code",
      "metadata": {
        "id": "IKVDKnCytu4Q",
        "colab": {
          "base_uri": "https://localhost:8080/",
          "height": 0
        },
        "outputId": "fed3e9a0-1302-4716-90c6-70e0462a5c82"
      },
      "source": [
        "plt.scatter(converted_obj['Year'], converted_obj['KMs Driven'], alpha=0.01)\n",
        "pass"
      ],
      "execution_count": 164,
      "outputs": [
        {
          "output_type": "display_data",
          "data": {
            "image/png": "[encoded data removed]",
            "text/plain": [
              "<Figure size 432x288 with 1 Axes>"
            ]
          },
          "metadata": {
            "tags": [],
            "needs_background": "light"
          }
        }
      ]
    },
    {
      "cell_type": "code",
      "metadata": {
        "id": "ybQEQxCJt94o",
        "colab": {
          "base_uri": "https://localhost:8080/",
          "height": 0
        },
        "outputId": "034f7b15-ef8c-4725-bd81-a33a8388e7ec"
      },
      "source": [
        "plt.scatter(converted_obj['KMs Driven'], converted_obj['Price'], alpha=0.01)\n",
        "pass"
      ],
      "execution_count": 165,
      "outputs": [
        {
          "output_type": "display_data",
          "data": {
            "image/png": "[encoded data removed]",
            "text/plain": [
              "<Figure size 432x288 with 1 Axes>"
            ]
          },
          "metadata": {
            "tags": [],
            "needs_background": "light"
          }
        }
      ]
    },
    {
      "cell_type": "code",
      "metadata": {
        "id": "RjzBzp_JucVf",
        "colab": {
          "base_uri": "https://localhost:8080/",
          "height": 0
        },
        "outputId": "3b5a3cc5-c4d2-4305-81f0-d80bda79386d"
      },
      "source": [
        "sns.distplot(converted_obj['Price'], bins=15)\n",
        "plt.grid()\n",
        "pass"
      ],
      "execution_count": 166,
      "outputs": [
        {
          "output_type": "stream",
          "text": [
            "/usr/local/lib/python3.6/dist-packages/seaborn/distributions.py:2551: FutureWarning: `distplot` is a deprecated function and will be removed in a future version. Please adapt your code to use either `displot` (a figure-level function with similar flexibility) or `histplot` (an axes-level function for histograms).\n",
            "  warnings.warn(msg, FutureWarning)\n"
          ],
          "name": "stderr"
        },
        {
          "output_type": "display_data",
          "data": {
            "image/png": "[encoded data removed]",
            "text/plain": [
              "<Figure size 432x288 with 1 Axes>"
            ]
          },
          "metadata": {
            "tags": [],
            "needs_background": "light"
          }
        }
      ]
    },
    {
      "cell_type": "code",
      "metadata": {
        "id": "ME9FrIiRumKW",
        "colab": {
          "base_uri": "https://localhost:8080/",
          "height": 0
        },
        "outputId": "168db76f-b77c-42c0-99bb-930da9a82347"
      },
      "source": [
        "corr_mat = converted_obj.corr()\n",
        "corr_mat"
      ],
      "execution_count": 167,
      "outputs": [
        {
          "output_type": "execute_result",
          "data": {
            "text/html": [
              "<div>\n",
              "<style scoped>\n",
              "    .dataframe tbody tr th:only-of-type {\n",
              "        vertical-align: middle;\n",
              "    }\n",
              "\n",
              "    .dataframe tbody tr th {\n",
              "        vertical-align: top;\n",
              "    }\n",
              "\n",
              "    .dataframe thead th {\n",
              "        text-align: right;\n",
              "    }\n",
              "</style>\n",
              "<table border=\"1\" class=\"dataframe\">\n",
              "  <thead>\n",
              "    <tr style=\"text-align: right;\">\n",
              "      <th></th>\n",
              "      <th>KMs Driven</th>\n",
              "      <th>Price</th>\n",
              "      <th>Year</th>\n",
              "    </tr>\n",
              "  </thead>\n",
              "  <tbody>\n",
              "    <tr>\n",
              "      <th>KMs Driven</th>\n",
              "      <td>1.000000</td>\n",
              "      <td>-0.069283</td>\n",
              "      <td>-0.148065</td>\n",
              "    </tr>\n",
              "    <tr>\n",
              "      <th>Price</th>\n",
              "      <td>-0.069283</td>\n",
              "      <td>1.000000</td>\n",
              "      <td>0.505658</td>\n",
              "    </tr>\n",
              "    <tr>\n",
              "      <th>Year</th>\n",
              "      <td>-0.148065</td>\n",
              "      <td>0.505658</td>\n",
              "      <td>1.000000</td>\n",
              "    </tr>\n",
              "  </tbody>\n",
              "</table>\n",
              "</div>"
            ],
            "text/plain": [
              "            KMs Driven     Price      Year\n",
              "KMs Driven    1.000000 -0.069283 -0.148065\n",
              "Price        -0.069283  1.000000  0.505658\n",
              "Year         -0.148065  0.505658  1.000000"
            ]
          },
          "metadata": {
            "tags": []
          },
          "execution_count": 167
        }
      ]
    },
    {
      "cell_type": "code",
      "metadata": {
        "id": "ln_MoDm0wlK5",
        "colab": {
          "base_uri": "https://localhost:8080/",
          "height": 0
        },
        "outputId": "5202fb32-978f-4e6d-9021-e9d83ba7d44d"
      },
      "source": [
        "sns.heatmap(corr_mat, square=True, cmap='coolwarm')\n",
        "pass"
      ],
      "execution_count": 168,
      "outputs": [
        {
          "output_type": "display_data",
          "data": {
            "image/png": "[encoded data removed]",
            "text/plain": [
              "<Figure size 432x288 with 2 Axes>"
            ]
          },
          "metadata": {
            "tags": [],
            "needs_background": "light"
          }
        }
      ]
    },
    {
      "cell_type": "code",
      "metadata": {
        "id": "7bJnR8zDwvWz",
        "colab": {
          "base_uri": "https://localhost:8080/"
        },
        "outputId": "e12685cb-8665-4b0d-d0f8-9c1ece241d4d"
      },
      "source": [
        "converted_obj.isna().sum()"
      ],
      "execution_count": 169,
      "outputs": [
        {
          "output_type": "execute_result",
          "data": {
            "text/plain": [
              "Brand               1044\n",
              "Condition           1044\n",
              "Fuel                1195\n",
              "KMs Driven          1127\n",
              "Model               1196\n",
              "Price                  0\n",
              "Registered City     2266\n",
              "Transaction Type    1195\n",
              "Year                1126\n",
              "dtype: int64"
            ]
          },
          "metadata": {
            "tags": []
          },
          "execution_count": 169
        }
      ]
    },
    {
      "cell_type": "code",
      "metadata": {
        "id": "t5EjgW9hw_8q"
      },
      "source": [
        "converted_obj.fillna(data.median(axis = 0), axis=0 , inplace=True)"
      ],
      "execution_count": 170,
      "outputs": []
    },
    {
      "cell_type": "code",
      "metadata": {
        "id": "s2L7LamhxFbc",
        "colab": {
          "base_uri": "https://localhost:8080/"
        },
        "outputId": "1ee9ab5c-2ab3-4b90-a23f-f5ca17072a24"
      },
      "source": [
        "converted_obj.isna().sum()"
      ],
      "execution_count": 171,
      "outputs": [
        {
          "output_type": "execute_result",
          "data": {
            "text/plain": [
              "Brand               1044\n",
              "Condition           1044\n",
              "Fuel                1195\n",
              "KMs Driven             0\n",
              "Model               1196\n",
              "Price                  0\n",
              "Registered City     2266\n",
              "Transaction Type    1195\n",
              "Year                   0\n",
              "dtype: int64"
            ]
          },
          "metadata": {
            "tags": []
          },
          "execution_count": 171
        }
      ]
    },
    {
      "cell_type": "code",
      "metadata": {
        "id": "1NRw2JX6xHQL"
      },
      "source": [
        "converted_obj['Brand'].fillna(data['Brand'].mode().iloc[0], inplace=True)\n",
        "converted_obj['Condition'].fillna(data['Condition'].mode().iloc[0], inplace=True)\n",
        "converted_obj['Fuel'].fillna(data['Fuel'].mode().iloc[0], inplace=True)\n",
        "converted_obj['Model'].fillna(data['Model'].mode().iloc[0], inplace=True)\n",
        "converted_obj['Registered City'].fillna(data['Registered City'].mode().iloc[0], inplace=True)\n",
        "converted_obj['Transaction Type'].fillna(data['Transaction Type'].mode().iloc[0], inplace=True)"
      ],
      "execution_count": 172,
      "outputs": []
    },
    {
      "cell_type": "code",
      "metadata": {
        "id": "Hz6p6nslxxkP",
        "colab": {
          "base_uri": "https://localhost:8080/"
        },
        "outputId": "e4e3faf0-acf1-477d-8d7e-8d5ad6c5dbe1"
      },
      "source": [
        "converted_obj.isna().sum()"
      ],
      "execution_count": 173,
      "outputs": [
        {
          "output_type": "execute_result",
          "data": {
            "text/plain": [
              "Brand               0\n",
              "Condition           0\n",
              "Fuel                0\n",
              "KMs Driven          0\n",
              "Model               0\n",
              "Price               0\n",
              "Registered City     0\n",
              "Transaction Type    0\n",
              "Year                0\n",
              "dtype: int64"
            ]
          },
          "metadata": {
            "tags": []
          },
          "execution_count": 173
        }
      ]
    },
    {
      "cell_type": "code",
      "metadata": {
        "id": "fx7zcL6Wx1js",
        "colab": {
          "base_uri": "https://localhost:8080/"
        },
        "outputId": "586c570c-6545-4349-bc75-3d0de88e7204"
      },
      "source": [
        "converted_obj['Condition'].value_counts()"
      ],
      "execution_count": 174,
      "outputs": [
        {
          "output_type": "execute_result",
          "data": {
            "text/plain": [
              "Used    10144\n",
              "New      2127\n",
              "Name: Condition, dtype: int64"
            ]
          },
          "metadata": {
            "tags": []
          },
          "execution_count": 174
        }
      ]
    },
    {
      "cell_type": "markdown",
      "metadata": {
        "id": "TAR51HJcy36H"
      },
      "source": [
        "2138 от числа 12285 = 17.4%"
      ]
    },
    {
      "cell_type": "code",
      "metadata": {
        "id": "9FlMouFey7Aq"
      },
      "source": [
        "condition_ = converted_obj['Condition']\n",
        "converted_obj = converted_obj.drop(\"Condition\", axis = 1)"
      ],
      "execution_count": 175,
      "outputs": []
    },
    {
      "cell_type": "markdown",
      "metadata": {
        "id": "2i7ULSBUzocv"
      },
      "source": [
        "##Бинаризация."
      ]
    },
    {
      "cell_type": "code",
      "metadata": {
        "id": "PKhex1OTzpwG"
      },
      "source": [
        "Building_dummies = pd.get_dummies(converted_obj['Brand'])\n",
        "converted_obj = pd.concat((converted_obj, Building_dummies), axis=1)\n",
        "converted_obj = converted_obj.drop(['Brand'], axis=1)\n",
        "\n",
        "Building_dummies = pd.get_dummies(converted_obj['Fuel'])\n",
        "converted_obj = pd.concat((converted_obj, Building_dummies), axis=1)\n",
        "converted_obj = converted_obj.drop(['Fuel'], axis=1)\n",
        "\n",
        "Building_dummies = pd.get_dummies(converted_obj['Model'])\n",
        "converted_obj = pd.concat((converted_obj, Building_dummies), axis=1)\n",
        "converted_obj = converted_obj.drop(['Model'], axis=1)\n",
        "\n",
        "Building_dummies = pd.get_dummies(converted_obj['Registered City'])\n",
        "converted_obj = pd.concat((converted_obj, Building_dummies), axis=1)\n",
        "converted_obj = converted_obj.drop(['Registered City'], axis=1)\n",
        "\n",
        "Building_dummies = pd.get_dummies(converted_obj['Transaction Type'])\n",
        "converted_obj = pd.concat((converted_obj, Building_dummies), axis=1)\n",
        "converted_obj = converted_obj.drop(['Transaction Type'], axis=1)"
      ],
      "execution_count": 176,
      "outputs": []
    },
    {
      "cell_type": "markdown",
      "metadata": {
        "id": "fRPd0ZUZ_eUm"
      },
      "source": [
        "##Нормализация количественных признаков"
      ]
    },
    {
      "cell_type": "code",
      "metadata": {
        "id": "1PotBnRn_fzn",
        "colab": {
          "base_uri": "https://localhost:8080/"
        },
        "outputId": "dbc5573b-7879-4e43-9971-870867586f89"
      },
      "source": [
        "converted_obj.info(memory_usage='deep')"
      ],
      "execution_count": 177,
      "outputs": [
        {
          "output_type": "stream",
          "text": [
            "<class 'pandas.core.frame.DataFrame'>\n",
            "Int64Index: 12271 entries, 13723 to 10215\n",
            "Columns: 332 entries, KMs Driven to Installment/Leasing\n",
            "dtypes: float64(2), int64(1), uint8(329)\n",
            "memory usage: 4.2 MB\n"
          ],
          "name": "stdout"
        }
      ]
    },
    {
      "cell_type": "code",
      "metadata": {
        "id": "YetRSeB7_njK"
      },
      "source": [
        "data_stand = (converted_obj - converted_obj.mean(axis = 0))/converted_obj.std(axis = 0)"
      ],
      "execution_count": 178,
      "outputs": []
    },
    {
      "cell_type": "code",
      "metadata": {
        "id": "hqy_4Rt5_uB6",
        "colab": {
          "base_uri": "https://localhost:8080/",
          "height": 0
        },
        "outputId": "060c47bf-4fa0-4bf2-bd4d-276b479e013d"
      },
      "source": [
        "data_stand.describe()"
      ],
      "execution_count": 179,
      "outputs": [
        {
          "output_type": "execute_result",
          "data": {
            "text/html": [
              "<div>\n",
              "<style scoped>\n",
              "    .dataframe tbody tr th:only-of-type {\n",
              "        vertical-align: middle;\n",
              "    }\n",
              "\n",
              "    .dataframe tbody tr th {\n",
              "        vertical-align: top;\n",
              "    }\n",
              "\n",
              "    .dataframe thead th {\n",
              "        text-align: right;\n",
              "    }\n",
              "</style>\n",
              "<table border=\"1\" class=\"dataframe\">\n",
              "  <thead>\n",
              "    <tr style=\"text-align: right;\">\n",
              "      <th></th>\n",
              "      <th>KMs Driven</th>\n",
              "      <th>Price</th>\n",
              "      <th>Year</th>\n",
              "      <th>Audi</th>\n",
              "      <th>BMW</th>\n",
              "      <th>Changan</th>\n",
              "      <th>Chevrolet</th>\n",
              "      <th>Classic &amp; Antiques</th>\n",
              "      <th>Daewoo</th>\n",
              "      <th>Daihatsu</th>\n",
              "      <th>FAW</th>\n",
              "      <th>Honda</th>\n",
              "      <th>Hyundai</th>\n",
              "      <th>KIA</th>\n",
              "      <th>Lexus</th>\n",
              "      <th>Mazda</th>\n",
              "      <th>Mercedes</th>\n",
              "      <th>Mitsubishi</th>\n",
              "      <th>Nissan</th>\n",
              "      <th>Other Brands</th>\n",
              "      <th>Porsche</th>\n",
              "      <th>Range Rover</th>\n",
              "      <th>Subaru</th>\n",
              "      <th>Suzuki</th>\n",
              "      <th>Toyota</th>\n",
              "      <th>CNG</th>\n",
              "      <th>Diesel</th>\n",
              "      <th>Hybrid</th>\n",
              "      <th>LPG</th>\n",
              "      <th>Petrol</th>\n",
              "      <th>120 Y</th>\n",
              "      <th>200 D</th>\n",
              "      <th>240 Gd</th>\n",
              "      <th>250 D</th>\n",
              "      <th>3 Series</th>\n",
              "      <th>323</th>\n",
              "      <th>350Z</th>\n",
              "      <th>5 Series</th>\n",
              "      <th>6 Series</th>\n",
              "      <th>626</th>\n",
              "      <th>...</th>\n",
              "      <th>Faisalabad</th>\n",
              "      <th>Gujranwala</th>\n",
              "      <th>Gujrat</th>\n",
              "      <th>Haripur</th>\n",
              "      <th>Hyderabad</th>\n",
              "      <th>Islamabad</th>\n",
              "      <th>Jhelum</th>\n",
              "      <th>Kandhura</th>\n",
              "      <th>Karachi</th>\n",
              "      <th>Karak</th>\n",
              "      <th>Kasur</th>\n",
              "      <th>Khairpur</th>\n",
              "      <th>Khanewal</th>\n",
              "      <th>Khanpur</th>\n",
              "      <th>Khushab</th>\n",
              "      <th>Kohat</th>\n",
              "      <th>Lahore</th>\n",
              "      <th>Larkana</th>\n",
              "      <th>Lasbela</th>\n",
              "      <th>Mardan</th>\n",
              "      <th>Mirpur</th>\n",
              "      <th>Multan</th>\n",
              "      <th>Muzaffarabad</th>\n",
              "      <th>Nawabshah</th>\n",
              "      <th>Okara</th>\n",
              "      <th>Pakpattan</th>\n",
              "      <th>Peshawar</th>\n",
              "      <th>Quetta</th>\n",
              "      <th>Rahimyar Khan</th>\n",
              "      <th>Rawalpindi</th>\n",
              "      <th>Sahiwal</th>\n",
              "      <th>Sargodha</th>\n",
              "      <th>Sialkot</th>\n",
              "      <th>Sukkar</th>\n",
              "      <th>Sukkur</th>\n",
              "      <th>Swabi</th>\n",
              "      <th>Vehari</th>\n",
              "      <th>Wah</th>\n",
              "      <th>Cash</th>\n",
              "      <th>Installment/Leasing</th>\n",
              "    </tr>\n",
              "  </thead>\n",
              "  <tbody>\n",
              "    <tr>\n",
              "      <th>count</th>\n",
              "      <td>1.227100e+04</td>\n",
              "      <td>1.227100e+04</td>\n",
              "      <td>1.227100e+04</td>\n",
              "      <td>1.227100e+04</td>\n",
              "      <td>1.227100e+04</td>\n",
              "      <td>1.227100e+04</td>\n",
              "      <td>1.227100e+04</td>\n",
              "      <td>1.227100e+04</td>\n",
              "      <td>1.227100e+04</td>\n",
              "      <td>1.227100e+04</td>\n",
              "      <td>1.227100e+04</td>\n",
              "      <td>1.227100e+04</td>\n",
              "      <td>1.227100e+04</td>\n",
              "      <td>1.227100e+04</td>\n",
              "      <td>1.227100e+04</td>\n",
              "      <td>1.227100e+04</td>\n",
              "      <td>1.227100e+04</td>\n",
              "      <td>1.227100e+04</td>\n",
              "      <td>1.227100e+04</td>\n",
              "      <td>1.227100e+04</td>\n",
              "      <td>1.227100e+04</td>\n",
              "      <td>1.227100e+04</td>\n",
              "      <td>1.227100e+04</td>\n",
              "      <td>1.227100e+04</td>\n",
              "      <td>1.227100e+04</td>\n",
              "      <td>1.227100e+04</td>\n",
              "      <td>1.227100e+04</td>\n",
              "      <td>1.227100e+04</td>\n",
              "      <td>1.227100e+04</td>\n",
              "      <td>1.227100e+04</td>\n",
              "      <td>1.227100e+04</td>\n",
              "      <td>1.227100e+04</td>\n",
              "      <td>1.227100e+04</td>\n",
              "      <td>1.227100e+04</td>\n",
              "      <td>1.227100e+04</td>\n",
              "      <td>1.227100e+04</td>\n",
              "      <td>1.227100e+04</td>\n",
              "      <td>1.227100e+04</td>\n",
              "      <td>1.227100e+04</td>\n",
              "      <td>1.227100e+04</td>\n",
              "      <td>...</td>\n",
              "      <td>1.227100e+04</td>\n",
              "      <td>1.227100e+04</td>\n",
              "      <td>1.227100e+04</td>\n",
              "      <td>1.227100e+04</td>\n",
              "      <td>1.227100e+04</td>\n",
              "      <td>1.227100e+04</td>\n",
              "      <td>1.227100e+04</td>\n",
              "      <td>1.227100e+04</td>\n",
              "      <td>1.227100e+04</td>\n",
              "      <td>1.227100e+04</td>\n",
              "      <td>1.227100e+04</td>\n",
              "      <td>1.227100e+04</td>\n",
              "      <td>1.227100e+04</td>\n",
              "      <td>1.227100e+04</td>\n",
              "      <td>1.227100e+04</td>\n",
              "      <td>1.227100e+04</td>\n",
              "      <td>1.227100e+04</td>\n",
              "      <td>1.227100e+04</td>\n",
              "      <td>1.227100e+04</td>\n",
              "      <td>1.227100e+04</td>\n",
              "      <td>1.227100e+04</td>\n",
              "      <td>1.227100e+04</td>\n",
              "      <td>1.227100e+04</td>\n",
              "      <td>1.227100e+04</td>\n",
              "      <td>1.227100e+04</td>\n",
              "      <td>1.227100e+04</td>\n",
              "      <td>1.227100e+04</td>\n",
              "      <td>1.227100e+04</td>\n",
              "      <td>1.227100e+04</td>\n",
              "      <td>1.227100e+04</td>\n",
              "      <td>1.227100e+04</td>\n",
              "      <td>1.227100e+04</td>\n",
              "      <td>1.227100e+04</td>\n",
              "      <td>1.227100e+04</td>\n",
              "      <td>1.227100e+04</td>\n",
              "      <td>1.227100e+04</td>\n",
              "      <td>1.227100e+04</td>\n",
              "      <td>1.227100e+04</td>\n",
              "      <td>1.227100e+04</td>\n",
              "      <td>1.227100e+04</td>\n",
              "    </tr>\n",
              "    <tr>\n",
              "      <th>mean</th>\n",
              "      <td>-7.223552e-17</td>\n",
              "      <td>6.566701e-17</td>\n",
              "      <td>-5.778299e-16</td>\n",
              "      <td>-3.627943e-16</td>\n",
              "      <td>1.176332e-15</td>\n",
              "      <td>-8.328154e-16</td>\n",
              "      <td>-4.111296e-15</td>\n",
              "      <td>-5.763274e-16</td>\n",
              "      <td>-6.696307e-18</td>\n",
              "      <td>3.251684e-16</td>\n",
              "      <td>-1.614118e-15</td>\n",
              "      <td>1.182486e-15</td>\n",
              "      <td>-1.282493e-15</td>\n",
              "      <td>-2.759901e-15</td>\n",
              "      <td>-4.685888e-16</td>\n",
              "      <td>-6.251485e-16</td>\n",
              "      <td>-7.349686e-16</td>\n",
              "      <td>1.348302e-15</td>\n",
              "      <td>-3.248065e-16</td>\n",
              "      <td>4.870740e-16</td>\n",
              "      <td>2.851690e-16</td>\n",
              "      <td>-1.074304e-15</td>\n",
              "      <td>-1.829366e-16</td>\n",
              "      <td>-7.956583e-16</td>\n",
              "      <td>1.024588e-15</td>\n",
              "      <td>-1.930237e-15</td>\n",
              "      <td>1.051075e-15</td>\n",
              "      <td>-2.420804e-16</td>\n",
              "      <td>-1.286790e-15</td>\n",
              "      <td>1.313992e-15</td>\n",
              "      <td>-1.836681e-15</td>\n",
              "      <td>1.229127e-16</td>\n",
              "      <td>-6.135043e-16</td>\n",
              "      <td>1.229122e-16</td>\n",
              "      <td>-8.316568e-16</td>\n",
              "      <td>-4.057927e-16</td>\n",
              "      <td>1.040240e-15</td>\n",
              "      <td>1.229122e-16</td>\n",
              "      <td>1.039082e-15</td>\n",
              "      <td>1.182798e-16</td>\n",
              "      <td>...</td>\n",
              "      <td>-1.025466e-15</td>\n",
              "      <td>-5.175303e-17</td>\n",
              "      <td>-2.621953e-16</td>\n",
              "      <td>1.217547e-16</td>\n",
              "      <td>7.453772e-16</td>\n",
              "      <td>4.026108e-16</td>\n",
              "      <td>4.213624e-16</td>\n",
              "      <td>1.386713e-16</td>\n",
              "      <td>8.669620e-16</td>\n",
              "      <td>2.559774e-16</td>\n",
              "      <td>2.559774e-16</td>\n",
              "      <td>1.229122e-16</td>\n",
              "      <td>-2.049411e-15</td>\n",
              "      <td>1.252266e-16</td>\n",
              "      <td>1.182798e-16</td>\n",
              "      <td>-1.926654e-15</td>\n",
              "      <td>1.356560e-15</td>\n",
              "      <td>1.229127e-16</td>\n",
              "      <td>1.229122e-16</td>\n",
              "      <td>2.262251e-16</td>\n",
              "      <td>1.548567e-15</td>\n",
              "      <td>-1.132955e-16</td>\n",
              "      <td>-1.942777e-16</td>\n",
              "      <td>1.205943e-16</td>\n",
              "      <td>1.182798e-16</td>\n",
              "      <td>-5.648659e-16</td>\n",
              "      <td>5.896618e-17</td>\n",
              "      <td>1.708453e-15</td>\n",
              "      <td>-7.187441e-16</td>\n",
              "      <td>4.833035e-16</td>\n",
              "      <td>-2.491075e-15</td>\n",
              "      <td>-3.537925e-16</td>\n",
              "      <td>-2.594607e-17</td>\n",
              "      <td>-3.540945e-16</td>\n",
              "      <td>-5.201603e-16</td>\n",
              "      <td>1.091630e-15</td>\n",
              "      <td>-3.540934e-16</td>\n",
              "      <td>-5.503890e-16</td>\n",
              "      <td>-2.488525e-17</td>\n",
              "      <td>-3.398254e-17</td>\n",
              "    </tr>\n",
              "    <tr>\n",
              "      <th>std</th>\n",
              "      <td>1.000000e+00</td>\n",
              "      <td>1.000000e+00</td>\n",
              "      <td>1.000000e+00</td>\n",
              "      <td>1.000000e+00</td>\n",
              "      <td>1.000000e+00</td>\n",
              "      <td>1.000000e+00</td>\n",
              "      <td>1.000000e+00</td>\n",
              "      <td>1.000000e+00</td>\n",
              "      <td>1.000000e+00</td>\n",
              "      <td>1.000000e+00</td>\n",
              "      <td>1.000000e+00</td>\n",
              "      <td>1.000000e+00</td>\n",
              "      <td>1.000000e+00</td>\n",
              "      <td>1.000000e+00</td>\n",
              "      <td>1.000000e+00</td>\n",
              "      <td>1.000000e+00</td>\n",
              "      <td>1.000000e+00</td>\n",
              "      <td>1.000000e+00</td>\n",
              "      <td>1.000000e+00</td>\n",
              "      <td>1.000000e+00</td>\n",
              "      <td>1.000000e+00</td>\n",
              "      <td>1.000000e+00</td>\n",
              "      <td>1.000000e+00</td>\n",
              "      <td>1.000000e+00</td>\n",
              "      <td>1.000000e+00</td>\n",
              "      <td>1.000000e+00</td>\n",
              "      <td>1.000000e+00</td>\n",
              "      <td>1.000000e+00</td>\n",
              "      <td>1.000000e+00</td>\n",
              "      <td>1.000000e+00</td>\n",
              "      <td>1.000000e+00</td>\n",
              "      <td>1.000000e+00</td>\n",
              "      <td>1.000000e+00</td>\n",
              "      <td>1.000000e+00</td>\n",
              "      <td>1.000000e+00</td>\n",
              "      <td>1.000000e+00</td>\n",
              "      <td>1.000000e+00</td>\n",
              "      <td>1.000000e+00</td>\n",
              "      <td>1.000000e+00</td>\n",
              "      <td>1.000000e+00</td>\n",
              "      <td>...</td>\n",
              "      <td>1.000000e+00</td>\n",
              "      <td>1.000000e+00</td>\n",
              "      <td>1.000000e+00</td>\n",
              "      <td>1.000000e+00</td>\n",
              "      <td>1.000000e+00</td>\n",
              "      <td>1.000000e+00</td>\n",
              "      <td>1.000000e+00</td>\n",
              "      <td>1.000000e+00</td>\n",
              "      <td>1.000000e+00</td>\n",
              "      <td>1.000000e+00</td>\n",
              "      <td>1.000000e+00</td>\n",
              "      <td>1.000000e+00</td>\n",
              "      <td>1.000000e+00</td>\n",
              "      <td>1.000000e+00</td>\n",
              "      <td>1.000000e+00</td>\n",
              "      <td>1.000000e+00</td>\n",
              "      <td>1.000000e+00</td>\n",
              "      <td>1.000000e+00</td>\n",
              "      <td>1.000000e+00</td>\n",
              "      <td>1.000000e+00</td>\n",
              "      <td>1.000000e+00</td>\n",
              "      <td>1.000000e+00</td>\n",
              "      <td>1.000000e+00</td>\n",
              "      <td>1.000000e+00</td>\n",
              "      <td>1.000000e+00</td>\n",
              "      <td>1.000000e+00</td>\n",
              "      <td>1.000000e+00</td>\n",
              "      <td>1.000000e+00</td>\n",
              "      <td>1.000000e+00</td>\n",
              "      <td>1.000000e+00</td>\n",
              "      <td>1.000000e+00</td>\n",
              "      <td>1.000000e+00</td>\n",
              "      <td>1.000000e+00</td>\n",
              "      <td>1.000000e+00</td>\n",
              "      <td>1.000000e+00</td>\n",
              "      <td>1.000000e+00</td>\n",
              "      <td>1.000000e+00</td>\n",
              "      <td>1.000000e+00</td>\n",
              "      <td>1.000000e+00</td>\n",
              "      <td>1.000000e+00</td>\n",
              "    </tr>\n",
              "    <tr>\n",
              "      <th>min</th>\n",
              "      <td>-6.086965e-01</td>\n",
              "      <td>-1.082252e+00</td>\n",
              "      <td>-3.524661e+00</td>\n",
              "      <td>-2.388995e-02</td>\n",
              "      <td>-2.995252e-02</td>\n",
              "      <td>-1.805690e-02</td>\n",
              "      <td>-4.695724e-02</td>\n",
              "      <td>-1.563709e-02</td>\n",
              "      <td>-5.270894e-02</td>\n",
              "      <td>-3.361646e-01</td>\n",
              "      <td>-5.860187e-02</td>\n",
              "      <td>-3.926127e-01</td>\n",
              "      <td>-1.030699e-01</td>\n",
              "      <td>-7.183404e-02</td>\n",
              "      <td>-3.256448e-02</td>\n",
              "      <td>-6.648090e-02</td>\n",
              "      <td>-5.998583e-02</td>\n",
              "      <td>-1.351083e-01</td>\n",
              "      <td>-1.770516e-01</td>\n",
              "      <td>-7.682215e-02</td>\n",
              "      <td>-9.027345e-03</td>\n",
              "      <td>-1.563709e-02</td>\n",
              "      <td>-2.554047e-02</td>\n",
              "      <td>-9.648029e-01</td>\n",
              "      <td>-4.882107e-01</td>\n",
              "      <td>-6.047238e-01</td>\n",
              "      <td>-1.303400e-01</td>\n",
              "      <td>-1.957760e-01</td>\n",
              "      <td>-2.709087e-02</td>\n",
              "      <td>-1.450535e+00</td>\n",
              "      <td>-2.554047e-02</td>\n",
              "      <td>-1.276711e-02</td>\n",
              "      <td>-9.027345e-03</td>\n",
              "      <td>-1.276711e-02</td>\n",
              "      <td>-1.805690e-02</td>\n",
              "      <td>-2.018905e-02</td>\n",
              "      <td>-9.027345e-03</td>\n",
              "      <td>-1.276711e-02</td>\n",
              "      <td>-9.027345e-03</td>\n",
              "      <td>-1.276711e-02</td>\n",
              "      <td>...</td>\n",
              "      <td>-6.770638e-02</td>\n",
              "      <td>-3.128567e-02</td>\n",
              "      <td>-2.018905e-02</td>\n",
              "      <td>-1.276711e-02</td>\n",
              "      <td>-2.855745e-02</td>\n",
              "      <td>-2.063065e-01</td>\n",
              "      <td>-1.563709e-02</td>\n",
              "      <td>-9.027345e-03</td>\n",
              "      <td>-2.344266e+00</td>\n",
              "      <td>-2.554047e-02</td>\n",
              "      <td>-2.554047e-02</td>\n",
              "      <td>-1.276711e-02</td>\n",
              "      <td>-1.563709e-02</td>\n",
              "      <td>-1.276711e-02</td>\n",
              "      <td>-1.276711e-02</td>\n",
              "      <td>-1.563709e-02</td>\n",
              "      <td>-3.002778e-01</td>\n",
              "      <td>-1.276711e-02</td>\n",
              "      <td>-1.276711e-02</td>\n",
              "      <td>-1.563709e-02</td>\n",
              "      <td>-9.027345e-03</td>\n",
              "      <td>-6.396081e-02</td>\n",
              "      <td>-9.027345e-03</td>\n",
              "      <td>-1.276711e-02</td>\n",
              "      <td>-1.276711e-02</td>\n",
              "      <td>-9.027345e-03</td>\n",
              "      <td>-4.695724e-02</td>\n",
              "      <td>-2.211689e-02</td>\n",
              "      <td>-1.805690e-02</td>\n",
              "      <td>-7.409154e-02</td>\n",
              "      <td>-1.563709e-02</td>\n",
              "      <td>-2.018905e-02</td>\n",
              "      <td>-4.140225e-02</td>\n",
              "      <td>-9.027345e-03</td>\n",
              "      <td>-1.563709e-02</td>\n",
              "      <td>-9.027345e-03</td>\n",
              "      <td>-9.027345e-03</td>\n",
              "      <td>-9.027345e-03</td>\n",
              "      <td>-4.867054e+00</td>\n",
              "      <td>-2.054464e-01</td>\n",
              "    </tr>\n",
              "    <tr>\n",
              "      <th>25%</th>\n",
              "      <td>-4.516443e-01</td>\n",
              "      <td>-6.550167e-01</td>\n",
              "      <td>-2.802074e-01</td>\n",
              "      <td>-2.388995e-02</td>\n",
              "      <td>-2.995252e-02</td>\n",
              "      <td>-1.805690e-02</td>\n",
              "      <td>-4.695724e-02</td>\n",
              "      <td>-1.563709e-02</td>\n",
              "      <td>-5.270894e-02</td>\n",
              "      <td>-3.361646e-01</td>\n",
              "      <td>-5.860187e-02</td>\n",
              "      <td>-3.926127e-01</td>\n",
              "      <td>-1.030699e-01</td>\n",
              "      <td>-7.183404e-02</td>\n",
              "      <td>-3.256448e-02</td>\n",
              "      <td>-6.648090e-02</td>\n",
              "      <td>-5.998583e-02</td>\n",
              "      <td>-1.351083e-01</td>\n",
              "      <td>-1.770516e-01</td>\n",
              "      <td>-7.682215e-02</td>\n",
              "      <td>-9.027345e-03</td>\n",
              "      <td>-1.563709e-02</td>\n",
              "      <td>-2.554047e-02</td>\n",
              "      <td>-9.648029e-01</td>\n",
              "      <td>-4.882107e-01</td>\n",
              "      <td>-6.047238e-01</td>\n",
              "      <td>-1.303400e-01</td>\n",
              "      <td>-1.957760e-01</td>\n",
              "      <td>-2.709087e-02</td>\n",
              "      <td>-1.450535e+00</td>\n",
              "      <td>-2.554047e-02</td>\n",
              "      <td>-1.276711e-02</td>\n",
              "      <td>-9.027345e-03</td>\n",
              "      <td>-1.276711e-02</td>\n",
              "      <td>-1.805690e-02</td>\n",
              "      <td>-2.018905e-02</td>\n",
              "      <td>-9.027345e-03</td>\n",
              "      <td>-1.276711e-02</td>\n",
              "      <td>-9.027345e-03</td>\n",
              "      <td>-1.276711e-02</td>\n",
              "      <td>...</td>\n",
              "      <td>-6.770638e-02</td>\n",
              "      <td>-3.128567e-02</td>\n",
              "      <td>-2.018905e-02</td>\n",
              "      <td>-1.276711e-02</td>\n",
              "      <td>-2.855745e-02</td>\n",
              "      <td>-2.063065e-01</td>\n",
              "      <td>-1.563709e-02</td>\n",
              "      <td>-9.027345e-03</td>\n",
              "      <td>4.265380e-01</td>\n",
              "      <td>-2.554047e-02</td>\n",
              "      <td>-2.554047e-02</td>\n",
              "      <td>-1.276711e-02</td>\n",
              "      <td>-1.563709e-02</td>\n",
              "      <td>-1.276711e-02</td>\n",
              "      <td>-1.276711e-02</td>\n",
              "      <td>-1.563709e-02</td>\n",
              "      <td>-3.002778e-01</td>\n",
              "      <td>-1.276711e-02</td>\n",
              "      <td>-1.276711e-02</td>\n",
              "      <td>-1.563709e-02</td>\n",
              "      <td>-9.027345e-03</td>\n",
              "      <td>-6.396081e-02</td>\n",
              "      <td>-9.027345e-03</td>\n",
              "      <td>-1.276711e-02</td>\n",
              "      <td>-1.276711e-02</td>\n",
              "      <td>-9.027345e-03</td>\n",
              "      <td>-4.695724e-02</td>\n",
              "      <td>-2.211689e-02</td>\n",
              "      <td>-1.805690e-02</td>\n",
              "      <td>-7.409154e-02</td>\n",
              "      <td>-1.563709e-02</td>\n",
              "      <td>-2.018905e-02</td>\n",
              "      <td>-4.140225e-02</td>\n",
              "      <td>-9.027345e-03</td>\n",
              "      <td>-1.563709e-02</td>\n",
              "      <td>-9.027345e-03</td>\n",
              "      <td>-9.027345e-03</td>\n",
              "      <td>-9.027345e-03</td>\n",
              "      <td>2.054464e-01</td>\n",
              "      <td>-2.054464e-01</td>\n",
              "    </tr>\n",
              "    <tr>\n",
              "      <th>50%</th>\n",
              "      <td>-1.338846e-01</td>\n",
              "      <td>-2.698043e-01</td>\n",
              "      <td>1.832859e-01</td>\n",
              "      <td>-2.388995e-02</td>\n",
              "      <td>-2.995252e-02</td>\n",
              "      <td>-1.805690e-02</td>\n",
              "      <td>-4.695724e-02</td>\n",
              "      <td>-1.563709e-02</td>\n",
              "      <td>-5.270894e-02</td>\n",
              "      <td>-3.361646e-01</td>\n",
              "      <td>-5.860187e-02</td>\n",
              "      <td>-3.926127e-01</td>\n",
              "      <td>-1.030699e-01</td>\n",
              "      <td>-7.183404e-02</td>\n",
              "      <td>-3.256448e-02</td>\n",
              "      <td>-6.648090e-02</td>\n",
              "      <td>-5.998583e-02</td>\n",
              "      <td>-1.351083e-01</td>\n",
              "      <td>-1.770516e-01</td>\n",
              "      <td>-7.682215e-02</td>\n",
              "      <td>-9.027345e-03</td>\n",
              "      <td>-1.563709e-02</td>\n",
              "      <td>-2.554047e-02</td>\n",
              "      <td>-9.648029e-01</td>\n",
              "      <td>-4.882107e-01</td>\n",
              "      <td>-6.047238e-01</td>\n",
              "      <td>-1.303400e-01</td>\n",
              "      <td>-1.957760e-01</td>\n",
              "      <td>-2.709087e-02</td>\n",
              "      <td>6.893444e-01</td>\n",
              "      <td>-2.554047e-02</td>\n",
              "      <td>-1.276711e-02</td>\n",
              "      <td>-9.027345e-03</td>\n",
              "      <td>-1.276711e-02</td>\n",
              "      <td>-1.805690e-02</td>\n",
              "      <td>-2.018905e-02</td>\n",
              "      <td>-9.027345e-03</td>\n",
              "      <td>-1.276711e-02</td>\n",
              "      <td>-9.027345e-03</td>\n",
              "      <td>-1.276711e-02</td>\n",
              "      <td>...</td>\n",
              "      <td>-6.770638e-02</td>\n",
              "      <td>-3.128567e-02</td>\n",
              "      <td>-2.018905e-02</td>\n",
              "      <td>-1.276711e-02</td>\n",
              "      <td>-2.855745e-02</td>\n",
              "      <td>-2.063065e-01</td>\n",
              "      <td>-1.563709e-02</td>\n",
              "      <td>-9.027345e-03</td>\n",
              "      <td>4.265380e-01</td>\n",
              "      <td>-2.554047e-02</td>\n",
              "      <td>-2.554047e-02</td>\n",
              "      <td>-1.276711e-02</td>\n",
              "      <td>-1.563709e-02</td>\n",
              "      <td>-1.276711e-02</td>\n",
              "      <td>-1.276711e-02</td>\n",
              "      <td>-1.563709e-02</td>\n",
              "      <td>-3.002778e-01</td>\n",
              "      <td>-1.276711e-02</td>\n",
              "      <td>-1.276711e-02</td>\n",
              "      <td>-1.563709e-02</td>\n",
              "      <td>-9.027345e-03</td>\n",
              "      <td>-6.396081e-02</td>\n",
              "      <td>-9.027345e-03</td>\n",
              "      <td>-1.276711e-02</td>\n",
              "      <td>-1.276711e-02</td>\n",
              "      <td>-9.027345e-03</td>\n",
              "      <td>-4.695724e-02</td>\n",
              "      <td>-2.211689e-02</td>\n",
              "      <td>-1.805690e-02</td>\n",
              "      <td>-7.409154e-02</td>\n",
              "      <td>-1.563709e-02</td>\n",
              "      <td>-2.018905e-02</td>\n",
              "      <td>-4.140225e-02</td>\n",
              "      <td>-9.027345e-03</td>\n",
              "      <td>-1.563709e-02</td>\n",
              "      <td>-9.027345e-03</td>\n",
              "      <td>-9.027345e-03</td>\n",
              "      <td>-9.027345e-03</td>\n",
              "      <td>2.054464e-01</td>\n",
              "      <td>-2.054464e-01</td>\n",
              "    </tr>\n",
              "    <tr>\n",
              "      <th>75%</th>\n",
              "      <td>1.052027e-01</td>\n",
              "      <td>3.955625e-01</td>\n",
              "      <td>7.626525e-01</td>\n",
              "      <td>-2.388995e-02</td>\n",
              "      <td>-2.995252e-02</td>\n",
              "      <td>-1.805690e-02</td>\n",
              "      <td>-4.695724e-02</td>\n",
              "      <td>-1.563709e-02</td>\n",
              "      <td>-5.270894e-02</td>\n",
              "      <td>-3.361646e-01</td>\n",
              "      <td>-5.860187e-02</td>\n",
              "      <td>-3.926127e-01</td>\n",
              "      <td>-1.030699e-01</td>\n",
              "      <td>-7.183404e-02</td>\n",
              "      <td>-3.256448e-02</td>\n",
              "      <td>-6.648090e-02</td>\n",
              "      <td>-5.998583e-02</td>\n",
              "      <td>-1.351083e-01</td>\n",
              "      <td>-1.770516e-01</td>\n",
              "      <td>-7.682215e-02</td>\n",
              "      <td>-9.027345e-03</td>\n",
              "      <td>-1.563709e-02</td>\n",
              "      <td>-2.554047e-02</td>\n",
              "      <td>1.036397e+00</td>\n",
              "      <td>-4.882107e-01</td>\n",
              "      <td>1.653513e+00</td>\n",
              "      <td>-1.303400e-01</td>\n",
              "      <td>-1.957760e-01</td>\n",
              "      <td>-2.709087e-02</td>\n",
              "      <td>6.893444e-01</td>\n",
              "      <td>-2.554047e-02</td>\n",
              "      <td>-1.276711e-02</td>\n",
              "      <td>-9.027345e-03</td>\n",
              "      <td>-1.276711e-02</td>\n",
              "      <td>-1.805690e-02</td>\n",
              "      <td>-2.018905e-02</td>\n",
              "      <td>-9.027345e-03</td>\n",
              "      <td>-1.276711e-02</td>\n",
              "      <td>-9.027345e-03</td>\n",
              "      <td>-1.276711e-02</td>\n",
              "      <td>...</td>\n",
              "      <td>-6.770638e-02</td>\n",
              "      <td>-3.128567e-02</td>\n",
              "      <td>-2.018905e-02</td>\n",
              "      <td>-1.276711e-02</td>\n",
              "      <td>-2.855745e-02</td>\n",
              "      <td>-2.063065e-01</td>\n",
              "      <td>-1.563709e-02</td>\n",
              "      <td>-9.027345e-03</td>\n",
              "      <td>4.265380e-01</td>\n",
              "      <td>-2.554047e-02</td>\n",
              "      <td>-2.554047e-02</td>\n",
              "      <td>-1.276711e-02</td>\n",
              "      <td>-1.563709e-02</td>\n",
              "      <td>-1.276711e-02</td>\n",
              "      <td>-1.276711e-02</td>\n",
              "      <td>-1.563709e-02</td>\n",
              "      <td>-3.002778e-01</td>\n",
              "      <td>-1.276711e-02</td>\n",
              "      <td>-1.276711e-02</td>\n",
              "      <td>-1.563709e-02</td>\n",
              "      <td>-9.027345e-03</td>\n",
              "      <td>-6.396081e-02</td>\n",
              "      <td>-9.027345e-03</td>\n",
              "      <td>-1.276711e-02</td>\n",
              "      <td>-1.276711e-02</td>\n",
              "      <td>-9.027345e-03</td>\n",
              "      <td>-4.695724e-02</td>\n",
              "      <td>-2.211689e-02</td>\n",
              "      <td>-1.805690e-02</td>\n",
              "      <td>-7.409154e-02</td>\n",
              "      <td>-1.563709e-02</td>\n",
              "      <td>-2.018905e-02</td>\n",
              "      <td>-4.140225e-02</td>\n",
              "      <td>-9.027345e-03</td>\n",
              "      <td>-1.563709e-02</td>\n",
              "      <td>-9.027345e-03</td>\n",
              "      <td>-9.027345e-03</td>\n",
              "      <td>-9.027345e-03</td>\n",
              "      <td>2.054464e-01</td>\n",
              "      <td>-2.054464e-01</td>\n",
              "    </tr>\n",
              "    <tr>\n",
              "      <th>max</th>\n",
              "      <td>1.366942e+01</td>\n",
              "      <td>9.311477e+00</td>\n",
              "      <td>1.342019e+00</td>\n",
              "      <td>4.185519e+01</td>\n",
              "      <td>3.338345e+01</td>\n",
              "      <td>5.537599e+01</td>\n",
              "      <td>2.129424e+01</td>\n",
              "      <td>6.394529e+01</td>\n",
              "      <td>1.897057e+01</td>\n",
              "      <td>2.974490e+00</td>\n",
              "      <td>1.706291e+01</td>\n",
              "      <td>2.546832e+00</td>\n",
              "      <td>9.701359e+00</td>\n",
              "      <td>1.391984e+01</td>\n",
              "      <td>3.070580e+01</td>\n",
              "      <td>1.504069e+01</td>\n",
              "      <td>1.666924e+01</td>\n",
              "      <td>7.400865e+00</td>\n",
              "      <td>5.647612e+00</td>\n",
              "      <td>1.301602e+01</td>\n",
              "      <td>1.107655e+02</td>\n",
              "      <td>6.394529e+01</td>\n",
              "      <td>3.915035e+01</td>\n",
              "      <td>1.036397e+00</td>\n",
              "      <td>2.048129e+00</td>\n",
              "      <td>1.653513e+00</td>\n",
              "      <td>7.671619e+00</td>\n",
              "      <td>5.107463e+00</td>\n",
              "      <td>3.690980e+01</td>\n",
              "      <td>6.893444e-01</td>\n",
              "      <td>3.915035e+01</td>\n",
              "      <td>7.831986e+01</td>\n",
              "      <td>1.107655e+02</td>\n",
              "      <td>7.831986e+01</td>\n",
              "      <td>5.537599e+01</td>\n",
              "      <td>4.952777e+01</td>\n",
              "      <td>1.107655e+02</td>\n",
              "      <td>7.831986e+01</td>\n",
              "      <td>1.107655e+02</td>\n",
              "      <td>7.831986e+01</td>\n",
              "      <td>...</td>\n",
              "      <td>1.476845e+01</td>\n",
              "      <td>3.196091e+01</td>\n",
              "      <td>4.952777e+01</td>\n",
              "      <td>7.831986e+01</td>\n",
              "      <td>3.501428e+01</td>\n",
              "      <td>4.846762e+00</td>\n",
              "      <td>6.394529e+01</td>\n",
              "      <td>1.107655e+02</td>\n",
              "      <td>4.265380e-01</td>\n",
              "      <td>3.915035e+01</td>\n",
              "      <td>3.915035e+01</td>\n",
              "      <td>7.831986e+01</td>\n",
              "      <td>6.394529e+01</td>\n",
              "      <td>7.831986e+01</td>\n",
              "      <td>7.831986e+01</td>\n",
              "      <td>6.394529e+01</td>\n",
              "      <td>3.329978e+00</td>\n",
              "      <td>7.831986e+01</td>\n",
              "      <td>7.831986e+01</td>\n",
              "      <td>6.394529e+01</td>\n",
              "      <td>1.107655e+02</td>\n",
              "      <td>1.563330e+01</td>\n",
              "      <td>1.107655e+02</td>\n",
              "      <td>7.831986e+01</td>\n",
              "      <td>7.831986e+01</td>\n",
              "      <td>1.107655e+02</td>\n",
              "      <td>2.129424e+01</td>\n",
              "      <td>4.521062e+01</td>\n",
              "      <td>5.537599e+01</td>\n",
              "      <td>1.349572e+01</td>\n",
              "      <td>6.394529e+01</td>\n",
              "      <td>4.952777e+01</td>\n",
              "      <td>2.415131e+01</td>\n",
              "      <td>1.107655e+02</td>\n",
              "      <td>6.394529e+01</td>\n",
              "      <td>1.107655e+02</td>\n",
              "      <td>1.107655e+02</td>\n",
              "      <td>1.107655e+02</td>\n",
              "      <td>2.054464e-01</td>\n",
              "      <td>4.867054e+00</td>\n",
              "    </tr>\n",
              "  </tbody>\n",
              "</table>\n",
              "<p>8 rows × 332 columns</p>\n",
              "</div>"
            ],
            "text/plain": [
              "         KMs Driven         Price  ...          Cash  Installment/Leasing\n",
              "count  1.227100e+04  1.227100e+04  ...  1.227100e+04         1.227100e+04\n",
              "mean  -7.223552e-17  6.566701e-17  ... -2.488525e-17        -3.398254e-17\n",
              "std    1.000000e+00  1.000000e+00  ...  1.000000e+00         1.000000e+00\n",
              "min   -6.086965e-01 -1.082252e+00  ... -4.867054e+00        -2.054464e-01\n",
              "25%   -4.516443e-01 -6.550167e-01  ...  2.054464e-01        -2.054464e-01\n",
              "50%   -1.338846e-01 -2.698043e-01  ...  2.054464e-01        -2.054464e-01\n",
              "75%    1.052027e-01  3.955625e-01  ...  2.054464e-01        -2.054464e-01\n",
              "max    1.366942e+01  9.311477e+00  ...  2.054464e-01         4.867054e+00\n",
              "\n",
              "[8 rows x 332 columns]"
            ]
          },
          "metadata": {
            "tags": []
          },
          "execution_count": 179
        }
      ]
    },
    {
      "cell_type": "code",
      "metadata": {
        "id": "ofNeRKLP_xtR",
        "colab": {
          "base_uri": "https://localhost:8080/"
        },
        "outputId": "3822d85e-e23b-444e-beb7-8955afb408cd"
      },
      "source": [
        "X = data_stand\n",
        "y = condition_\n",
        "from sklearn.model_selection import train_test_split\n",
        "X_train, X_test, y_train, y_test = train_test_split(X, y, test_size = 0.3, random_state = 42)\n",
        "\n",
        "N_train, _ = X_train.shape \n",
        "N_test,  _ = X_test.shape \n",
        "\n",
        "print(N_train, N_test)"
      ],
      "execution_count": 180,
      "outputs": [
        {
          "output_type": "stream",
          "text": [
            "8589 3682\n"
          ],
          "name": "stdout"
        }
      ]
    },
    {
      "cell_type": "code",
      "metadata": {
        "id": "MC11_mXIAblC",
        "colab": {
          "base_uri": "https://localhost:8080/"
        },
        "outputId": "f16f0305-dd79-4762-e5ca-0427ffe4acf3"
      },
      "source": [
        "from sklearn.neighbors import KNeighborsClassifier\n",
        "\n",
        "knn = KNeighborsClassifier(n_neighbors = 10)\n",
        "knn.fit(X_train, y_train)"
      ],
      "execution_count": 181,
      "outputs": [
        {
          "output_type": "execute_result",
          "data": {
            "text/plain": [
              "KNeighborsClassifier(algorithm='auto', leaf_size=30, metric='minkowski',\n",
              "                     metric_params=None, n_jobs=None, n_neighbors=10, p=2,\n",
              "                     weights='uniform')"
            ]
          },
          "metadata": {
            "tags": []
          },
          "execution_count": 181
        }
      ]
    },
    {
      "cell_type": "code",
      "metadata": {
        "id": "MlRRVPCHCYfc",
        "colab": {
          "base_uri": "https://localhost:8080/"
        },
        "outputId": "c54befcd-678d-43e0-9ed1-6f2b427d8b70"
      },
      "source": [
        "y_train_predict = knn.predict(X_train)\n",
        "y_test_predict = knn.predict(X_test)\n",
        "\n",
        "err_train = np.mean(y_train != y_train_predict)\n",
        "err_test  = np.mean(y_test  != y_test_predict)\n",
        "\n",
        "print(err_train, err_test)"
      ],
      "execution_count": 182,
      "outputs": [
        {
          "output_type": "stream",
          "text": [
            "0.14052858307137037 0.1670287887017925\n"
          ],
          "name": "stdout"
        }
      ]
    },
    {
      "cell_type": "code",
      "metadata": {
        "id": "z4NJhv1oELrI",
        "colab": {
          "base_uri": "https://localhost:8080/"
        },
        "outputId": "db5123b7-6f73-4fcd-9ca9-c60441ba6fd0"
      },
      "source": [
        "from sklearn.metrics import confusion_matrix\n",
        "\n",
        "print(confusion_matrix(y_test, y_test_predict))"
      ],
      "execution_count": 183,
      "outputs": [
        {
          "output_type": "stream",
          "text": [
            "[[ 235  437]\n",
            " [ 178 2832]]\n"
          ],
          "name": "stdout"
        }
      ]
    },
    {
      "cell_type": "markdown",
      "metadata": {
        "id": "_swId_IMCqf0"
      },
      "source": [
        "## Применение PCA"
      ]
    },
    {
      "cell_type": "code",
      "metadata": {
        "id": "ebRXBsROCxhE",
        "colab": {
          "base_uri": "https://localhost:8080/"
        },
        "outputId": "b9b54ce2-2498-465f-e13d-38ad58f57cc6"
      },
      "source": [
        "from sklearn.decomposition import PCA\r\n",
        "pca = PCA(n_components=2)\r\n",
        "X_pca = pca.fit_transform(data_stand)\r\n",
        "print(\"Главные компоненты (по строкам):\")\r\n",
        "print(pca.components_)\r\n",
        "print(\"Дисперсии по главным компонентам,Cобственные значения вдоль каждой компоненты:\")\r\n",
        "print(pca.explained_variance_)\r\n",
        "print(\"Среднеквадратические отклонения:\")\r\n",
        "print(np.sqrt(pca.explained_variance_))\r\n",
        "print(\"Соответствующие сингулярные значения:\")\r\n",
        "print(pca.singular_values_)"
      ],
      "execution_count": 184,
      "outputs": [
        {
          "output_type": "stream",
          "text": [
            "Главные компоненты (по строкам):\n",
            "[[-4.63426277e-02  3.75035955e-01  3.32932385e-01  2.03491232e-02\n",
            "   1.82466857e-02 -6.23035329e-03  7.85154276e-03 -1.07101746e-02\n",
            "  -3.79602500e-02 -5.86929352e-03  4.23670336e-02  1.35730467e-01\n",
            "  -2.29524327e-02 -4.14265871e-02  2.89049349e-02  1.97998733e-02\n",
            "   2.73432057e-02 -5.65509944e-03  3.06795120e-02 -6.80359000e-03\n",
            "   1.21606625e-02  1.31480713e-02  5.04938138e-03 -3.28072538e-01\n",
            "   2.91454039e-01 -3.78126865e-01  6.14671566e-02  7.22702152e-02\n",
            "  -1.76946024e-02  3.13313688e-01 -1.13487612e-02 -1.61299805e-03\n",
            "   2.58947242e-04 -8.81104082e-04  6.96046840e-03 -8.05135534e-03\n",
            "   9.02289807e-03  8.68060323e-03  3.93133113e-03 -2.33269512e-03\n",
            "  -6.54504718e-03 -4.40731170e-04  1.15281258e-02  1.20324527e-02\n",
            "   1.05384494e-02  5.95864652e-03 -4.70709845e-03 -6.40369135e-03\n",
            "   6.13307933e-03  1.46634281e-02  1.13515054e-02  1.45203576e-02\n",
            "  -3.57768986e-03 -1.04488223e-01 -2.38584742e-03  8.01260689e-02\n",
            "  -6.96622163e-03 -1.43547575e-03  1.17469510e-02  1.61327116e-02\n",
            "   5.05887097e-03  3.83661323e-03  2.99631636e-02 -4.52118120e-02\n",
            "   9.97216940e-04  2.82167644e-02  6.18602001e-03 -8.65055666e-02\n",
            "   1.07109110e-02  2.07430159e-02  5.91515793e-03  1.28809590e-02\n",
            "   3.73776188e-03  4.16985289e-03  1.51081590e-02  1.76064170e-03\n",
            "   2.04313419e-02  1.16611426e-02  6.07500765e-03  2.26245241e-02\n",
            "  -2.65550183e-02  1.59861352e-02  1.21606625e-02 -3.88913349e-03\n",
            "  -1.00375729e-01 -7.36683167e-03 -5.91860236e-03  5.26521112e-03\n",
            "  -5.70979809e-03  4.52948004e-02  2.50503300e-02  7.21969218e-02\n",
            "   2.01044034e-02 -1.37827320e-02  5.36416117e-03  3.96835042e-02\n",
            "   2.00022521e-02  2.80085901e-02  7.96688089e-02 -3.17656055e-02\n",
            "   2.80933550e-02  9.07686460e-03  3.27037760e-03  8.97669017e-03\n",
            "   2.56537239e-02  1.96918219e-02  3.79901180e-02  3.61009994e-02\n",
            "   1.39869976e-01  8.29407428e-04  8.03935770e-02  3.24402665e-03\n",
            "   9.10503858e-02  4.22869105e-03  7.21347221e-03  4.74512827e-03\n",
            "   5.61791281e-03 -2.50298582e-02 -3.81582082e-02 -9.15910583e-02\n",
            "  -2.19310194e-02  3.41563639e-02  2.62926030e-02  2.51279706e-03\n",
            "   2.82715893e-03  1.22448756e-02  5.69480817e-03  8.32596292e-03\n",
            "   1.40780192e-03  1.46958514e-02  7.85340670e-03  6.45475552e-04\n",
            "   6.20306636e-03  3.98047334e-03 -2.39582652e-02 -4.73877939e-06\n",
            "  -9.94213949e-02  2.55805062e-03  4.40979913e-03  2.98946424e-02\n",
            "   1.61433614e-02  9.15865587e-03  6.43182139e-03  3.81893015e-02\n",
            "   2.16258798e-02 -8.76142179e-03  1.89942304e-02 -1.01253963e-03\n",
            "   8.51905135e-04  1.61572561e-02  1.12792129e-02  3.38599522e-02\n",
            "   6.74306959e-02  5.77494625e-03  3.21155799e-03  1.44441357e-03\n",
            "   6.67470936e-03  9.25347857e-03 -6.67993165e-04  7.86614300e-03\n",
            "   8.78669828e-03  8.56948011e-03  5.07738960e-03 -2.45907113e-03\n",
            "   3.18612864e-03  1.49744607e-02 -2.63626504e-03 -1.35903679e-01\n",
            "   3.62441447e-03 -9.67831493e-03  5.41969180e-03 -3.50690498e-02\n",
            "  -7.27134624e-03  3.85727858e-02 -2.88107957e-02  1.08593419e-02\n",
            "   2.51874300e-03 -9.16719202e-04 -8.26141878e-02  1.44671556e-02\n",
            "   1.03119786e-02  2.39879142e-03 -1.08614834e-01 -6.06838126e-02\n",
            "   3.38339326e-03  6.92470153e-03  5.27327511e-02  3.18742182e-03\n",
            "   1.32244093e-02  1.42914318e-02  2.97500304e-02  1.64440051e-02\n",
            "   1.42629367e-02  2.25058661e-02  3.71633230e-03  9.37139501e-03\n",
            "   3.24789546e-03 -1.01260208e-02  6.01137486e-03 -2.49229334e-04\n",
            "   2.69482045e-03 -3.03336153e-03  7.11090498e-02 -2.49824266e-03\n",
            "   6.69238335e-03  5.38559364e-03  2.91428752e-02  7.17528564e-03\n",
            "   1.13894905e-02 -7.47373447e-03  6.00183364e-02  3.23896954e-02\n",
            "   7.05830268e-03  9.22876114e-03 -2.70824937e-02  5.97377535e-02\n",
            "   1.74738286e-02  1.55171427e-02  5.78504122e-04  1.38729187e-02\n",
            "   6.23928655e-03  2.32134736e-02  1.20200526e-02 -3.97666931e-02\n",
            "   4.35071261e-03  8.80528056e-03 -9.02276865e-03 -1.79422495e-03\n",
            "   1.25410765e-02  2.90537190e-02  1.24848702e-02  5.29240323e-03\n",
            "  -1.18738551e-02  1.19334064e-02  4.74948953e-03  4.89635951e-03\n",
            "   8.77560123e-04  1.34373167e-02  5.94748429e-03  1.44925191e-02\n",
            "   7.49406286e-03  3.42224461e-03  1.27470564e-03  8.85361484e-03\n",
            "  -1.75269265e-02  7.58344146e-03  1.54882969e-02 -4.86572197e-03\n",
            "  -1.03437677e-02 -1.03635485e-02 -3.64615329e-02  2.07461407e-02\n",
            "  -1.13565290e-03  3.58836553e-03  8.62444103e-03  7.38895526e-03\n",
            "   2.82338656e-03  1.06484736e-02  1.66032578e-03  6.14428251e-03\n",
            "   1.93836921e-02  2.49802300e-02  1.03279953e-02  8.75113519e-03\n",
            "   6.18334045e-03  6.35255352e-02  2.51683509e-03  9.61169791e-02\n",
            "   3.44408467e-03  2.25309380e-02  2.94605095e-03  4.96339805e-03\n",
            "   6.96880080e-03  6.20413079e-03  2.49396526e-02  1.45033578e-02\n",
            "   1.28109482e-02  7.19695811e-03 -8.94997681e-04  8.67037616e-03\n",
            "  -2.65359267e-03  2.87043359e-03 -1.46728227e-03 -1.43547575e-03\n",
            "   6.04371388e-03  1.20627760e-03  1.18274835e-02  1.25937996e-02\n",
            "   1.35309881e-02 -8.30415961e-03 -6.47665686e-03 -6.63686750e-03\n",
            "  -9.01414965e-04 -1.91102448e-04 -4.36128097e-03 -4.02744274e-03\n",
            "   3.28487707e-03  9.04457325e-02  1.86994495e-03 -1.19758478e-03\n",
            "  -1.00273046e-01 -1.35612570e-03 -3.11006508e-03  2.66689643e-03\n",
            "  -2.01158407e-03 -9.76919128e-03 -4.09324338e-04  6.78552217e-03\n",
            "   7.13108748e-02  3.65349167e-03 -4.61315706e-03 -1.12686317e-04\n",
            "  -2.13951209e-03 -7.57990577e-03 -4.91006337e-04 -1.29190460e-02\n",
            "  -4.63049017e-03  5.55063075e-04 -5.44862069e-03 -3.62372587e-03\n",
            "  -1.02434329e-02 -1.95601107e-03 -1.02707233e-02 -1.08775733e-02\n",
            "   1.23943385e-03 -7.01972703e-03  1.66825561e-03 -5.45815656e-03\n",
            "   4.12008648e-04  3.59297227e-03 -1.08952846e-01  1.08952846e-01]\n",
            " [ 1.20321840e-01  1.63880406e-01 -2.37613697e-01  2.81490974e-02\n",
            "  -1.98021864e-03  4.82795706e-03 -2.55863930e-02  1.85784747e-02\n",
            "   7.62383806e-02  1.27595248e-01 -1.51565750e-01  1.00707404e-01\n",
            "  -1.19644085e-02  6.89083737e-02  3.77646644e-02 -2.24043344e-02\n",
            "   4.04892737e-02  6.76255525e-02 -4.27481564e-02  2.37223246e-02\n",
            "  -9.51905592e-03  1.64631683e-02  1.77094104e-03 -3.31217501e-01\n",
            "   2.23775159e-01  1.53895707e-01  1.91102626e-01  1.42236425e-01\n",
            "   2.06654822e-03 -2.55757213e-01  1.27381491e-02  8.10363493e-03\n",
            "   1.84874035e-02  2.43377766e-02 -6.28765680e-04  8.53150296e-03\n",
            "  -7.05223893e-03  6.23542620e-03 -1.22545833e-02  2.23857645e-03\n",
            "   6.67364183e-02  8.30264805e-03  2.20516160e-02  1.14077741e-02\n",
            "  -1.23254989e-02 -6.20218868e-03 -2.13431735e-02  3.58144481e-03\n",
            "   2.88490109e-02  2.62882014e-03 -6.02220987e-03  7.51808609e-03\n",
            "   1.04363891e-02 -7.85551743e-02 -1.00197772e-02  8.41196071e-02\n",
            "   2.13435282e-02 -1.29443779e-02 -1.28999653e-02  8.83220476e-03\n",
            "  -4.43749531e-03  4.44433211e-03  2.00443646e-03 -3.38324540e-02\n",
            "   8.75952451e-03  1.15117967e-02 -6.94852518e-03 -4.27549162e-02\n",
            "  -2.59279711e-03  1.93729079e-02  9.70977808e-03  9.30267318e-03\n",
            "  -7.44100409e-04  1.51108753e-02  3.16393277e-02  9.05456563e-03\n",
            "   3.28481947e-03 -1.90768966e-02 -4.38882811e-03 -9.09964740e-02\n",
            "  -1.33926042e-02 -1.56081754e-03 -9.51905592e-03 -7.70569524e-03\n",
            "   1.43905060e-01  1.10070291e-02  4.25203700e-03 -8.37025213e-03\n",
            "   1.31023184e-02 -1.54452247e-02  2.64575395e-02  7.20345714e-03\n",
            "   1.57837763e-02  7.34869559e-02 -4.70479878e-03  2.54567209e-02\n",
            "   2.90044458e-02  1.73898145e-02  2.56701425e-02  4.68973177e-02\n",
            "  -4.17166702e-02 -1.82482912e-02 -1.30761641e-04  4.97933856e-03\n",
            "   3.83702810e-02 -5.24987806e-03  2.56187187e-02  1.40588123e-02\n",
            "   5.74291082e-02  6.60119547e-02  5.01145446e-02  2.56572817e-02\n",
            "   3.22342460e-02  9.24756599e-03  4.72493620e-03  2.03710789e-02\n",
            "  -2.24584750e-02 -2.88403130e-02 -5.26553500e-02 -1.84203043e-01\n",
            "   6.89986990e-02 -3.87274658e-02 -2.92962452e-02 -2.36226556e-03\n",
            "   2.00909617e-02  2.53289054e-02 -2.64711603e-03 -6.15842677e-03\n",
            "   2.89028352e-03  1.85306225e-03 -1.05682570e-02  1.30765574e-03\n",
            "  -7.31955695e-02 -3.44586235e-02  1.38358872e-02 -3.29800782e-03\n",
            "   2.12091816e-02 -2.12532339e-03 -2.81646434e-02  1.72410824e-02\n",
            "  -2.23142806e-02 -8.11167166e-03 -5.32607042e-03  8.49686391e-03\n",
            "   1.58197560e-02  1.53784836e-02  2.17725449e-02  4.21889029e-03\n",
            "   1.20389455e-02  1.34540950e-02 -1.66065903e-02  1.82766941e-02\n",
            "   1.15179205e-01 -4.34873225e-02  7.84401356e-03  8.45938251e-03\n",
            "   3.98646311e-03  1.26414979e-02  2.69025956e-03  1.46932885e-02\n",
            "   5.16004482e-03  6.55953564e-03 -2.67111460e-02 -3.96093377e-03\n",
            "  -8.42271298e-03 -2.46999860e-02 -3.14659392e-02  1.67869250e-02\n",
            "  -3.62830130e-03  3.52624174e-03  1.70949115e-02  5.78910885e-02\n",
            "   1.18856204e-02  6.66544087e-02 -2.86985715e-02 -6.37621574e-03\n",
            "  -7.88382158e-03 -5.99422081e-04  7.44818052e-03  1.79810461e-02\n",
            "   9.53981393e-03 -4.73415463e-03 -4.77846565e-02 -8.63695458e-02\n",
            "   8.57617381e-03  2.12800386e-03  1.91093691e-02  1.78605510e-03\n",
            "  -1.78130740e-03 -2.82564998e-02 -5.46285672e-04  1.35057372e-03\n",
            "  -6.26598967e-03  3.22848068e-03  6.03940718e-03  1.46948487e-03\n",
            "  -5.16765177e-03  6.66880790e-02 -6.31077955e-03  5.70252150e-02\n",
            "   1.33156572e-02 -1.63368858e-02  2.64345551e-02  4.80625490e-03\n",
            "   2.12827511e-02 -6.29406705e-03  4.29663216e-03  2.84390027e-02\n",
            "  -1.60672154e-02 -4.18261166e-03  6.67390916e-02  2.14831183e-02\n",
            "   2.33546535e-03  8.10911991e-03  4.36378281e-02  6.82702119e-02\n",
            "   2.13674310e-02 -1.18399287e-03 -1.41669523e-03  2.75408739e-02\n",
            "   7.38251564e-03  2.15158843e-02 -2.14702080e-02  7.90168626e-02\n",
            "   5.48201747e-03 -1.84434255e-02 -1.74461402e-02  3.88708273e-02\n",
            "  -8.46745080e-03  9.11960883e-03  9.60179141e-03  1.12269440e-03\n",
            "  -1.88897292e-02 -1.09304225e-02 -4.04936549e-03 -2.41282638e-02\n",
            "   5.21806205e-03  1.54210388e-02 -1.97468033e-02 -5.51899169e-02\n",
            "   1.67769393e-03  2.67282483e-03 -1.28753938e-02 -3.42203131e-02\n",
            "   2.96445124e-02  1.65875261e-02  1.45601427e-02  1.64011482e-02\n",
            "   2.54415291e-02  3.39782120e-02  3.82383525e-02  4.96895391e-02\n",
            "  -8.25552031e-02 -2.16232138e-03  6.64503399e-03  8.08288410e-03\n",
            "   1.93176622e-03 -2.34155107e-02  6.19056663e-03  6.55591605e-03\n",
            "   1.31341155e-02 -8.28127832e-02  4.22645717e-03 -1.54463164e-02\n",
            "   6.82277579e-03  4.52221942e-02 -2.08710953e-02  3.11512170e-02\n",
            "   9.65751296e-03 -1.00059024e-01 -1.35203840e-02  2.57081942e-03\n",
            "  -1.24686872e-02  4.10726373e-03 -8.07284697e-02  1.05750418e-03\n",
            "  -1.99026213e-02 -1.24178633e-02 -1.35741123e-02  5.33993342e-03\n",
            "   4.30635330e-03 -8.98679947e-03  5.56698303e-03 -1.29443779e-02\n",
            "   6.35601659e-04 -2.76534346e-02 -6.69493807e-02 -1.33803781e-03\n",
            "   1.46884092e-03 -2.25950280e-03 -4.86327996e-03  1.64331433e-02\n",
            "  -1.39433947e-02 -1.61435537e-02 -2.46994899e-02 -1.06683068e-02\n",
            "  -7.50147680e-03 -4.61346381e-02 -5.42034878e-03 -7.59582314e-03\n",
            "   1.19725553e-01  3.95576601e-03  5.24780184e-03  1.76837508e-03\n",
            "   5.56660965e-03 -5.89461148e-03  3.23832825e-03 -5.43564813e-02\n",
            "  -8.19308492e-02 -1.66958219e-02  4.06250419e-02 -1.74199546e-03\n",
            "  -7.91236862e-03 -2.16629921e-02  1.95741562e-02 -1.90841754e-03\n",
            "  -3.76613082e-03  1.83728312e-02 -1.36482571e-02 -5.79500759e-03\n",
            "   5.38025073e-03 -4.90122433e-02 -5.35022655e-03 -2.58301373e-03\n",
            "  -1.01781092e-02 -3.21179801e-03 -1.53068492e-04  1.85677073e-02\n",
            "   1.02027110e-02  6.32987454e-03  3.30857426e-01 -3.30857426e-01]]\n",
            "Дисперсии по главным компонентам,Cобственные значения вдоль каждой компоненты:\n",
            "[3.57258212 2.55389189]\n",
            "Среднеквадратические отклонения:\n",
            "[1.89012754 1.59809008]\n",
            "Соответствующие сингулярные значения:\n",
            "[209.36948813 177.02048884]\n"
          ],
          "name": "stdout"
        }
      ]
    },
    {
      "cell_type": "code",
      "metadata": {
        "id": "mxEmVkRbC1vA",
        "colab": {
          "base_uri": "https://localhost:8080/",
          "height": 592
        },
        "outputId": "bbbcb61b-5984-4309-ba1b-1bcad96ba330"
      },
      "source": [
        "y = condition_\r\n",
        "\r\n",
        "plt.figure(figsize=(10,10))\r\n",
        "for i in range(len(X_pca)):\r\n",
        "    plt.scatter(X_pca[i, 0], X_pca[i, 1], c= 'red' if y.values[i] == 'Used' else 'blue')"
      ],
      "execution_count": 185,
      "outputs": [
        {
          "output_type": "display_data",
          "data": {
            "image/png": "[encoded data removed]",
            "text/plain": [
              "<Figure size 720x720 with 1 Axes>"
            ]
          },
          "metadata": {
            "tags": [],
            "needs_background": "light"
          }
        }
      ]
    },
    {
      "cell_type": "code",
      "metadata": {
        "id": "22TPFybeDAqg",
        "outputId": "01b2f94d-977f-485b-d859-29a264825a25",
        "colab": {
          "base_uri": "https://localhost:8080/"
        }
      },
      "source": [
        "\r\n",
        "pca = PCA(n_components=2)\r\n",
        "X_pca = pca.fit_transform(data_stand)\r\n",
        "X = X_pca\r\n",
        "y = condition_\r\n",
        "from sklearn.model_selection import train_test_split\r\n",
        "X_train, X_test, y_train, y_test = train_test_split(X, y, test_size = 0.3, random_state = 42)\r\n",
        "\r\n",
        "N_train, _ = X_train.shape \r\n",
        "N_test,  _ = X_test.shape \r\n",
        "\r\n",
        "print(N_train, N_test)"
      ],
      "execution_count": 186,
      "outputs": [
        {
          "output_type": "stream",
          "text": [
            "8589 3682\n"
          ],
          "name": "stdout"
        }
      ]
    },
    {
      "cell_type": "code",
      "metadata": {
        "id": "OFmEuHDEDBXg",
        "outputId": "01eb1ea2-4b25-49b0-e4ba-534b42db0512",
        "colab": {
          "base_uri": "https://localhost:8080/"
        }
      },
      "source": [
        "from sklearn.neighbors import KNeighborsClassifier\r\n",
        "knn = KNeighborsClassifier(n_neighbors = 10)\r\n",
        "knn.fit(X_train, y_train)\r\n",
        "knn.fit(X_test, y_test)\r\n",
        "y_train_predict = knn.predict(X_train)\r\n",
        "y_test_predict = knn.predict(X_test)\r\n",
        "err_train = np.mean(y_train != y_train_predict)\r\n",
        "err_test = np.mean(y_test != y_test_predict)\r\n",
        "\r\n",
        "print(err_train, err_test)"
      ],
      "execution_count": 187,
      "outputs": [
        {
          "output_type": "stream",
          "text": [
            "0.1817440912795436 0.16594242259641498\n"
          ],
          "name": "stdout"
        }
      ]
    },
    {
      "cell_type": "code",
      "metadata": {
        "id": "l6SDR6iqDEr9",
        "outputId": "93eae59f-146d-4cbc-ef51-1fd6e9118882",
        "colab": {
          "base_uri": "https://localhost:8080/",
          "height": 313
        }
      },
      "source": [
        "from sklearn.model_selection import train_test_split\r\n",
        "err_train_list = []\r\n",
        "err_test_list = []\r\n",
        "for n_comp in range(2, 10):\r\n",
        "    pca = PCA(n_components=n_comp)\r\n",
        "    X_pca = pca.fit_transform(data_stand)\r\n",
        "    X_train, X_test, y_train, y_test = train_test_split(X_pca, y, test_size = 0.3, random_state = 42)\r\n",
        "    knn = KNeighborsClassifier(n_neighbors = 10)\r\n",
        "    knn.fit(X_train, y_train)\r\n",
        "    knn.fit(X_test, y_test)\r\n",
        "    y_train_predict = knn.predict(X_train)\r\n",
        "    y_test_predict = knn.predict(X_test)\r\n",
        "    err_train = np.mean(y_train != y_train_predict)\r\n",
        "    err_test = np.mean(y_test != y_test_predict)\r\n",
        "    \r\n",
        "    err_train_list.append(err_train)\r\n",
        "    err_test_list.append(err_test)\r\n",
        "    \r\n",
        "plt.plot(range(2, 10), err_train_list, label=\"Train error\")\r\n",
        "plt.plot(range(2, 10), err_test_list, label=\"Test error\")\r\n",
        "plt.xlabel('n')\r\n",
        "plt.ylabel('error')\r\n",
        "plt.legend()\r\n",
        "plt.show()\r\n",
        "print(min(err_train_list), 2 + err_train_list.index(min(err_train_list)))\r\n",
        "print(min(err_test_list), 2 + err_test_list.index(min(err_test_list)))"
      ],
      "execution_count": 189,
      "outputs": [
        {
          "output_type": "display_data",
          "data": {
            "image/png": "[encoded data removed]",
            "text/plain": [
              "<Figure size 432x288 with 1 Axes>"
            ]
          },
          "metadata": {
            "tags": [],
            "needs_background": "light"
          }
        },
        {
          "output_type": "stream",
          "text": [
            "0.17324484806147397 3\n",
            "0.1510048886474742 9\n"
          ],
          "name": "stdout"
        }
      ]
    },
    {
      "cell_type": "markdown",
      "metadata": {
        "id": "l3UAPcNbnDPV"
      },
      "source": [
        "\r\n",
        "##Применение LDA\r\n"
      ]
    },
    {
      "cell_type": "code",
      "metadata": {
        "id": "Md_qR6_tnPjm",
        "colab": {
          "base_uri": "https://localhost:8080/"
        },
        "outputId": "ad0397bc-8e34-424f-aa7b-df2d6e62b502"
      },
      "source": [
        "from sklearn import discriminant_analysis\r\n",
        "lda_model = discriminant_analysis.LinearDiscriminantAnalysis()\r\n",
        "X = data_stand\r\n",
        "y = condition_\r\n",
        "X_train, X_test, y_train, y_test = train_test_split(X, y, test_size = 0.3, random_state = 42)  \r\n",
        "    \r\n",
        "N_train, _ = X_train.shape \r\n",
        "N_test,  _ = X_test.shape \r\n",
        "print(N_train, N_test)\r\n",
        "\r\n",
        "\r\n",
        "lda_model.fit(X_train, y_train)\r\n",
        "y_pred = lda_model.predict(X_train)\r\n",
        "y_test_pred = lda_model.predict(X_test)\r\n",
        "print (np.mean(y_train != y_pred))\r\n",
        "print (np.mean(y_test != y_test_pred))"
      ],
      "execution_count": 190,
      "outputs": [
        {
          "output_type": "stream",
          "text": [
            "8589 3682\n",
            "0.164862032832693\n",
            "0.18359587180879958\n"
          ],
          "name": "stdout"
        }
      ]
    },
    {
      "cell_type": "code",
      "metadata": {
        "id": "4t-bmL43neJT"
      },
      "source": [
        "from sklearn import neighbors\r\n",
        "err_train = []\r\n",
        "err_test = []\r\n",
        "k_range = range(10, 20)\r\n",
        "for k in k_range:\r\n",
        "    knn_model = neighbors.KNeighborsClassifier(n_neighbors = k)\r\n",
        "    knn_model.fit(X_train, y_train)\r\n",
        "    knn_model.fit(X_test, y_test)\r\n",
        "    y_pred      = knn_model.predict(X_train)\r\n",
        "    y_test_pred = knn_model.predict(X_test)\r\n",
        "    err_train.append(np.mean(y_train != y_pred))\r\n",
        "    err_test.append(np.mean(y_test != y_test_pred))"
      ],
      "execution_count": 191,
      "outputs": []
    },
    {
      "cell_type": "code",
      "metadata": {
        "id": "MthMwUd2nqve",
        "colab": {
          "base_uri": "https://localhost:8080/",
          "height": 282
        },
        "outputId": "1e21e3cc-4bb1-400f-f2b5-6cadc26c7654"
      },
      "source": [
        "plt.plot(k_range, err_train, 'r')\r\n",
        "plt.plot(k_range, err_test, 'b')"
      ],
      "execution_count": 192,
      "outputs": [
        {
          "output_type": "execute_result",
          "data": {
            "text/plain": [
              "[<matplotlib.lines.Line2D at 0x7effa278cdd8>]"
            ]
          },
          "metadata": {
            "tags": []
          },
          "execution_count": 192
        },
        {
          "output_type": "display_data",
          "data": {
            "image/png": "[encoded data removed]",
            "text/plain": [
              "<Figure size 432x288 with 1 Axes>"
            ]
          },
          "metadata": {
            "tags": [],
            "needs_background": "light"
          }
        }
      ]
    },
    {
      "cell_type": "code",
      "metadata": {
        "id": "HBrDZm-RnuFN",
        "colab": {
          "base_uri": "https://localhost:8080/"
        },
        "outputId": "6371ed85-816c-43d1-c3b7-8b2461906667"
      },
      "source": [
        "for iii in range(len(err_train)):\r\n",
        "    print (err_train[iii], err_test[iii])"
      ],
      "execution_count": 193,
      "outputs": [
        {
          "output_type": "stream",
          "text": [
            "0.16940272441494936 0.14937533948940793\n",
            "0.16393060891838399 0.1512764801738186\n",
            "0.1691698684363721 0.15535035306898426\n",
            "0.16462917685411574 0.15697990222705052\n",
            "0.1659098847362906 0.15860945138511678\n",
            "0.164862032832693 0.15562194459532863\n",
            "0.16707416462917685 0.15616512764801738\n",
            "0.1687041564792176 0.15915263443780553\n",
            "0.16835487251135173 0.16268332428028245\n",
            "0.16858772848992898 0.16376969038565997\n"
          ],
          "name": "stdout"
        }
      ]
    }
  ]
}