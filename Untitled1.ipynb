{
  "nbformat": 4,
  "nbformat_minor": 0,
  "metadata": {
    "colab": {
      "name": "Untitled1.ipynb",
      "provenance": [],
      "toc_visible": true,
      "include_colab_link": true
    },
    "kernelspec": {
      "name": "python3",
      "display_name": "Python 3"
    }
  },
  "cells": [
    {
      "cell_type": "markdown",
      "metadata": {
        "id": "view-in-github",
        "colab_type": "text"
      },
      "source": [
        "<a href=\"https://colab.research.google.com/github/pavelbar/lab1_knn/blob/main/Untitled1.ipynb\" target=\"_parent\"><img src=\"https://colab.research.google.com/assets/colab-badge.svg\" alt=\"Open In Colab\"/></a>"
      ]
    },
    {
      "cell_type": "code",
      "metadata": {
        "id": "oJ0avyLEcETi"
      },
      "source": [
        "import numpy as np              # Массивы (матрицы, векторы, линейная алгебра)\n",
        "import matplotlib.pyplot as plt # Научная графика\n",
        "%matplotlib inline \n",
        "    # Говорим jupyter'у, чтобы весь графический вывод был в браузере, а не в отдельном окне\n",
        "import pandas as pd             # Таблицы и временные ряды (dataframe, series)\n",
        "import seaborn as sns           # Еще больше красивой графики для визуализации данных\n",
        "import sklearn                  # Алгоритмы машинного обучения"
      ],
      "execution_count": null,
      "outputs": []
    },
    {
      "cell_type": "code",
      "metadata": {
        "id": "XhqE95fokn3F",
        "outputId": "aea6c155-39f7-4392-aa3f-558094c225ab",
        "colab": {
          "base_uri": "https://localhost:8080/"
        }
      },
      "source": [
        "from google.colab import drive\n",
        "drive.mount('/content/drive')"
      ],
      "execution_count": null,
      "outputs": [
        {
          "output_type": "stream",
          "text": [
            "Drive already mounted at /content/drive; to attempt to forcibly remount, call drive.mount(\"/content/drive\", force_remount=True).\n"
          ],
          "name": "stdout"
        }
      ]
    },
    {
      "cell_type": "markdown",
      "metadata": {
        "id": "fCaaF_1IE1gL"
      },
      "source": [
        "Эти данные касаются подержанных и новых автомобилей, атак-же их цен в Пакистане. "
      ]
    },
    {
      "cell_type": "markdown",
      "metadata": {
        "id": "Bg7vs4DXDY8E"
      },
      "source": [
        "##Предварительная работа с данными"
      ]
    },
    {
      "cell_type": "code",
      "metadata": {
        "id": "r7NJsB0YcPVJ"
      },
      "source": [
        "data = pd.read_csv('/content/drive/My Drive/AAA_LABS/OLX_Car_Data_CSV.csv',  encoding= 'unicode_escape')\n"
      ],
      "execution_count": null,
      "outputs": []
    },
    {
      "cell_type": "code",
      "metadata": {
        "id": "ZNmo5YU7lwY1",
        "outputId": "560b7591-e7b9-43d9-ec23-94c1aae68217",
        "colab": {
          "base_uri": "https://localhost:8080/"
        }
      },
      "source": [
        "data.shape"
      ],
      "execution_count": null,
      "outputs": [
        {
          "output_type": "execute_result",
          "data": {
            "text/plain": [
              "(24973, 9)"
            ]
          },
          "metadata": {
            "tags": []
          },
          "execution_count": 7
        }
      ]
    },
    {
      "cell_type": "code",
      "metadata": {
        "id": "VKe3JSxYl45P",
        "outputId": "b5e9408d-11ee-4fb8-f604-6240895bc57e",
        "colab": {
          "base_uri": "https://localhost:8080/",
          "height": 359
        }
      },
      "source": [
        "data.sample(10)"
      ],
      "execution_count": null,
      "outputs": [
        {
          "output_type": "execute_result",
          "data": {
            "text/html": [
              "<div>\n",
              "<style scoped>\n",
              "    .dataframe tbody tr th:only-of-type {\n",
              "        vertical-align: middle;\n",
              "    }\n",
              "\n",
              "    .dataframe tbody tr th {\n",
              "        vertical-align: top;\n",
              "    }\n",
              "\n",
              "    .dataframe thead th {\n",
              "        text-align: right;\n",
              "    }\n",
              "</style>\n",
              "<table border=\"1\" class=\"dataframe\">\n",
              "  <thead>\n",
              "    <tr style=\"text-align: right;\">\n",
              "      <th></th>\n",
              "      <th>Brand</th>\n",
              "      <th>Condition</th>\n",
              "      <th>Fuel</th>\n",
              "      <th>KMs Driven</th>\n",
              "      <th>Model</th>\n",
              "      <th>Price</th>\n",
              "      <th>Registered City</th>\n",
              "      <th>Transaction Type</th>\n",
              "      <th>Year</th>\n",
              "    </tr>\n",
              "  </thead>\n",
              "  <tbody>\n",
              "    <tr>\n",
              "      <th>15084</th>\n",
              "      <td>Toyota</td>\n",
              "      <td>Used</td>\n",
              "      <td>Petrol</td>\n",
              "      <td>9500.0</td>\n",
              "      <td>Corolla XLI</td>\n",
              "      <td>2025000</td>\n",
              "      <td>NaN</td>\n",
              "      <td>Cash</td>\n",
              "      <td>2017.0</td>\n",
              "    </tr>\n",
              "    <tr>\n",
              "      <th>12660</th>\n",
              "      <td>Honda</td>\n",
              "      <td>Used</td>\n",
              "      <td>Petrol</td>\n",
              "      <td>41000.0</td>\n",
              "      <td>City IVTEC</td>\n",
              "      <td>1800000</td>\n",
              "      <td>Karachi</td>\n",
              "      <td>Cash</td>\n",
              "      <td>2016.0</td>\n",
              "    </tr>\n",
              "    <tr>\n",
              "      <th>1479</th>\n",
              "      <td>Suzuki</td>\n",
              "      <td>Used</td>\n",
              "      <td>Petrol</td>\n",
              "      <td>75000.0</td>\n",
              "      <td>Cultus VXR</td>\n",
              "      <td>699000</td>\n",
              "      <td>Karachi</td>\n",
              "      <td>Cash</td>\n",
              "      <td>2009.0</td>\n",
              "    </tr>\n",
              "    <tr>\n",
              "      <th>20725</th>\n",
              "      <td>Honda</td>\n",
              "      <td>New</td>\n",
              "      <td>Petrol</td>\n",
              "      <td>39000.0</td>\n",
              "      <td>City Aspire</td>\n",
              "      <td>1660000</td>\n",
              "      <td>Karachi</td>\n",
              "      <td>Cash</td>\n",
              "      <td>2015.0</td>\n",
              "    </tr>\n",
              "    <tr>\n",
              "      <th>17682</th>\n",
              "      <td>Daihatsu</td>\n",
              "      <td>Used</td>\n",
              "      <td>Petrol</td>\n",
              "      <td>33900.0</td>\n",
              "      <td>Other</td>\n",
              "      <td>1080000</td>\n",
              "      <td>Karachi</td>\n",
              "      <td>Cash</td>\n",
              "      <td>2017.0</td>\n",
              "    </tr>\n",
              "    <tr>\n",
              "      <th>8525</th>\n",
              "      <td>Toyota</td>\n",
              "      <td>New</td>\n",
              "      <td>Petrol</td>\n",
              "      <td>60000.0</td>\n",
              "      <td>Corolla GLI</td>\n",
              "      <td>1850000</td>\n",
              "      <td>Karachi</td>\n",
              "      <td>Cash</td>\n",
              "      <td>2016.0</td>\n",
              "    </tr>\n",
              "    <tr>\n",
              "      <th>448</th>\n",
              "      <td>Suzuki</td>\n",
              "      <td>Used</td>\n",
              "      <td>Petrol</td>\n",
              "      <td>46600.0</td>\n",
              "      <td>Mehran VXR</td>\n",
              "      <td>600000</td>\n",
              "      <td>Karachi</td>\n",
              "      <td>Cash</td>\n",
              "      <td>2015.0</td>\n",
              "    </tr>\n",
              "    <tr>\n",
              "      <th>10543</th>\n",
              "      <td>Toyota</td>\n",
              "      <td>Used</td>\n",
              "      <td>CNG</td>\n",
              "      <td>2.0</td>\n",
              "      <td>Corolla GLI</td>\n",
              "      <td>1250000</td>\n",
              "      <td>Karachi</td>\n",
              "      <td>Cash</td>\n",
              "      <td>2011.0</td>\n",
              "    </tr>\n",
              "    <tr>\n",
              "      <th>20697</th>\n",
              "      <td>Suzuki</td>\n",
              "      <td>Used</td>\n",
              "      <td>Petrol</td>\n",
              "      <td>80000.0</td>\n",
              "      <td>Alto</td>\n",
              "      <td>465000</td>\n",
              "      <td>Lahore</td>\n",
              "      <td>Cash</td>\n",
              "      <td>2007.0</td>\n",
              "    </tr>\n",
              "    <tr>\n",
              "      <th>20554</th>\n",
              "      <td>Daihatsu</td>\n",
              "      <td>Used</td>\n",
              "      <td>Petrol</td>\n",
              "      <td>4770.0</td>\n",
              "      <td>Mira</td>\n",
              "      <td>1280000</td>\n",
              "      <td>NaN</td>\n",
              "      <td>Cash</td>\n",
              "      <td>2017.0</td>\n",
              "    </tr>\n",
              "  </tbody>\n",
              "</table>\n",
              "</div>"
            ],
            "text/plain": [
              "          Brand Condition    Fuel  ...  Registered City Transaction Type    Year\n",
              "15084    Toyota      Used  Petrol  ...              NaN             Cash  2017.0\n",
              "12660     Honda      Used  Petrol  ...          Karachi             Cash  2016.0\n",
              "1479     Suzuki      Used  Petrol  ...          Karachi             Cash  2009.0\n",
              "20725     Honda       New  Petrol  ...          Karachi             Cash  2015.0\n",
              "17682  Daihatsu      Used  Petrol  ...          Karachi             Cash  2017.0\n",
              "8525     Toyota       New  Petrol  ...          Karachi             Cash  2016.0\n",
              "448      Suzuki      Used  Petrol  ...          Karachi             Cash  2015.0\n",
              "10543    Toyota      Used     CNG  ...          Karachi             Cash  2011.0\n",
              "20697    Suzuki      Used  Petrol  ...           Lahore             Cash  2007.0\n",
              "20554  Daihatsu      Used  Petrol  ...              NaN             Cash  2017.0\n",
              "\n",
              "[10 rows x 9 columns]"
            ]
          },
          "metadata": {
            "tags": []
          },
          "execution_count": 8
        }
      ]
    },
    {
      "cell_type": "code",
      "metadata": {
        "id": "oVZ6OX3QmPcV"
      },
      "source": [
        "data = data.sample(frac=1)"
      ],
      "execution_count": null,
      "outputs": []
    },
    {
      "cell_type": "code",
      "metadata": {
        "id": "FOo8rtj_nIt2"
      },
      "source": [
        "df1 = data[0:12486]\n",
        "df2 = data[12486:24973]"
      ],
      "execution_count": null,
      "outputs": []
    },
    {
      "cell_type": "code",
      "metadata": {
        "id": "6NnKDHXLoMPD",
        "outputId": "176f00af-ec72-4bc6-d596-c5486b7408df",
        "colab": {
          "base_uri": "https://localhost:8080/",
          "height": 276
        }
      },
      "source": [
        "plt.scatter(data['Year'], data['Price'])\n",
        "pass"
      ],
      "execution_count": null,
      "outputs": [
        {
          "output_type": "display_data",
          "data": {
            "image/png": "[encoded data removed]",
            "text/plain": [
              "<Figure size 432x288 with 1 Axes>"
            ]
          },
          "metadata": {
            "tags": [],
            "needs_background": "light"
          }
        }
      ]
    },
    {
      "cell_type": "code",
      "metadata": {
        "id": "SHiNMu0qoyCa",
        "outputId": "f4d13145-06b9-4f41-d63e-5e2b806e63d3",
        "colab": {
          "base_uri": "https://localhost:8080/",
          "height": 276
        }
      },
      "source": [
        "plt.scatter(data['Year'], data['KMs Driven'])\n",
        "pass"
      ],
      "execution_count": null,
      "outputs": [
        {
          "output_type": "display_data",
          "data": {
            "image/png": "[encoded data removed]",
            "text/plain": [
              "<Figure size 432x288 with 1 Axes>"
            ]
          },
          "metadata": {
            "tags": [],
            "needs_background": "light"
          }
        }
      ]
    },
    {
      "cell_type": "code",
      "metadata": {
        "id": "DqJmtCFhpPpZ",
        "outputId": "ee37fb80-5f4c-4832-a5d9-f4b5c5da4705",
        "colab": {
          "base_uri": "https://localhost:8080/",
          "height": 289
        }
      },
      "source": [
        "plt.scatter(data['KMs Driven'], data['Price'])\n",
        "pass"
      ],
      "execution_count": null,
      "outputs": [
        {
          "output_type": "display_data",
          "data": {
            "image/png": "[encoded data removed]",
            "text/plain": [
              "<Figure size 432x288 with 1 Axes>"
            ]
          },
          "metadata": {
            "tags": [],
            "needs_background": "light"
          }
        }
      ]
    },
    {
      "cell_type": "markdown",
      "metadata": {
        "id": "5EhcC9XfptOn"
      },
      "source": [
        "### Борьба с выбросами.\n"
      ]
    },
    {
      "cell_type": "code",
      "metadata": {
        "id": "4cA3W1Z-p5D_",
        "outputId": "8f73fd66-17a5-4813-9cd3-59f48ebbfef1",
        "colab": {
          "base_uri": "https://localhost:8080/"
        }
      },
      "source": [
        "df1['Price'].quantile([0.005,.01,.05,.1,.5,.9,.95,.99,.995])"
      ],
      "execution_count": null,
      "outputs": [
        {
          "output_type": "execute_result",
          "data": {
            "text/plain": [
              "0.005      80000.0\n",
              "0.010      95000.0\n",
              "0.050     150000.0\n",
              "0.100     200000.0\n",
              "0.500     650000.0\n",
              "0.900    1700000.0\n",
              "0.950    2207500.0\n",
              "0.990    4628750.0\n",
              "0.995    7728750.0\n",
              "Name: Price, dtype: float64"
            ]
          },
          "metadata": {
            "tags": []
          },
          "execution_count": 14
        }
      ]
    },
    {
      "cell_type": "code",
      "metadata": {
        "id": "vZ6lJz_KqLZ5",
        "outputId": "25c1e630-c445-4c69-fe9e-f94078003930",
        "colab": {
          "base_uri": "https://localhost:8080/"
        }
      },
      "source": [
        "df1['Year'].quantile([0.005,.01,.05,.1,.5,.9,.95,.99,.995])"
      ],
      "execution_count": null,
      "outputs": [
        {
          "output_type": "execute_result",
          "data": {
            "text/plain": [
              "0.005    1974.0\n",
              "0.010    1981.0\n",
              "0.050    1986.0\n",
              "0.100    1990.0\n",
              "0.500    2008.0\n",
              "0.900    2016.0\n",
              "0.950    2017.0\n",
              "0.990    2018.0\n",
              "0.995    2018.0\n",
              "Name: Year, dtype: float64"
            ]
          },
          "metadata": {
            "tags": []
          },
          "execution_count": 15
        }
      ]
    },
    {
      "cell_type": "code",
      "metadata": {
        "id": "wZ6Z2-ODqXKY",
        "outputId": "4a011711-2957-4143-afee-c0dea62045e4",
        "colab": {
          "base_uri": "https://localhost:8080/"
        }
      },
      "source": [
        "df1['KMs Driven'].quantile([0.005,.01,.05,.1,.5,.9,.95,.99,.995])"
      ],
      "execution_count": null,
      "outputs": [
        {
          "output_type": "execute_result",
          "data": {
            "text/plain": [
              "0.005          1.0\n",
              "0.010          1.0\n",
              "0.050          1.0\n",
              "0.100         14.0\n",
              "0.500      65000.0\n",
              "0.900     150000.0\n",
              "0.950     200000.0\n",
              "0.990    1000000.0\n",
              "0.995    2000000.0\n",
              "Name: KMs Driven, dtype: float64"
            ]
          },
          "metadata": {
            "tags": []
          },
          "execution_count": 16
        }
      ]
    },
    {
      "cell_type": "code",
      "metadata": {
        "id": "CyVhC1WKqkP_",
        "outputId": "2cdf8c66-7317-499f-bff3-0112a9d2d92b",
        "colab": {
          "base_uri": "https://localhost:8080/"
        }
      },
      "source": [
        "rows_to_drop = df1[\n",
        "    (df1['Price'] < df1['Price'].quantile(0.005)) | (df1['Price'] > df1['Price'].quantile(0.995)) | \n",
        "    (df1['Year'] < df1['Year'].quantile(0.005)) | (df1['Year'] > df1['Year'].quantile(0.995)) |\n",
        "    (df1['KMs Driven']  < df1['KMs Driven' ].quantile(0.005)) | (df1['KMs Driven']  > df1['KMs Driven' ].quantile(0.995))].index\n",
        "data_itog = df1.drop(rows_to_drop)\n",
        "data_itog.shape"
      ],
      "execution_count": null,
      "outputs": [
        {
          "output_type": "execute_result",
          "data": {
            "text/plain": [
              "(12285, 9)"
            ]
          },
          "metadata": {
            "tags": []
          },
          "execution_count": 17
        }
      ]
    },
    {
      "cell_type": "code",
      "metadata": {
        "id": "h_IU6IMnromY",
        "outputId": "5bb121c6-1421-40ec-c4d1-95209ca65aa7",
        "colab": {
          "base_uri": "https://localhost:8080/"
        }
      },
      "source": [
        "data_itog.info(memory_usage='deep')"
      ],
      "execution_count": null,
      "outputs": [
        {
          "output_type": "stream",
          "text": [
            "<class 'pandas.core.frame.DataFrame'>\n",
            "Int64Index: 12285 entries, 5140 to 11940\n",
            "Data columns (total 9 columns):\n",
            " #   Column            Non-Null Count  Dtype  \n",
            "---  ------            --------------  -----  \n",
            " 0   Brand             11230 non-null  object \n",
            " 1   Condition         11231 non-null  object \n",
            " 2   Fuel              11080 non-null  object \n",
            " 3   KMs Driven        11150 non-null  float64\n",
            " 4   Model             11080 non-null  object \n",
            " 5   Price             12285 non-null  int64  \n",
            " 6   Registered City   10018 non-null  object \n",
            " 7   Transaction Type  11080 non-null  object \n",
            " 8   Year              11152 non-null  float64\n",
            "dtypes: float64(2), int64(1), object(6)\n",
            "memory usage: 4.5 MB\n"
          ],
          "name": "stdout"
        }
      ]
    },
    {
      "cell_type": "code",
      "metadata": {
        "id": "ZD4UNIA3rsSt",
        "outputId": "d7d4bdbf-3915-4d68-bb00-9c52111bcd15",
        "colab": {
          "base_uri": "https://localhost:8080/",
          "height": 173
        }
      },
      "source": [
        "data_obj = data_itog.select_dtypes(include=['object']).copy()\n",
        "data_obj.describe()"
      ],
      "execution_count": null,
      "outputs": [
        {
          "output_type": "execute_result",
          "data": {
            "text/html": [
              "<div>\n",
              "<style scoped>\n",
              "    .dataframe tbody tr th:only-of-type {\n",
              "        vertical-align: middle;\n",
              "    }\n",
              "\n",
              "    .dataframe tbody tr th {\n",
              "        vertical-align: top;\n",
              "    }\n",
              "\n",
              "    .dataframe thead th {\n",
              "        text-align: right;\n",
              "    }\n",
              "</style>\n",
              "<table border=\"1\" class=\"dataframe\">\n",
              "  <thead>\n",
              "    <tr style=\"text-align: right;\">\n",
              "      <th></th>\n",
              "      <th>Brand</th>\n",
              "      <th>Condition</th>\n",
              "      <th>Fuel</th>\n",
              "      <th>Model</th>\n",
              "      <th>Registered City</th>\n",
              "      <th>Transaction Type</th>\n",
              "    </tr>\n",
              "  </thead>\n",
              "  <tbody>\n",
              "    <tr>\n",
              "      <th>count</th>\n",
              "      <td>11230</td>\n",
              "      <td>11231</td>\n",
              "      <td>11080</td>\n",
              "      <td>11080</td>\n",
              "      <td>10018</td>\n",
              "      <td>11080</td>\n",
              "    </tr>\n",
              "    <tr>\n",
              "      <th>unique</th>\n",
              "      <td>23</td>\n",
              "      <td>2</td>\n",
              "      <td>5</td>\n",
              "      <td>264</td>\n",
              "      <td>51</td>\n",
              "      <td>2</td>\n",
              "    </tr>\n",
              "    <tr>\n",
              "      <th>top</th>\n",
              "      <td>Suzuki</td>\n",
              "      <td>Used</td>\n",
              "      <td>Petrol</td>\n",
              "      <td>Cultus VXR</td>\n",
              "      <td>Karachi</td>\n",
              "      <td>Cash</td>\n",
              "    </tr>\n",
              "    <tr>\n",
              "      <th>freq</th>\n",
              "      <td>4821</td>\n",
              "      <td>9077</td>\n",
              "      <td>7062</td>\n",
              "      <td>911</td>\n",
              "      <td>8212</td>\n",
              "      <td>10553</td>\n",
              "    </tr>\n",
              "  </tbody>\n",
              "</table>\n",
              "</div>"
            ],
            "text/plain": [
              "         Brand Condition    Fuel       Model Registered City Transaction Type\n",
              "count    11230     11231   11080       11080           10018            11080\n",
              "unique      23         2       5         264              51                2\n",
              "top     Suzuki      Used  Petrol  Cultus VXR         Karachi             Cash\n",
              "freq      4821      9077    7062         911            8212            10553"
            ]
          },
          "metadata": {
            "tags": []
          },
          "execution_count": 19
        }
      ]
    },
    {
      "cell_type": "code",
      "metadata": {
        "id": "D4T-9SKBsWPz"
      },
      "source": [
        "converted_obj = pd.DataFrame()\n",
        "\n",
        "for col in data_itog.columns:\n",
        "    if ((col != 'Price') & (col != 'Year') & (col != 'KMs Driven')):\n",
        "        num_unique_values = len(data_itog[col].unique())\n",
        "        num_total_values = len(data_itog[col])\n",
        "        if num_unique_values / num_total_values < 0.5:\n",
        "            converted_obj.loc[:,col] = data_itog[col].astype('category')\n",
        "        else:\n",
        "            converted_obj.loc[:,col] = data_itog[col]\n",
        "    else:\n",
        "        converted_obj.loc[:,col] = data_itog[col]"
      ],
      "execution_count": null,
      "outputs": []
    },
    {
      "cell_type": "code",
      "metadata": {
        "id": "HwCIXmkZtUBY",
        "outputId": "fda07dec-6472-41a5-d835-b152cebee217",
        "colab": {
          "base_uri": "https://localhost:8080/"
        }
      },
      "source": [
        "converted_obj.info(memory_usage='deep')"
      ],
      "execution_count": null,
      "outputs": [
        {
          "output_type": "stream",
          "text": [
            "<class 'pandas.core.frame.DataFrame'>\n",
            "Int64Index: 12285 entries, 5140 to 11940\n",
            "Data columns (total 9 columns):\n",
            " #   Column            Non-Null Count  Dtype   \n",
            "---  ------            --------------  -----   \n",
            " 0   Brand             11230 non-null  category\n",
            " 1   Condition         11231 non-null  category\n",
            " 2   Fuel              11080 non-null  category\n",
            " 3   KMs Driven        11150 non-null  float64 \n",
            " 4   Model             11080 non-null  category\n",
            " 5   Price             12285 non-null  int64   \n",
            " 6   Registered City   10018 non-null  category\n",
            " 7   Transaction Type  11080 non-null  category\n",
            " 8   Year              11152 non-null  float64 \n",
            "dtypes: category(6), float64(2), int64(1)\n",
            "memory usage: 503.0 KB\n"
          ],
          "name": "stdout"
        }
      ]
    },
    {
      "cell_type": "code",
      "metadata": {
        "id": "PtAJoRuetZhB",
        "outputId": "23732e85-409e-4f1c-c7db-cd420c48346a",
        "colab": {
          "base_uri": "https://localhost:8080/",
          "height": 173
        }
      },
      "source": [
        "converted_obj.describe(include=['category'])"
      ],
      "execution_count": null,
      "outputs": [
        {
          "output_type": "execute_result",
          "data": {
            "text/html": [
              "<div>\n",
              "<style scoped>\n",
              "    .dataframe tbody tr th:only-of-type {\n",
              "        vertical-align: middle;\n",
              "    }\n",
              "\n",
              "    .dataframe tbody tr th {\n",
              "        vertical-align: top;\n",
              "    }\n",
              "\n",
              "    .dataframe thead th {\n",
              "        text-align: right;\n",
              "    }\n",
              "</style>\n",
              "<table border=\"1\" class=\"dataframe\">\n",
              "  <thead>\n",
              "    <tr style=\"text-align: right;\">\n",
              "      <th></th>\n",
              "      <th>Brand</th>\n",
              "      <th>Condition</th>\n",
              "      <th>Fuel</th>\n",
              "      <th>Model</th>\n",
              "      <th>Registered City</th>\n",
              "      <th>Transaction Type</th>\n",
              "    </tr>\n",
              "  </thead>\n",
              "  <tbody>\n",
              "    <tr>\n",
              "      <th>count</th>\n",
              "      <td>11230</td>\n",
              "      <td>11231</td>\n",
              "      <td>11080</td>\n",
              "      <td>11080</td>\n",
              "      <td>10018</td>\n",
              "      <td>11080</td>\n",
              "    </tr>\n",
              "    <tr>\n",
              "      <th>unique</th>\n",
              "      <td>23</td>\n",
              "      <td>2</td>\n",
              "      <td>5</td>\n",
              "      <td>264</td>\n",
              "      <td>51</td>\n",
              "      <td>2</td>\n",
              "    </tr>\n",
              "    <tr>\n",
              "      <th>top</th>\n",
              "      <td>Suzuki</td>\n",
              "      <td>Used</td>\n",
              "      <td>Petrol</td>\n",
              "      <td>Cultus VXR</td>\n",
              "      <td>Karachi</td>\n",
              "      <td>Cash</td>\n",
              "    </tr>\n",
              "    <tr>\n",
              "      <th>freq</th>\n",
              "      <td>4821</td>\n",
              "      <td>9077</td>\n",
              "      <td>7062</td>\n",
              "      <td>911</td>\n",
              "      <td>8212</td>\n",
              "      <td>10553</td>\n",
              "    </tr>\n",
              "  </tbody>\n",
              "</table>\n",
              "</div>"
            ],
            "text/plain": [
              "         Brand Condition    Fuel       Model Registered City Transaction Type\n",
              "count    11230     11231   11080       11080           10018            11080\n",
              "unique      23         2       5         264              51                2\n",
              "top     Suzuki      Used  Petrol  Cultus VXR         Karachi             Cash\n",
              "freq      4821      9077    7062         911            8212            10553"
            ]
          },
          "metadata": {
            "tags": []
          },
          "execution_count": 22
        }
      ]
    },
    {
      "cell_type": "code",
      "metadata": {
        "id": "rT7QcOPYtfkl",
        "outputId": "b9c7578d-0b26-412a-b921-1b8ed4f310e5",
        "colab": {
          "base_uri": "https://localhost:8080/",
          "height": 276
        }
      },
      "source": [
        "plt.scatter(converted_obj['Year'], converted_obj['Price'], alpha=0.01)\n",
        "pass"
      ],
      "execution_count": null,
      "outputs": [
        {
          "output_type": "display_data",
          "data": {
            "image/png": "[encoded data removed]",
            "text/plain": [
              "<Figure size 432x288 with 1 Axes>"
            ]
          },
          "metadata": {
            "tags": [],
            "needs_background": "light"
          }
        }
      ]
    },
    {
      "cell_type": "code",
      "metadata": {
        "id": "IKVDKnCytu4Q",
        "outputId": "3af6eaf4-9403-4eb5-85fd-fac5e194995a",
        "colab": {
          "base_uri": "https://localhost:8080/",
          "height": 276
        }
      },
      "source": [
        "plt.scatter(converted_obj['Year'], converted_obj['KMs Driven'], alpha=0.01)\n",
        "pass"
      ],
      "execution_count": null,
      "outputs": [
        {
          "output_type": "display_data",
          "data": {
            "image/png": "[encoded data removed]",
            "text/plain": [
              "<Figure size 432x288 with 1 Axes>"
            ]
          },
          "metadata": {
            "tags": [],
            "needs_background": "light"
          }
        }
      ]
    },
    {
      "cell_type": "code",
      "metadata": {
        "id": "ybQEQxCJt94o",
        "outputId": "4b611d1e-d832-4a21-e560-682b970eb7d7",
        "colab": {
          "base_uri": "https://localhost:8080/",
          "height": 289
        }
      },
      "source": [
        "plt.scatter(converted_obj['KMs Driven'], converted_obj['Price'], alpha=0.01)\n",
        "pass"
      ],
      "execution_count": null,
      "outputs": [
        {
          "output_type": "display_data",
          "data": {
            "image/png": "[encoded data removed]",
            "text/plain": [
              "<Figure size 432x288 with 1 Axes>"
            ]
          },
          "metadata": {
            "tags": [],
            "needs_background": "light"
          }
        }
      ]
    },
    {
      "cell_type": "code",
      "metadata": {
        "id": "RjzBzp_JucVf",
        "outputId": "375a1195-07f2-4f64-cd00-1d9eb0e01bc5",
        "colab": {
          "base_uri": "https://localhost:8080/",
          "height": 344
        }
      },
      "source": [
        "sns.distplot(converted_obj['Price'], bins=15)\n",
        "plt.grid()\n",
        "pass"
      ],
      "execution_count": null,
      "outputs": [
        {
          "output_type": "stream",
          "text": [
            "/usr/local/lib/python3.6/dist-packages/seaborn/distributions.py:2551: FutureWarning: `distplot` is a deprecated function and will be removed in a future version. Please adapt your code to use either `displot` (a figure-level function with similar flexibility) or `histplot` (an axes-level function for histograms).\n",
            "  warnings.warn(msg, FutureWarning)\n"
          ],
          "name": "stderr"
        },
        {
          "output_type": "display_data",
          "data": {
            "image/png": "[encoded data removed]",
            "text/plain": [
              "<Figure size 432x288 with 1 Axes>"
            ]
          },
          "metadata": {
            "tags": [],
            "needs_background": "light"
          }
        }
      ]
    },
    {
      "cell_type": "code",
      "metadata": {
        "id": "ME9FrIiRumKW",
        "outputId": "69f0d4f9-c971-4e80-abb9-cb70e36991b4",
        "colab": {
          "base_uri": "https://localhost:8080/",
          "height": 142
        }
      },
      "source": [
        "corr_mat = converted_obj.corr()\n",
        "corr_mat"
      ],
      "execution_count": null,
      "outputs": [
        {
          "output_type": "execute_result",
          "data": {
            "text/html": [
              "<div>\n",
              "<style scoped>\n",
              "    .dataframe tbody tr th:only-of-type {\n",
              "        vertical-align: middle;\n",
              "    }\n",
              "\n",
              "    .dataframe tbody tr th {\n",
              "        vertical-align: top;\n",
              "    }\n",
              "\n",
              "    .dataframe thead th {\n",
              "        text-align: right;\n",
              "    }\n",
              "</style>\n",
              "<table border=\"1\" class=\"dataframe\">\n",
              "  <thead>\n",
              "    <tr style=\"text-align: right;\">\n",
              "      <th></th>\n",
              "      <th>KMs Driven</th>\n",
              "      <th>Price</th>\n",
              "      <th>Year</th>\n",
              "    </tr>\n",
              "  </thead>\n",
              "  <tbody>\n",
              "    <tr>\n",
              "      <th>KMs Driven</th>\n",
              "      <td>1.000000</td>\n",
              "      <td>-0.087091</td>\n",
              "      <td>-0.163605</td>\n",
              "    </tr>\n",
              "    <tr>\n",
              "      <th>Price</th>\n",
              "      <td>-0.087091</td>\n",
              "      <td>1.000000</td>\n",
              "      <td>0.500517</td>\n",
              "    </tr>\n",
              "    <tr>\n",
              "      <th>Year</th>\n",
              "      <td>-0.163605</td>\n",
              "      <td>0.500517</td>\n",
              "      <td>1.000000</td>\n",
              "    </tr>\n",
              "  </tbody>\n",
              "</table>\n",
              "</div>"
            ],
            "text/plain": [
              "            KMs Driven     Price      Year\n",
              "KMs Driven    1.000000 -0.087091 -0.163605\n",
              "Price        -0.087091  1.000000  0.500517\n",
              "Year         -0.163605  0.500517  1.000000"
            ]
          },
          "metadata": {
            "tags": []
          },
          "execution_count": 27
        }
      ]
    },
    {
      "cell_type": "code",
      "metadata": {
        "id": "ln_MoDm0wlK5",
        "outputId": "e0da9833-0b21-4673-ce6a-46aff001b909",
        "colab": {
          "base_uri": "https://localhost:8080/",
          "height": 269
        }
      },
      "source": [
        "sns.heatmap(corr_mat, square=True, cmap='coolwarm')\n",
        "pass"
      ],
      "execution_count": null,
      "outputs": [
        {
          "output_type": "display_data",
          "data": {
            "image/png": "[encoded data removed]",
            "text/plain": [
              "<Figure size 432x288 with 2 Axes>"
            ]
          },
          "metadata": {
            "tags": [],
            "needs_background": "light"
          }
        }
      ]
    },
    {
      "cell_type": "code",
      "metadata": {
        "id": "7bJnR8zDwvWz",
        "outputId": "7784dcce-ebaa-4fc7-d0ac-e8073baf19af",
        "colab": {
          "base_uri": "https://localhost:8080/"
        }
      },
      "source": [
        "converted_obj.isna().sum()"
      ],
      "execution_count": null,
      "outputs": [
        {
          "output_type": "execute_result",
          "data": {
            "text/plain": [
              "Brand               1055\n",
              "Condition           1054\n",
              "Fuel                1205\n",
              "KMs Driven          1135\n",
              "Model               1205\n",
              "Price                  0\n",
              "Registered City     2267\n",
              "Transaction Type    1205\n",
              "Year                1133\n",
              "dtype: int64"
            ]
          },
          "metadata": {
            "tags": []
          },
          "execution_count": 29
        }
      ]
    },
    {
      "cell_type": "code",
      "metadata": {
        "id": "t5EjgW9hw_8q"
      },
      "source": [
        "converted_obj.fillna(data.median(axis = 0), axis=0 , inplace=True)"
      ],
      "execution_count": null,
      "outputs": []
    },
    {
      "cell_type": "code",
      "metadata": {
        "id": "s2L7LamhxFbc",
        "outputId": "e3a931e3-cb18-4ff5-9e85-9db61907f798",
        "colab": {
          "base_uri": "https://localhost:8080/"
        }
      },
      "source": [
        "converted_obj.isna().sum()"
      ],
      "execution_count": null,
      "outputs": [
        {
          "output_type": "execute_result",
          "data": {
            "text/plain": [
              "Brand               1055\n",
              "Condition           1054\n",
              "Fuel                1205\n",
              "KMs Driven             0\n",
              "Model               1205\n",
              "Price                  0\n",
              "Registered City     2267\n",
              "Transaction Type    1205\n",
              "Year                   0\n",
              "dtype: int64"
            ]
          },
          "metadata": {
            "tags": []
          },
          "execution_count": 31
        }
      ]
    },
    {
      "cell_type": "code",
      "metadata": {
        "id": "1NRw2JX6xHQL"
      },
      "source": [
        "converted_obj['Brand'].fillna(data['Brand'].mode().iloc[0], inplace=True)\n",
        "converted_obj['Condition'].fillna(data['Condition'].mode().iloc[0], inplace=True)\n",
        "converted_obj['Fuel'].fillna(data['Fuel'].mode().iloc[0], inplace=True)\n",
        "converted_obj['Model'].fillna(data['Model'].mode().iloc[0], inplace=True)\n",
        "converted_obj['Registered City'].fillna(data['Registered City'].mode().iloc[0], inplace=True)\n",
        "converted_obj['Transaction Type'].fillna(data['Transaction Type'].mode().iloc[0], inplace=True)"
      ],
      "execution_count": null,
      "outputs": []
    },
    {
      "cell_type": "code",
      "metadata": {
        "id": "Hz6p6nslxxkP",
        "outputId": "259ea1aa-207f-439f-be5e-1b5749f4773b",
        "colab": {
          "base_uri": "https://localhost:8080/"
        }
      },
      "source": [
        "converted_obj.isna().sum()"
      ],
      "execution_count": null,
      "outputs": [
        {
          "output_type": "execute_result",
          "data": {
            "text/plain": [
              "Brand               0\n",
              "Condition           0\n",
              "Fuel                0\n",
              "KMs Driven          0\n",
              "Model               0\n",
              "Price               0\n",
              "Registered City     0\n",
              "Transaction Type    0\n",
              "Year                0\n",
              "dtype: int64"
            ]
          },
          "metadata": {
            "tags": []
          },
          "execution_count": 33
        }
      ]
    },
    {
      "cell_type": "code",
      "metadata": {
        "id": "fx7zcL6Wx1js",
        "outputId": "2395f187-6557-452a-b55d-5aa3c654e250",
        "colab": {
          "base_uri": "https://localhost:8080/"
        }
      },
      "source": [
        "converted_obj['Condition'].value_counts()"
      ],
      "execution_count": null,
      "outputs": [
        {
          "output_type": "execute_result",
          "data": {
            "text/plain": [
              "Used    10131\n",
              "New      2154\n",
              "Name: Condition, dtype: int64"
            ]
          },
          "metadata": {
            "tags": []
          },
          "execution_count": 34
        }
      ]
    },
    {
      "cell_type": "markdown",
      "metadata": {
        "id": "TAR51HJcy36H"
      },
      "source": [
        "2138 от числа 12285 = 17.4%"
      ]
    },
    {
      "cell_type": "code",
      "metadata": {
        "id": "9FlMouFey7Aq"
      },
      "source": [
        "condition_ = converted_obj['Condition']\n",
        "converted_obj = converted_obj.drop(\"Condition\", axis = 1)"
      ],
      "execution_count": null,
      "outputs": []
    },
    {
      "cell_type": "markdown",
      "metadata": {
        "id": "2i7ULSBUzocv"
      },
      "source": [
        "##Бинаризация."
      ]
    },
    {
      "cell_type": "code",
      "metadata": {
        "id": "PKhex1OTzpwG"
      },
      "source": [
        "Building_dummies = pd.get_dummies(converted_obj['Brand'])\n",
        "converted_obj = pd.concat((converted_obj, Building_dummies), axis=1)\n",
        "converted_obj = converted_obj.drop(['Brand'], axis=1)\n",
        "\n",
        "Building_dummies = pd.get_dummies(converted_obj['Fuel'])\n",
        "converted_obj = pd.concat((converted_obj, Building_dummies), axis=1)\n",
        "converted_obj = converted_obj.drop(['Fuel'], axis=1)\n",
        "\n",
        "Building_dummies = pd.get_dummies(converted_obj['Model'])\n",
        "converted_obj = pd.concat((converted_obj, Building_dummies), axis=1)\n",
        "converted_obj = converted_obj.drop(['Model'], axis=1)\n",
        "\n",
        "Building_dummies = pd.get_dummies(converted_obj['Registered City'])\n",
        "converted_obj = pd.concat((converted_obj, Building_dummies), axis=1)\n",
        "converted_obj = converted_obj.drop(['Registered City'], axis=1)\n",
        "\n",
        "Building_dummies = pd.get_dummies(converted_obj['Transaction Type'])\n",
        "converted_obj = pd.concat((converted_obj, Building_dummies), axis=1)\n",
        "converted_obj = converted_obj.drop(['Transaction Type'], axis=1)"
      ],
      "execution_count": null,
      "outputs": []
    },
    {
      "cell_type": "markdown",
      "metadata": {
        "id": "fRPd0ZUZ_eUm"
      },
      "source": [
        "##Нормализация количественных признаков"
      ]
    },
    {
      "cell_type": "code",
      "metadata": {
        "id": "1PotBnRn_fzn",
        "outputId": "74ed9c1d-bd38-4885-e327-c69741bbbca3",
        "colab": {
          "base_uri": "https://localhost:8080/"
        }
      },
      "source": [
        "converted_obj.info(memory_usage='deep')"
      ],
      "execution_count": null,
      "outputs": [
        {
          "output_type": "stream",
          "text": [
            "<class 'pandas.core.frame.DataFrame'>\n",
            "Int64Index: 12285 entries, 5140 to 11940\n",
            "Columns: 348 entries, KMs Driven to Installment/Leasing\n",
            "dtypes: float64(2), int64(1), uint8(345)\n",
            "memory usage: 4.4 MB\n"
          ],
          "name": "stdout"
        }
      ]
    },
    {
      "cell_type": "code",
      "metadata": {
        "id": "YetRSeB7_njK"
      },
      "source": [
        "data_stand = (converted_obj - converted_obj.mean(axis = 0))/converted_obj.std(axis = 0)"
      ],
      "execution_count": null,
      "outputs": []
    },
    {
      "cell_type": "code",
      "metadata": {
        "id": "hqy_4Rt5_uB6",
        "outputId": "5d6a7ddd-bd29-414e-ec9d-9bcf919f4deb",
        "colab": {
          "base_uri": "https://localhost:8080/",
          "height": 448
        }
      },
      "source": [
        "data_stand.describe()"
      ],
      "execution_count": null,
      "outputs": [
        {
          "output_type": "execute_result",
          "data": {
            "text/html": [
              "<div>\n",
              "<style scoped>\n",
              "    .dataframe tbody tr th:only-of-type {\n",
              "        vertical-align: middle;\n",
              "    }\n",
              "\n",
              "    .dataframe tbody tr th {\n",
              "        vertical-align: top;\n",
              "    }\n",
              "\n",
              "    .dataframe thead th {\n",
              "        text-align: right;\n",
              "    }\n",
              "</style>\n",
              "<table border=\"1\" class=\"dataframe\">\n",
              "  <thead>\n",
              "    <tr style=\"text-align: right;\">\n",
              "      <th></th>\n",
              "      <th>KMs Driven</th>\n",
              "      <th>Price</th>\n",
              "      <th>Year</th>\n",
              "      <th>Audi</th>\n",
              "      <th>BMW</th>\n",
              "      <th>Changan</th>\n",
              "      <th>Chevrolet</th>\n",
              "      <th>Classic &amp; Antiques</th>\n",
              "      <th>Daewoo</th>\n",
              "      <th>Daihatsu</th>\n",
              "      <th>FAW</th>\n",
              "      <th>Honda</th>\n",
              "      <th>Hyundai</th>\n",
              "      <th>KIA</th>\n",
              "      <th>Land Rover</th>\n",
              "      <th>Lexus</th>\n",
              "      <th>Mazda</th>\n",
              "      <th>Mercedes</th>\n",
              "      <th>Mitsubishi</th>\n",
              "      <th>Nissan</th>\n",
              "      <th>Other Brands</th>\n",
              "      <th>Porsche</th>\n",
              "      <th>Range Rover</th>\n",
              "      <th>Subaru</th>\n",
              "      <th>Suzuki</th>\n",
              "      <th>Toyota</th>\n",
              "      <th>CNG</th>\n",
              "      <th>Diesel</th>\n",
              "      <th>Hybrid</th>\n",
              "      <th>LPG</th>\n",
              "      <th>Petrol</th>\n",
              "      <th>120 Y</th>\n",
              "      <th>200 D</th>\n",
              "      <th>240 Gd</th>\n",
              "      <th>3 Series</th>\n",
              "      <th>323</th>\n",
              "      <th>5 Series</th>\n",
              "      <th>6 Series</th>\n",
              "      <th>626</th>\n",
              "      <th>7 Series</th>\n",
              "      <th>...</th>\n",
              "      <th>Faisalabad</th>\n",
              "      <th>Gujranwala</th>\n",
              "      <th>Gujrat</th>\n",
              "      <th>Haripur</th>\n",
              "      <th>Hyderabad</th>\n",
              "      <th>Islamabad</th>\n",
              "      <th>Jhelum</th>\n",
              "      <th>Kandhura</th>\n",
              "      <th>Karachi</th>\n",
              "      <th>Karak</th>\n",
              "      <th>Kasur</th>\n",
              "      <th>Khairpur</th>\n",
              "      <th>Khanewal</th>\n",
              "      <th>Khaplu</th>\n",
              "      <th>Khushab</th>\n",
              "      <th>Kohat</th>\n",
              "      <th>Lahore</th>\n",
              "      <th>Larkana</th>\n",
              "      <th>Lasbela</th>\n",
              "      <th>Mardan</th>\n",
              "      <th>Mirpur</th>\n",
              "      <th>Multan</th>\n",
              "      <th>Nowshera</th>\n",
              "      <th>Okara</th>\n",
              "      <th>Pakpattan</th>\n",
              "      <th>Peshawar</th>\n",
              "      <th>Quetta</th>\n",
              "      <th>Rahimyar Khan</th>\n",
              "      <th>Rawalpindi</th>\n",
              "      <th>Sahiwal</th>\n",
              "      <th>Sargodha</th>\n",
              "      <th>Sheikhüpura</th>\n",
              "      <th>Sialkot</th>\n",
              "      <th>Sukkar</th>\n",
              "      <th>Sukkur</th>\n",
              "      <th>Tank</th>\n",
              "      <th>Vehari</th>\n",
              "      <th>Wah</th>\n",
              "      <th>Cash</th>\n",
              "      <th>Installment/Leasing</th>\n",
              "    </tr>\n",
              "  </thead>\n",
              "  <tbody>\n",
              "    <tr>\n",
              "      <th>count</th>\n",
              "      <td>1.228500e+04</td>\n",
              "      <td>1.228500e+04</td>\n",
              "      <td>1.228500e+04</td>\n",
              "      <td>1.228500e+04</td>\n",
              "      <td>1.228500e+04</td>\n",
              "      <td>1.228500e+04</td>\n",
              "      <td>1.228500e+04</td>\n",
              "      <td>1.228500e+04</td>\n",
              "      <td>1.228500e+04</td>\n",
              "      <td>1.228500e+04</td>\n",
              "      <td>1.228500e+04</td>\n",
              "      <td>1.228500e+04</td>\n",
              "      <td>1.228500e+04</td>\n",
              "      <td>1.228500e+04</td>\n",
              "      <td>1.228500e+04</td>\n",
              "      <td>1.228500e+04</td>\n",
              "      <td>1.228500e+04</td>\n",
              "      <td>1.228500e+04</td>\n",
              "      <td>1.228500e+04</td>\n",
              "      <td>1.228500e+04</td>\n",
              "      <td>1.228500e+04</td>\n",
              "      <td>1.228500e+04</td>\n",
              "      <td>1.228500e+04</td>\n",
              "      <td>1.228500e+04</td>\n",
              "      <td>1.228500e+04</td>\n",
              "      <td>1.228500e+04</td>\n",
              "      <td>1.228500e+04</td>\n",
              "      <td>1.228500e+04</td>\n",
              "      <td>1.228500e+04</td>\n",
              "      <td>1.228500e+04</td>\n",
              "      <td>1.228500e+04</td>\n",
              "      <td>1.228500e+04</td>\n",
              "      <td>1.228500e+04</td>\n",
              "      <td>1.228500e+04</td>\n",
              "      <td>1.228500e+04</td>\n",
              "      <td>1.228500e+04</td>\n",
              "      <td>1.228500e+04</td>\n",
              "      <td>1.228500e+04</td>\n",
              "      <td>1.228500e+04</td>\n",
              "      <td>1.228500e+04</td>\n",
              "      <td>...</td>\n",
              "      <td>1.228500e+04</td>\n",
              "      <td>1.228500e+04</td>\n",
              "      <td>1.228500e+04</td>\n",
              "      <td>1.228500e+04</td>\n",
              "      <td>1.228500e+04</td>\n",
              "      <td>1.228500e+04</td>\n",
              "      <td>1.228500e+04</td>\n",
              "      <td>1.228500e+04</td>\n",
              "      <td>1.228500e+04</td>\n",
              "      <td>1.228500e+04</td>\n",
              "      <td>1.228500e+04</td>\n",
              "      <td>1.228500e+04</td>\n",
              "      <td>1.228500e+04</td>\n",
              "      <td>1.228500e+04</td>\n",
              "      <td>1.228500e+04</td>\n",
              "      <td>1.228500e+04</td>\n",
              "      <td>1.228500e+04</td>\n",
              "      <td>1.228500e+04</td>\n",
              "      <td>1.228500e+04</td>\n",
              "      <td>1.228500e+04</td>\n",
              "      <td>1.228500e+04</td>\n",
              "      <td>1.228500e+04</td>\n",
              "      <td>1.228500e+04</td>\n",
              "      <td>1.228500e+04</td>\n",
              "      <td>1.228500e+04</td>\n",
              "      <td>1.228500e+04</td>\n",
              "      <td>1.228500e+04</td>\n",
              "      <td>1.228500e+04</td>\n",
              "      <td>1.228500e+04</td>\n",
              "      <td>1.228500e+04</td>\n",
              "      <td>1.228500e+04</td>\n",
              "      <td>1.228500e+04</td>\n",
              "      <td>1.228500e+04</td>\n",
              "      <td>1.228500e+04</td>\n",
              "      <td>1.228500e+04</td>\n",
              "      <td>1.228500e+04</td>\n",
              "      <td>1.228500e+04</td>\n",
              "      <td>1.228500e+04</td>\n",
              "      <td>1.228500e+04</td>\n",
              "      <td>1.228500e+04</td>\n",
              "    </tr>\n",
              "    <tr>\n",
              "      <th>mean</th>\n",
              "      <td>4.146595e-16</td>\n",
              "      <td>6.761651e-17</td>\n",
              "      <td>1.277588e-14</td>\n",
              "      <td>3.643826e-16</td>\n",
              "      <td>-1.141971e-15</td>\n",
              "      <td>-9.102287e-16</td>\n",
              "      <td>1.529965e-15</td>\n",
              "      <td>1.611156e-15</td>\n",
              "      <td>1.527291e-18</td>\n",
              "      <td>-7.134166e-16</td>\n",
              "      <td>1.203341e-15</td>\n",
              "      <td>-1.289793e-16</td>\n",
              "      <td>4.476521e-16</td>\n",
              "      <td>2.617273e-15</td>\n",
              "      <td>-1.498976e-15</td>\n",
              "      <td>7.656150e-16</td>\n",
              "      <td>1.292321e-15</td>\n",
              "      <td>1.835803e-15</td>\n",
              "      <td>-1.184242e-15</td>\n",
              "      <td>9.692288e-16</td>\n",
              "      <td>1.370226e-15</td>\n",
              "      <td>-6.938688e-16</td>\n",
              "      <td>4.800037e-16</td>\n",
              "      <td>-3.033231e-17</td>\n",
              "      <td>-5.401278e-16</td>\n",
              "      <td>2.430652e-16</td>\n",
              "      <td>2.672669e-16</td>\n",
              "      <td>-8.780703e-16</td>\n",
              "      <td>2.488490e-16</td>\n",
              "      <td>-2.053257e-17</td>\n",
              "      <td>2.100612e-16</td>\n",
              "      <td>-3.111697e-16</td>\n",
              "      <td>-2.147099e-15</td>\n",
              "      <td>-2.216216e-15</td>\n",
              "      <td>-5.678811e-16</td>\n",
              "      <td>7.511555e-16</td>\n",
              "      <td>3.510239e-16</td>\n",
              "      <td>-8.870485e-16</td>\n",
              "      <td>-6.938688e-16</td>\n",
              "      <td>-1.254077e-15</td>\n",
              "      <td>...</td>\n",
              "      <td>1.073478e-15</td>\n",
              "      <td>1.315033e-15</td>\n",
              "      <td>6.175491e-16</td>\n",
              "      <td>-6.950247e-16</td>\n",
              "      <td>-4.716640e-17</td>\n",
              "      <td>3.752301e-16</td>\n",
              "      <td>-7.491034e-16</td>\n",
              "      <td>-6.950247e-16</td>\n",
              "      <td>1.344594e-15</td>\n",
              "      <td>-3.358408e-16</td>\n",
              "      <td>-3.603859e-16</td>\n",
              "      <td>-7.609603e-16</td>\n",
              "      <td>1.166958e-15</td>\n",
              "      <td>-6.950247e-16</td>\n",
              "      <td>-1.300348e-15</td>\n",
              "      <td>8.430643e-16</td>\n",
              "      <td>5.291295e-17</td>\n",
              "      <td>-8.870485e-16</td>\n",
              "      <td>-9.715372e-16</td>\n",
              "      <td>7.759714e-16</td>\n",
              "      <td>9.934437e-16</td>\n",
              "      <td>8.913866e-16</td>\n",
              "      <td>-9.278693e-16</td>\n",
              "      <td>-1.077092e-15</td>\n",
              "      <td>-6.950247e-16</td>\n",
              "      <td>-2.729795e-16</td>\n",
              "      <td>5.400013e-16</td>\n",
              "      <td>5.879240e-16</td>\n",
              "      <td>1.694050e-15</td>\n",
              "      <td>5.220615e-16</td>\n",
              "      <td>-4.411064e-16</td>\n",
              "      <td>-6.938688e-16</td>\n",
              "      <td>4.184314e-16</td>\n",
              "      <td>1.383563e-15</td>\n",
              "      <td>1.774260e-15</td>\n",
              "      <td>-6.950247e-16</td>\n",
              "      <td>8.534752e-16</td>\n",
              "      <td>-6.947186e-16</td>\n",
              "      <td>2.643343e-16</td>\n",
              "      <td>1.893931e-16</td>\n",
              "    </tr>\n",
              "    <tr>\n",
              "      <th>std</th>\n",
              "      <td>1.000000e+00</td>\n",
              "      <td>1.000000e+00</td>\n",
              "      <td>1.000000e+00</td>\n",
              "      <td>1.000000e+00</td>\n",
              "      <td>1.000000e+00</td>\n",
              "      <td>1.000000e+00</td>\n",
              "      <td>1.000000e+00</td>\n",
              "      <td>1.000000e+00</td>\n",
              "      <td>1.000000e+00</td>\n",
              "      <td>1.000000e+00</td>\n",
              "      <td>1.000000e+00</td>\n",
              "      <td>1.000000e+00</td>\n",
              "      <td>1.000000e+00</td>\n",
              "      <td>1.000000e+00</td>\n",
              "      <td>1.000000e+00</td>\n",
              "      <td>1.000000e+00</td>\n",
              "      <td>1.000000e+00</td>\n",
              "      <td>1.000000e+00</td>\n",
              "      <td>1.000000e+00</td>\n",
              "      <td>1.000000e+00</td>\n",
              "      <td>1.000000e+00</td>\n",
              "      <td>1.000000e+00</td>\n",
              "      <td>1.000000e+00</td>\n",
              "      <td>1.000000e+00</td>\n",
              "      <td>1.000000e+00</td>\n",
              "      <td>1.000000e+00</td>\n",
              "      <td>1.000000e+00</td>\n",
              "      <td>1.000000e+00</td>\n",
              "      <td>1.000000e+00</td>\n",
              "      <td>1.000000e+00</td>\n",
              "      <td>1.000000e+00</td>\n",
              "      <td>1.000000e+00</td>\n",
              "      <td>1.000000e+00</td>\n",
              "      <td>1.000000e+00</td>\n",
              "      <td>1.000000e+00</td>\n",
              "      <td>1.000000e+00</td>\n",
              "      <td>1.000000e+00</td>\n",
              "      <td>1.000000e+00</td>\n",
              "      <td>1.000000e+00</td>\n",
              "      <td>1.000000e+00</td>\n",
              "      <td>...</td>\n",
              "      <td>1.000000e+00</td>\n",
              "      <td>1.000000e+00</td>\n",
              "      <td>1.000000e+00</td>\n",
              "      <td>1.000000e+00</td>\n",
              "      <td>1.000000e+00</td>\n",
              "      <td>1.000000e+00</td>\n",
              "      <td>1.000000e+00</td>\n",
              "      <td>1.000000e+00</td>\n",
              "      <td>1.000000e+00</td>\n",
              "      <td>1.000000e+00</td>\n",
              "      <td>1.000000e+00</td>\n",
              "      <td>1.000000e+00</td>\n",
              "      <td>1.000000e+00</td>\n",
              "      <td>1.000000e+00</td>\n",
              "      <td>1.000000e+00</td>\n",
              "      <td>1.000000e+00</td>\n",
              "      <td>1.000000e+00</td>\n",
              "      <td>1.000000e+00</td>\n",
              "      <td>1.000000e+00</td>\n",
              "      <td>1.000000e+00</td>\n",
              "      <td>1.000000e+00</td>\n",
              "      <td>1.000000e+00</td>\n",
              "      <td>1.000000e+00</td>\n",
              "      <td>1.000000e+00</td>\n",
              "      <td>1.000000e+00</td>\n",
              "      <td>1.000000e+00</td>\n",
              "      <td>1.000000e+00</td>\n",
              "      <td>1.000000e+00</td>\n",
              "      <td>1.000000e+00</td>\n",
              "      <td>1.000000e+00</td>\n",
              "      <td>1.000000e+00</td>\n",
              "      <td>1.000000e+00</td>\n",
              "      <td>1.000000e+00</td>\n",
              "      <td>1.000000e+00</td>\n",
              "      <td>1.000000e+00</td>\n",
              "      <td>1.000000e+00</td>\n",
              "      <td>1.000000e+00</td>\n",
              "      <td>1.000000e+00</td>\n",
              "      <td>1.000000e+00</td>\n",
              "      <td>1.000000e+00</td>\n",
              "    </tr>\n",
              "    <tr>\n",
              "      <th>min</th>\n",
              "      <td>-6.179491e-01</td>\n",
              "      <td>-1.055674e+00</td>\n",
              "      <td>-3.675944e+00</td>\n",
              "      <td>-2.707542e-02</td>\n",
              "      <td>-3.496276e-02</td>\n",
              "      <td>-1.562818e-02</td>\n",
              "      <td>-4.779355e-02</td>\n",
              "      <td>-1.275984e-02</td>\n",
              "      <td>-5.345007e-02</td>\n",
              "      <td>-3.314324e-01</td>\n",
              "      <td>-5.715220e-02</td>\n",
              "      <td>-3.927687e-01</td>\n",
              "      <td>-1.085189e-01</td>\n",
              "      <td>-7.292953e-02</td>\n",
              "      <td>-9.022199e-03</td>\n",
              "      <td>-2.387633e-02</td>\n",
              "      <td>-6.766761e-02</td>\n",
              "      <td>-5.715220e-02</td>\n",
              "      <td>-1.325082e-01</td>\n",
              "      <td>-1.732440e-01</td>\n",
              "      <td>-8.395942e-02</td>\n",
              "      <td>-9.022199e-03</td>\n",
              "      <td>-1.804660e-02</td>\n",
              "      <td>-3.377586e-02</td>\n",
              "      <td>-9.574764e-01</td>\n",
              "      <td>-4.967980e-01</td>\n",
              "      <td>-6.111596e-01</td>\n",
              "      <td>-1.337746e-01</td>\n",
              "      <td>-1.954358e-01</td>\n",
              "      <td>-2.707542e-02</td>\n",
              "      <td>-1.434337e+00</td>\n",
              "      <td>-2.707542e-02</td>\n",
              "      <td>-1.562818e-02</td>\n",
              "      <td>-1.562818e-02</td>\n",
              "      <td>-1.804660e-02</td>\n",
              "      <td>-2.387633e-02</td>\n",
              "      <td>-1.804660e-02</td>\n",
              "      <td>-9.022199e-03</td>\n",
              "      <td>-9.022199e-03</td>\n",
              "      <td>-1.562818e-02</td>\n",
              "      <td>...</td>\n",
              "      <td>-6.262756e-02</td>\n",
              "      <td>-2.854116e-02</td>\n",
              "      <td>-2.387633e-02</td>\n",
              "      <td>-9.022199e-03</td>\n",
              "      <td>-3.254590e-02</td>\n",
              "      <td>-2.046777e-01</td>\n",
              "      <td>-9.022199e-03</td>\n",
              "      <td>-9.022199e-03</td>\n",
              "      <td>-2.408704e+00</td>\n",
              "      <td>-2.017754e-02</td>\n",
              "      <td>-1.804660e-02</td>\n",
              "      <td>-9.022199e-03</td>\n",
              "      <td>-1.275984e-02</td>\n",
              "      <td>-9.022199e-03</td>\n",
              "      <td>-1.562818e-02</td>\n",
              "      <td>-1.275984e-02</td>\n",
              "      <td>-2.901499e-01</td>\n",
              "      <td>-9.022199e-03</td>\n",
              "      <td>-1.562818e-02</td>\n",
              "      <td>-1.275984e-02</td>\n",
              "      <td>-1.275984e-02</td>\n",
              "      <td>-6.827191e-02</td>\n",
              "      <td>-1.562818e-02</td>\n",
              "      <td>-1.562818e-02</td>\n",
              "      <td>-9.022199e-03</td>\n",
              "      <td>-4.693042e-02</td>\n",
              "      <td>-2.210428e-02</td>\n",
              "      <td>-2.552591e-02</td>\n",
              "      <td>-7.731261e-02</td>\n",
              "      <td>-1.275984e-02</td>\n",
              "      <td>-2.017754e-02</td>\n",
              "      <td>-9.022199e-03</td>\n",
              "      <td>-3.254590e-02</td>\n",
              "      <td>-1.275984e-02</td>\n",
              "      <td>-1.275984e-02</td>\n",
              "      <td>-9.022199e-03</td>\n",
              "      <td>-1.275984e-02</td>\n",
              "      <td>-9.022199e-03</td>\n",
              "      <td>-4.723281e+00</td>\n",
              "      <td>-2.117000e-01</td>\n",
              "    </tr>\n",
              "    <tr>\n",
              "      <th>25%</th>\n",
              "      <td>-4.670292e-01</td>\n",
              "      <td>-6.456215e-01</td>\n",
              "      <td>-3.744335e-01</td>\n",
              "      <td>-2.707542e-02</td>\n",
              "      <td>-3.496276e-02</td>\n",
              "      <td>-1.562818e-02</td>\n",
              "      <td>-4.779355e-02</td>\n",
              "      <td>-1.275984e-02</td>\n",
              "      <td>-5.345007e-02</td>\n",
              "      <td>-3.314324e-01</td>\n",
              "      <td>-5.715220e-02</td>\n",
              "      <td>-3.927687e-01</td>\n",
              "      <td>-1.085189e-01</td>\n",
              "      <td>-7.292953e-02</td>\n",
              "      <td>-9.022199e-03</td>\n",
              "      <td>-2.387633e-02</td>\n",
              "      <td>-6.766761e-02</td>\n",
              "      <td>-5.715220e-02</td>\n",
              "      <td>-1.325082e-01</td>\n",
              "      <td>-1.732440e-01</td>\n",
              "      <td>-8.395942e-02</td>\n",
              "      <td>-9.022199e-03</td>\n",
              "      <td>-1.804660e-02</td>\n",
              "      <td>-3.377586e-02</td>\n",
              "      <td>-9.574764e-01</td>\n",
              "      <td>-4.967980e-01</td>\n",
              "      <td>-6.111596e-01</td>\n",
              "      <td>-1.337746e-01</td>\n",
              "      <td>-1.954358e-01</td>\n",
              "      <td>-2.707542e-02</td>\n",
              "      <td>-1.434337e+00</td>\n",
              "      <td>-2.707542e-02</td>\n",
              "      <td>-1.562818e-02</td>\n",
              "      <td>-1.562818e-02</td>\n",
              "      <td>-1.804660e-02</td>\n",
              "      <td>-2.387633e-02</td>\n",
              "      <td>-1.804660e-02</td>\n",
              "      <td>-9.022199e-03</td>\n",
              "      <td>-9.022199e-03</td>\n",
              "      <td>-1.562818e-02</td>\n",
              "      <td>...</td>\n",
              "      <td>-6.262756e-02</td>\n",
              "      <td>-2.854116e-02</td>\n",
              "      <td>-2.387633e-02</td>\n",
              "      <td>-9.022199e-03</td>\n",
              "      <td>-3.254590e-02</td>\n",
              "      <td>-2.046777e-01</td>\n",
              "      <td>-9.022199e-03</td>\n",
              "      <td>-9.022199e-03</td>\n",
              "      <td>4.151273e-01</td>\n",
              "      <td>-2.017754e-02</td>\n",
              "      <td>-1.804660e-02</td>\n",
              "      <td>-9.022199e-03</td>\n",
              "      <td>-1.275984e-02</td>\n",
              "      <td>-9.022199e-03</td>\n",
              "      <td>-1.562818e-02</td>\n",
              "      <td>-1.275984e-02</td>\n",
              "      <td>-2.901499e-01</td>\n",
              "      <td>-9.022199e-03</td>\n",
              "      <td>-1.562818e-02</td>\n",
              "      <td>-1.275984e-02</td>\n",
              "      <td>-1.275984e-02</td>\n",
              "      <td>-6.827191e-02</td>\n",
              "      <td>-1.562818e-02</td>\n",
              "      <td>-1.562818e-02</td>\n",
              "      <td>-9.022199e-03</td>\n",
              "      <td>-4.693042e-02</td>\n",
              "      <td>-2.210428e-02</td>\n",
              "      <td>-2.552591e-02</td>\n",
              "      <td>-7.731261e-02</td>\n",
              "      <td>-1.275984e-02</td>\n",
              "      <td>-2.017754e-02</td>\n",
              "      <td>-9.022199e-03</td>\n",
              "      <td>-3.254590e-02</td>\n",
              "      <td>-1.275984e-02</td>\n",
              "      <td>-1.275984e-02</td>\n",
              "      <td>-9.022199e-03</td>\n",
              "      <td>-1.275984e-02</td>\n",
              "      <td>-9.022199e-03</td>\n",
              "      <td>2.117000e-01</td>\n",
              "      <td>-2.117000e-01</td>\n",
              "    </tr>\n",
              "    <tr>\n",
              "      <th>50%</th>\n",
              "      <td>-1.270923e-01</td>\n",
              "      <td>-2.765741e-01</td>\n",
              "      <td>1.947925e-01</td>\n",
              "      <td>-2.707542e-02</td>\n",
              "      <td>-3.496276e-02</td>\n",
              "      <td>-1.562818e-02</td>\n",
              "      <td>-4.779355e-02</td>\n",
              "      <td>-1.275984e-02</td>\n",
              "      <td>-5.345007e-02</td>\n",
              "      <td>-3.314324e-01</td>\n",
              "      <td>-5.715220e-02</td>\n",
              "      <td>-3.927687e-01</td>\n",
              "      <td>-1.085189e-01</td>\n",
              "      <td>-7.292953e-02</td>\n",
              "      <td>-9.022199e-03</td>\n",
              "      <td>-2.387633e-02</td>\n",
              "      <td>-6.766761e-02</td>\n",
              "      <td>-5.715220e-02</td>\n",
              "      <td>-1.325082e-01</td>\n",
              "      <td>-1.732440e-01</td>\n",
              "      <td>-8.395942e-02</td>\n",
              "      <td>-9.022199e-03</td>\n",
              "      <td>-1.804660e-02</td>\n",
              "      <td>-3.377586e-02</td>\n",
              "      <td>-9.574764e-01</td>\n",
              "      <td>-4.967980e-01</td>\n",
              "      <td>-6.111596e-01</td>\n",
              "      <td>-1.337746e-01</td>\n",
              "      <td>-1.954358e-01</td>\n",
              "      <td>-2.707542e-02</td>\n",
              "      <td>6.971293e-01</td>\n",
              "      <td>-2.707542e-02</td>\n",
              "      <td>-1.562818e-02</td>\n",
              "      <td>-1.562818e-02</td>\n",
              "      <td>-1.804660e-02</td>\n",
              "      <td>-2.387633e-02</td>\n",
              "      <td>-1.804660e-02</td>\n",
              "      <td>-9.022199e-03</td>\n",
              "      <td>-9.022199e-03</td>\n",
              "      <td>-1.562818e-02</td>\n",
              "      <td>...</td>\n",
              "      <td>-6.262756e-02</td>\n",
              "      <td>-2.854116e-02</td>\n",
              "      <td>-2.387633e-02</td>\n",
              "      <td>-9.022199e-03</td>\n",
              "      <td>-3.254590e-02</td>\n",
              "      <td>-2.046777e-01</td>\n",
              "      <td>-9.022199e-03</td>\n",
              "      <td>-9.022199e-03</td>\n",
              "      <td>4.151273e-01</td>\n",
              "      <td>-2.017754e-02</td>\n",
              "      <td>-1.804660e-02</td>\n",
              "      <td>-9.022199e-03</td>\n",
              "      <td>-1.275984e-02</td>\n",
              "      <td>-9.022199e-03</td>\n",
              "      <td>-1.562818e-02</td>\n",
              "      <td>-1.275984e-02</td>\n",
              "      <td>-2.901499e-01</td>\n",
              "      <td>-9.022199e-03</td>\n",
              "      <td>-1.562818e-02</td>\n",
              "      <td>-1.275984e-02</td>\n",
              "      <td>-1.275984e-02</td>\n",
              "      <td>-6.827191e-02</td>\n",
              "      <td>-1.562818e-02</td>\n",
              "      <td>-1.562818e-02</td>\n",
              "      <td>-9.022199e-03</td>\n",
              "      <td>-4.693042e-02</td>\n",
              "      <td>-2.210428e-02</td>\n",
              "      <td>-2.552591e-02</td>\n",
              "      <td>-7.731261e-02</td>\n",
              "      <td>-1.275984e-02</td>\n",
              "      <td>-2.017754e-02</td>\n",
              "      <td>-9.022199e-03</td>\n",
              "      <td>-3.254590e-02</td>\n",
              "      <td>-1.275984e-02</td>\n",
              "      <td>-1.275984e-02</td>\n",
              "      <td>-9.022199e-03</td>\n",
              "      <td>-1.275984e-02</td>\n",
              "      <td>-9.022199e-03</td>\n",
              "      <td>2.117000e-01</td>\n",
              "      <td>-2.117000e-01</td>\n",
              "    </tr>\n",
              "    <tr>\n",
              "      <th>75%</th>\n",
              "      <td>1.200741e-01</td>\n",
              "      <td>3.795102e-01</td>\n",
              "      <td>7.640185e-01</td>\n",
              "      <td>-2.707542e-02</td>\n",
              "      <td>-3.496276e-02</td>\n",
              "      <td>-1.562818e-02</td>\n",
              "      <td>-4.779355e-02</td>\n",
              "      <td>-1.275984e-02</td>\n",
              "      <td>-5.345007e-02</td>\n",
              "      <td>-3.314324e-01</td>\n",
              "      <td>-5.715220e-02</td>\n",
              "      <td>-3.927687e-01</td>\n",
              "      <td>-1.085189e-01</td>\n",
              "      <td>-7.292953e-02</td>\n",
              "      <td>-9.022199e-03</td>\n",
              "      <td>-2.387633e-02</td>\n",
              "      <td>-6.766761e-02</td>\n",
              "      <td>-5.715220e-02</td>\n",
              "      <td>-1.325082e-01</td>\n",
              "      <td>-1.732440e-01</td>\n",
              "      <td>-8.395942e-02</td>\n",
              "      <td>-9.022199e-03</td>\n",
              "      <td>-1.804660e-02</td>\n",
              "      <td>-3.377586e-02</td>\n",
              "      <td>1.044327e+00</td>\n",
              "      <td>-4.967980e-01</td>\n",
              "      <td>1.636101e+00</td>\n",
              "      <td>-1.337746e-01</td>\n",
              "      <td>-1.954358e-01</td>\n",
              "      <td>-2.707542e-02</td>\n",
              "      <td>6.971293e-01</td>\n",
              "      <td>-2.707542e-02</td>\n",
              "      <td>-1.562818e-02</td>\n",
              "      <td>-1.562818e-02</td>\n",
              "      <td>-1.804660e-02</td>\n",
              "      <td>-2.387633e-02</td>\n",
              "      <td>-1.804660e-02</td>\n",
              "      <td>-9.022199e-03</td>\n",
              "      <td>-9.022199e-03</td>\n",
              "      <td>-1.562818e-02</td>\n",
              "      <td>...</td>\n",
              "      <td>-6.262756e-02</td>\n",
              "      <td>-2.854116e-02</td>\n",
              "      <td>-2.387633e-02</td>\n",
              "      <td>-9.022199e-03</td>\n",
              "      <td>-3.254590e-02</td>\n",
              "      <td>-2.046777e-01</td>\n",
              "      <td>-9.022199e-03</td>\n",
              "      <td>-9.022199e-03</td>\n",
              "      <td>4.151273e-01</td>\n",
              "      <td>-2.017754e-02</td>\n",
              "      <td>-1.804660e-02</td>\n",
              "      <td>-9.022199e-03</td>\n",
              "      <td>-1.275984e-02</td>\n",
              "      <td>-9.022199e-03</td>\n",
              "      <td>-1.562818e-02</td>\n",
              "      <td>-1.275984e-02</td>\n",
              "      <td>-2.901499e-01</td>\n",
              "      <td>-9.022199e-03</td>\n",
              "      <td>-1.562818e-02</td>\n",
              "      <td>-1.275984e-02</td>\n",
              "      <td>-1.275984e-02</td>\n",
              "      <td>-6.827191e-02</td>\n",
              "      <td>-1.562818e-02</td>\n",
              "      <td>-1.562818e-02</td>\n",
              "      <td>-9.022199e-03</td>\n",
              "      <td>-4.693042e-02</td>\n",
              "      <td>-2.210428e-02</td>\n",
              "      <td>-2.552591e-02</td>\n",
              "      <td>-7.731261e-02</td>\n",
              "      <td>-1.275984e-02</td>\n",
              "      <td>-2.017754e-02</td>\n",
              "      <td>-9.022199e-03</td>\n",
              "      <td>-3.254590e-02</td>\n",
              "      <td>-1.275984e-02</td>\n",
              "      <td>-1.275984e-02</td>\n",
              "      <td>-9.022199e-03</td>\n",
              "      <td>-1.275984e-02</td>\n",
              "      <td>-9.022199e-03</td>\n",
              "      <td>2.117000e-01</td>\n",
              "      <td>-2.117000e-01</td>\n",
              "    </tr>\n",
              "    <tr>\n",
              "      <th>max</th>\n",
              "      <td>1.414265e+01</td>\n",
              "      <td>9.359664e+00</td>\n",
              "      <td>1.333245e+00</td>\n",
              "      <td>3.693087e+01</td>\n",
              "      <td>2.859954e+01</td>\n",
              "      <td>6.398177e+01</td>\n",
              "      <td>2.092162e+01</td>\n",
              "      <td>7.836453e+01</td>\n",
              "      <td>1.870753e+01</td>\n",
              "      <td>3.016961e+00</td>\n",
              "      <td>1.749572e+01</td>\n",
              "      <td>2.545820e+00</td>\n",
              "      <td>9.214238e+00</td>\n",
              "      <td>1.371075e+01</td>\n",
              "      <td>1.108287e+02</td>\n",
              "      <td>4.187908e+01</td>\n",
              "      <td>1.477692e+01</td>\n",
              "      <td>1.749572e+01</td>\n",
              "      <td>7.546090e+00</td>\n",
              "      <td>5.771735e+00</td>\n",
              "      <td>1.190955e+01</td>\n",
              "      <td>1.108287e+02</td>\n",
              "      <td>5.540758e+01</td>\n",
              "      <td>2.960454e+01</td>\n",
              "      <td>1.044327e+00</td>\n",
              "      <td>2.012727e+00</td>\n",
              "      <td>1.636101e+00</td>\n",
              "      <td>7.474654e+00</td>\n",
              "      <td>5.116353e+00</td>\n",
              "      <td>3.693087e+01</td>\n",
              "      <td>6.971293e-01</td>\n",
              "      <td>3.693087e+01</td>\n",
              "      <td>6.398177e+01</td>\n",
              "      <td>6.398177e+01</td>\n",
              "      <td>5.540758e+01</td>\n",
              "      <td>4.187908e+01</td>\n",
              "      <td>5.540758e+01</td>\n",
              "      <td>1.108287e+02</td>\n",
              "      <td>1.108287e+02</td>\n",
              "      <td>6.398177e+01</td>\n",
              "      <td>...</td>\n",
              "      <td>1.596611e+01</td>\n",
              "      <td>3.503427e+01</td>\n",
              "      <td>4.187908e+01</td>\n",
              "      <td>1.108287e+02</td>\n",
              "      <td>3.072333e+01</td>\n",
              "      <td>4.885333e+00</td>\n",
              "      <td>1.108287e+02</td>\n",
              "      <td>1.108287e+02</td>\n",
              "      <td>4.151273e-01</td>\n",
              "      <td>4.955603e+01</td>\n",
              "      <td>5.540758e+01</td>\n",
              "      <td>1.108287e+02</td>\n",
              "      <td>7.836453e+01</td>\n",
              "      <td>1.108287e+02</td>\n",
              "      <td>6.398177e+01</td>\n",
              "      <td>7.836453e+01</td>\n",
              "      <td>3.446214e+00</td>\n",
              "      <td>1.108287e+02</td>\n",
              "      <td>6.398177e+01</td>\n",
              "      <td>7.836453e+01</td>\n",
              "      <td>7.836453e+01</td>\n",
              "      <td>1.464612e+01</td>\n",
              "      <td>6.398177e+01</td>\n",
              "      <td>6.398177e+01</td>\n",
              "      <td>1.108287e+02</td>\n",
              "      <td>2.130641e+01</td>\n",
              "      <td>4.523642e+01</td>\n",
              "      <td>3.917270e+01</td>\n",
              "      <td>1.293345e+01</td>\n",
              "      <td>7.836453e+01</td>\n",
              "      <td>4.955603e+01</td>\n",
              "      <td>1.108287e+02</td>\n",
              "      <td>3.072333e+01</td>\n",
              "      <td>7.836453e+01</td>\n",
              "      <td>7.836453e+01</td>\n",
              "      <td>1.108287e+02</td>\n",
              "      <td>7.836453e+01</td>\n",
              "      <td>1.108287e+02</td>\n",
              "      <td>2.117000e-01</td>\n",
              "      <td>4.723281e+00</td>\n",
              "    </tr>\n",
              "  </tbody>\n",
              "</table>\n",
              "<p>8 rows × 348 columns</p>\n",
              "</div>"
            ],
            "text/plain": [
              "         KMs Driven         Price  ...          Cash  Installment/Leasing\n",
              "count  1.228500e+04  1.228500e+04  ...  1.228500e+04         1.228500e+04\n",
              "mean   4.146595e-16  6.761651e-17  ...  2.643343e-16         1.893931e-16\n",
              "std    1.000000e+00  1.000000e+00  ...  1.000000e+00         1.000000e+00\n",
              "min   -6.179491e-01 -1.055674e+00  ... -4.723281e+00        -2.117000e-01\n",
              "25%   -4.670292e-01 -6.456215e-01  ...  2.117000e-01        -2.117000e-01\n",
              "50%   -1.270923e-01 -2.765741e-01  ...  2.117000e-01        -2.117000e-01\n",
              "75%    1.200741e-01  3.795102e-01  ...  2.117000e-01        -2.117000e-01\n",
              "max    1.414265e+01  9.359664e+00  ...  2.117000e-01         4.723281e+00\n",
              "\n",
              "[8 rows x 348 columns]"
            ]
          },
          "metadata": {
            "tags": []
          },
          "execution_count": 39
        }
      ]
    },
    {
      "cell_type": "code",
      "metadata": {
        "id": "ofNeRKLP_xtR",
        "outputId": "d827ec0d-9b00-4686-8c8d-843996b5c591",
        "colab": {
          "base_uri": "https://localhost:8080/"
        }
      },
      "source": [
        "X = data_stand\n",
        "y = condition_\n",
        "from sklearn.model_selection import train_test_split\n",
        "X_train, X_test, y_train, y_test = train_test_split(X, y, test_size = 0.3, random_state = 42)\n",
        "\n",
        "N_train, _ = X_train.shape \n",
        "N_test,  _ = X_test.shape \n",
        "\n",
        "print(N_train, N_test)"
      ],
      "execution_count": null,
      "outputs": [
        {
          "output_type": "stream",
          "text": [
            "8599 3686\n"
          ],
          "name": "stdout"
        }
      ]
    },
    {
      "cell_type": "code",
      "metadata": {
        "id": "MC11_mXIAblC",
        "outputId": "af49e175-67c7-40a6-9486-e6b96babce2e",
        "colab": {
          "base_uri": "https://localhost:8080/"
        }
      },
      "source": [
        "from sklearn.neighbors import KNeighborsClassifier\n",
        "\n",
        "knn = KNeighborsClassifier(n_neighbors = 10)\n",
        "knn.fit(X_train, y_train)"
      ],
      "execution_count": null,
      "outputs": [
        {
          "output_type": "execute_result",
          "data": {
            "text/plain": [
              "KNeighborsClassifier(algorithm='auto', leaf_size=30, metric='minkowski',\n",
              "                     metric_params=None, n_jobs=None, n_neighbors=10, p=2,\n",
              "                     weights='uniform')"
            ]
          },
          "metadata": {
            "tags": []
          },
          "execution_count": 41
        }
      ]
    },
    {
      "cell_type": "code",
      "metadata": {
        "id": "MlRRVPCHCYfc",
        "outputId": "248838e4-39af-447f-940b-70ed687a5740",
        "colab": {
          "base_uri": "https://localhost:8080/"
        }
      },
      "source": [
        "y_train_predict = knn.predict(X_train)\n",
        "y_test_predict = knn.predict(X_test)\n",
        "\n",
        "err_train = np.mean(y_train != y_train_predict)\n",
        "err_test  = np.mean(y_test  != y_test_predict)\n",
        "\n",
        "print(err_train, err_test)"
      ],
      "execution_count": null,
      "outputs": [
        {
          "output_type": "stream",
          "text": [
            "0.1465286661239679 0.16711882799782962\n"
          ],
          "name": "stdout"
        }
      ]
    },
    {
      "cell_type": "code",
      "metadata": {
        "id": "z4NJhv1oELrI",
        "outputId": "61a637e2-64c1-4c51-c630-d5e3d0c3a20e",
        "colab": {
          "base_uri": "https://localhost:8080/"
        }
      },
      "source": [
        "from sklearn.metrics import confusion_matrix\n",
        "\n",
        "print(confusion_matrix(y_test, y_test_predict))"
      ],
      "execution_count": null,
      "outputs": [
        {
          "output_type": "stream",
          "text": [
            "[[ 235  406]\n",
            " [ 210 2835]]\n"
          ],
          "name": "stdout"
        }
      ]
    }
  ]
}