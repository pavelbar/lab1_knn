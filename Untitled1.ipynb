{
  "nbformat": 4,
  "nbformat_minor": 0,
  "metadata": {
    "colab": {
      "name": "Untitled1.ipynb",
      "provenance": [],
      "toc_visible": true,
      "include_colab_link": true
    },
    "kernelspec": {
      "name": "python3",
      "display_name": "Python 3"
    }
  },
  "cells": [
    {
      "cell_type": "markdown",
      "metadata": {
        "id": "view-in-github",
        "colab_type": "text"
      },
      "source": [
        "<a href=\"https://colab.research.google.com/github/pavelbar/lab1_knn/blob/main/Untitled1.ipynb\" target=\"_parent\"><img src=\"https://colab.research.google.com/assets/colab-badge.svg\" alt=\"Open In Colab\"/></a>"
      ]
    },
    {
      "cell_type": "code",
      "metadata": {
        "id": "oJ0avyLEcETi"
      },
      "source": [
        "import numpy as np              # Массивы (матрицы, векторы, линейная алгебра)\n",
        "import matplotlib.pyplot as plt # Научная графика\n",
        "%matplotlib inline \n",
        "    # Говорим jupyter'у, чтобы весь графический вывод был в браузере, а не в отдельном окне\n",
        "import pandas as pd             # Таблицы и временные ряды (dataframe, series)\n",
        "import seaborn as sns           # Еще больше красивой графики для визуализации данных\n",
        "import sklearn                  # Алгоритмы машинного обучения"
      ],
      "execution_count": 1,
      "outputs": []
    },
    {
      "cell_type": "code",
      "metadata": {
        "id": "XhqE95fokn3F",
        "colab": {
          "base_uri": "https://localhost:8080/"
        },
        "outputId": "da2a538e-4d07-4afd-c194-f8df7636ae06"
      },
      "source": [
        "from google.colab import drive\n",
        "drive.mount('/content/drive')"
      ],
      "execution_count": 2,
      "outputs": [
        {
          "output_type": "stream",
          "text": [
            "Mounted at /content/drive\n"
          ],
          "name": "stdout"
        }
      ]
    },
    {
      "cell_type": "markdown",
      "metadata": {
        "id": "fCaaF_1IE1gL"
      },
      "source": [
        "Эти данные касаются подержанных и новых автомобилей, атак-же их цен в Пакистане. "
      ]
    },
    {
      "cell_type": "markdown",
      "metadata": {
        "id": "Bg7vs4DXDY8E"
      },
      "source": [
        "##Предварительная работа с данными"
      ]
    },
    {
      "cell_type": "code",
      "metadata": {
        "id": "r7NJsB0YcPVJ"
      },
      "source": [
        "data = pd.read_csv('/content/drive/My Drive/AAA_LABS/OLX_Car_Data_CSV.csv',  encoding= 'unicode_escape')\n"
      ],
      "execution_count": 3,
      "outputs": []
    },
    {
      "cell_type": "code",
      "metadata": {
        "id": "ZNmo5YU7lwY1",
        "colab": {
          "base_uri": "https://localhost:8080/"
        },
        "outputId": "6e2f056b-42a5-4d8e-baef-1ad263f85526"
      },
      "source": [
        "data.shape"
      ],
      "execution_count": 4,
      "outputs": [
        {
          "output_type": "execute_result",
          "data": {
            "text/plain": [
              "(24973, 9)"
            ]
          },
          "metadata": {
            "tags": []
          },
          "execution_count": 4
        }
      ]
    },
    {
      "cell_type": "code",
      "metadata": {
        "id": "VKe3JSxYl45P",
        "colab": {
          "base_uri": "https://localhost:8080/",
          "height": 0
        },
        "outputId": "91ce965e-f85b-433d-e16b-62e1e44cee08"
      },
      "source": [
        "data.sample(10)"
      ],
      "execution_count": 5,
      "outputs": [
        {
          "output_type": "execute_result",
          "data": {
            "text/html": [
              "<div>\n",
              "<style scoped>\n",
              "    .dataframe tbody tr th:only-of-type {\n",
              "        vertical-align: middle;\n",
              "    }\n",
              "\n",
              "    .dataframe tbody tr th {\n",
              "        vertical-align: top;\n",
              "    }\n",
              "\n",
              "    .dataframe thead th {\n",
              "        text-align: right;\n",
              "    }\n",
              "</style>\n",
              "<table border=\"1\" class=\"dataframe\">\n",
              "  <thead>\n",
              "    <tr style=\"text-align: right;\">\n",
              "      <th></th>\n",
              "      <th>Brand</th>\n",
              "      <th>Condition</th>\n",
              "      <th>Fuel</th>\n",
              "      <th>KMs Driven</th>\n",
              "      <th>Model</th>\n",
              "      <th>Price</th>\n",
              "      <th>Registered City</th>\n",
              "      <th>Transaction Type</th>\n",
              "      <th>Year</th>\n",
              "    </tr>\n",
              "  </thead>\n",
              "  <tbody>\n",
              "    <tr>\n",
              "      <th>21733</th>\n",
              "      <td>Toyota</td>\n",
              "      <td>Used</td>\n",
              "      <td>Petrol</td>\n",
              "      <td>74000.0</td>\n",
              "      <td>Vitz</td>\n",
              "      <td>900000</td>\n",
              "      <td>Karachi</td>\n",
              "      <td>Cash</td>\n",
              "      <td>2005.0</td>\n",
              "    </tr>\n",
              "    <tr>\n",
              "      <th>10282</th>\n",
              "      <td>Suzuki</td>\n",
              "      <td>Used</td>\n",
              "      <td>Petrol</td>\n",
              "      <td>1.0</td>\n",
              "      <td>Bolan</td>\n",
              "      <td>500000</td>\n",
              "      <td>Karachi</td>\n",
              "      <td>Cash</td>\n",
              "      <td>2007.0</td>\n",
              "    </tr>\n",
              "    <tr>\n",
              "      <th>2453</th>\n",
              "      <td>Toyota</td>\n",
              "      <td>Used</td>\n",
              "      <td>Petrol</td>\n",
              "      <td>82000.0</td>\n",
              "      <td>Corrolla Altis</td>\n",
              "      <td>1450000</td>\n",
              "      <td>Karachi</td>\n",
              "      <td>Cash</td>\n",
              "      <td>2011.0</td>\n",
              "    </tr>\n",
              "    <tr>\n",
              "      <th>14466</th>\n",
              "      <td>Suzuki</td>\n",
              "      <td>Used</td>\n",
              "      <td>Petrol</td>\n",
              "      <td>13845.0</td>\n",
              "      <td>FX</td>\n",
              "      <td>110000</td>\n",
              "      <td>Karachi</td>\n",
              "      <td>Cash</td>\n",
              "      <td>1983.0</td>\n",
              "    </tr>\n",
              "    <tr>\n",
              "      <th>20964</th>\n",
              "      <td>Suzuki</td>\n",
              "      <td>New</td>\n",
              "      <td>Petrol</td>\n",
              "      <td>74000.0</td>\n",
              "      <td>Every</td>\n",
              "      <td>1069000</td>\n",
              "      <td>NaN</td>\n",
              "      <td>Cash</td>\n",
              "      <td>2014.0</td>\n",
              "    </tr>\n",
              "    <tr>\n",
              "      <th>8144</th>\n",
              "      <td>Toyota</td>\n",
              "      <td>New</td>\n",
              "      <td>Petrol</td>\n",
              "      <td>35600.0</td>\n",
              "      <td>Vitz</td>\n",
              "      <td>1900000</td>\n",
              "      <td>Karachi</td>\n",
              "      <td>Cash</td>\n",
              "      <td>2016.0</td>\n",
              "    </tr>\n",
              "    <tr>\n",
              "      <th>18335</th>\n",
              "      <td>Suzuki</td>\n",
              "      <td>Used</td>\n",
              "      <td>CNG</td>\n",
              "      <td>40000.0</td>\n",
              "      <td>Bolan</td>\n",
              "      <td>560000</td>\n",
              "      <td>Karachi</td>\n",
              "      <td>Cash</td>\n",
              "      <td>2012.0</td>\n",
              "    </tr>\n",
              "    <tr>\n",
              "      <th>4665</th>\n",
              "      <td>Toyota</td>\n",
              "      <td>Used</td>\n",
              "      <td>Petrol</td>\n",
              "      <td>172000.0</td>\n",
              "      <td>Vitz</td>\n",
              "      <td>950000</td>\n",
              "      <td>Karachi</td>\n",
              "      <td>Cash</td>\n",
              "      <td>2006.0</td>\n",
              "    </tr>\n",
              "    <tr>\n",
              "      <th>9279</th>\n",
              "      <td>Hyundai</td>\n",
              "      <td>New</td>\n",
              "      <td>Petrol</td>\n",
              "      <td>150000.0</td>\n",
              "      <td>Santro</td>\n",
              "      <td>360000</td>\n",
              "      <td>Karachi</td>\n",
              "      <td>Cash</td>\n",
              "      <td>2004.0</td>\n",
              "    </tr>\n",
              "    <tr>\n",
              "      <th>10222</th>\n",
              "      <td>Daihatsu</td>\n",
              "      <td>Used</td>\n",
              "      <td>Petrol</td>\n",
              "      <td>2481.0</td>\n",
              "      <td>Hijet</td>\n",
              "      <td>870000</td>\n",
              "      <td>NaN</td>\n",
              "      <td>Cash</td>\n",
              "      <td>2018.0</td>\n",
              "    </tr>\n",
              "  </tbody>\n",
              "</table>\n",
              "</div>"
            ],
            "text/plain": [
              "          Brand Condition    Fuel  ...  Registered City Transaction Type    Year\n",
              "21733    Toyota      Used  Petrol  ...          Karachi             Cash  2005.0\n",
              "10282    Suzuki      Used  Petrol  ...          Karachi             Cash  2007.0\n",
              "2453     Toyota      Used  Petrol  ...          Karachi             Cash  2011.0\n",
              "14466    Suzuki      Used  Petrol  ...          Karachi             Cash  1983.0\n",
              "20964    Suzuki       New  Petrol  ...              NaN             Cash  2014.0\n",
              "8144     Toyota       New  Petrol  ...          Karachi             Cash  2016.0\n",
              "18335    Suzuki      Used     CNG  ...          Karachi             Cash  2012.0\n",
              "4665     Toyota      Used  Petrol  ...          Karachi             Cash  2006.0\n",
              "9279    Hyundai       New  Petrol  ...          Karachi             Cash  2004.0\n",
              "10222  Daihatsu      Used  Petrol  ...              NaN             Cash  2018.0\n",
              "\n",
              "[10 rows x 9 columns]"
            ]
          },
          "metadata": {
            "tags": []
          },
          "execution_count": 5
        }
      ]
    },
    {
      "cell_type": "code",
      "metadata": {
        "id": "oVZ6OX3QmPcV"
      },
      "source": [
        "data = data.sample(frac=1)"
      ],
      "execution_count": 6,
      "outputs": []
    },
    {
      "cell_type": "code",
      "metadata": {
        "id": "FOo8rtj_nIt2"
      },
      "source": [
        "df1 = data[0:12486]\n",
        "df2 = data[12486:24973]"
      ],
      "execution_count": 7,
      "outputs": []
    },
    {
      "cell_type": "code",
      "metadata": {
        "id": "6NnKDHXLoMPD",
        "colab": {
          "base_uri": "https://localhost:8080/",
          "height": 0
        },
        "outputId": "74dc6cf1-bc31-4acc-b6b4-849779b37269"
      },
      "source": [
        "plt.scatter(data['Year'], data['Price'])\n",
        "pass"
      ],
      "execution_count": 8,
      "outputs": [
        {
          "output_type": "display_data",
          "data": {
            "image/png": "[encoded data removed]",
            "text/plain": [
              "<Figure size 432x288 with 1 Axes>"
            ]
          },
          "metadata": {
            "tags": [],
            "needs_background": "light"
          }
        }
      ]
    },
    {
      "cell_type": "code",
      "metadata": {
        "id": "SHiNMu0qoyCa",
        "colab": {
          "base_uri": "https://localhost:8080/",
          "height": 0
        },
        "outputId": "820ecfc1-f422-42ea-c119-c91b328ff4aa"
      },
      "source": [
        "plt.scatter(data['Year'], data['KMs Driven'])\n",
        "pass"
      ],
      "execution_count": 9,
      "outputs": [
        {
          "output_type": "display_data",
          "data": {
            "image/png": "[encoded data removed]",
            "text/plain": [
              "<Figure size 432x288 with 1 Axes>"
            ]
          },
          "metadata": {
            "tags": [],
            "needs_background": "light"
          }
        }
      ]
    },
    {
      "cell_type": "code",
      "metadata": {
        "id": "DqJmtCFhpPpZ",
        "colab": {
          "base_uri": "https://localhost:8080/",
          "height": 0
        },
        "outputId": "c1d9a756-ddef-4895-b2c0-c2015b7fbb91"
      },
      "source": [
        "plt.scatter(data['KMs Driven'], data['Price'])\n",
        "pass"
      ],
      "execution_count": 10,
      "outputs": [
        {
          "output_type": "display_data",
          "data": {
            "image/png": "[encoded data removed]",
            "text/plain": [
              "<Figure size 432x288 with 1 Axes>"
            ]
          },
          "metadata": {
            "tags": [],
            "needs_background": "light"
          }
        }
      ]
    },
    {
      "cell_type": "markdown",
      "metadata": {
        "id": "5EhcC9XfptOn"
      },
      "source": [
        "### Борьба с выбросами.\n"
      ]
    },
    {
      "cell_type": "code",
      "metadata": {
        "id": "4cA3W1Z-p5D_",
        "colab": {
          "base_uri": "https://localhost:8080/"
        },
        "outputId": "e83b2931-1173-416c-c1f6-e4100096dbc8"
      },
      "source": [
        "df1['Price'].quantile([0.005,.01,.05,.1,.5,.9,.95,.99,.995])"
      ],
      "execution_count": 11,
      "outputs": [
        {
          "output_type": "execute_result",
          "data": {
            "text/plain": [
              "0.005      80000.0\n",
              "0.010      95000.0\n",
              "0.050     150000.0\n",
              "0.100     200000.0\n",
              "0.500     665000.0\n",
              "0.900    1720000.0\n",
              "0.950    2225000.0\n",
              "0.990    4600000.0\n",
              "0.995    7500000.0\n",
              "Name: Price, dtype: float64"
            ]
          },
          "metadata": {
            "tags": []
          },
          "execution_count": 11
        }
      ]
    },
    {
      "cell_type": "code",
      "metadata": {
        "id": "vZ6lJz_KqLZ5",
        "colab": {
          "base_uri": "https://localhost:8080/"
        },
        "outputId": "974b4705-92df-4cac-a56d-d9d631f4f3af"
      },
      "source": [
        "df1['Year'].quantile([0.005,.01,.05,.1,.5,.9,.95,.99,.995])"
      ],
      "execution_count": 12,
      "outputs": [
        {
          "output_type": "execute_result",
          "data": {
            "text/plain": [
              "0.005    1974.0\n",
              "0.010    1981.0\n",
              "0.050    1986.0\n",
              "0.100    1991.0\n",
              "0.500    2008.0\n",
              "0.900    2016.0\n",
              "0.950    2017.0\n",
              "0.990    2018.0\n",
              "0.995    2018.0\n",
              "Name: Year, dtype: float64"
            ]
          },
          "metadata": {
            "tags": []
          },
          "execution_count": 12
        }
      ]
    },
    {
      "cell_type": "code",
      "metadata": {
        "id": "wZ6Z2-ODqXKY",
        "colab": {
          "base_uri": "https://localhost:8080/"
        },
        "outputId": "d091d935-0ce6-4aac-e06d-3f3cdf3f0c60"
      },
      "source": [
        "df1['KMs Driven'].quantile([0.005,.01,.05,.1,.5,.9,.95,.99,.995])"
      ],
      "execution_count": 13,
      "outputs": [
        {
          "output_type": "execute_result",
          "data": {
            "text/plain": [
              "0.005          1.0\n",
              "0.010          1.0\n",
              "0.050          1.0\n",
              "0.100         30.0\n",
              "0.500      66183.0\n",
              "0.900     150000.0\n",
              "0.950     205780.1\n",
              "0.990    1018965.0\n",
              "0.995    2000000.0\n",
              "Name: KMs Driven, dtype: float64"
            ]
          },
          "metadata": {
            "tags": []
          },
          "execution_count": 13
        }
      ]
    },
    {
      "cell_type": "code",
      "metadata": {
        "id": "CyVhC1WKqkP_",
        "colab": {
          "base_uri": "https://localhost:8080/"
        },
        "outputId": "f5cb9276-32d2-449c-8b4d-4f48b82b9ad2"
      },
      "source": [
        "rows_to_drop = df1[\n",
        "    (df1['Price'] < df1['Price'].quantile(0.005)) | (df1['Price'] > df1['Price'].quantile(0.995)) | \n",
        "    (df1['Year'] < df1['Year'].quantile(0.005)) | (df1['Year'] > df1['Year'].quantile(0.995)) |\n",
        "    (df1['KMs Driven']  < df1['KMs Driven' ].quantile(0.005)) | (df1['KMs Driven']  > df1['KMs Driven' ].quantile(0.995))].index\n",
        "data_itog = df1.drop(rows_to_drop)\n",
        "data_itog.shape"
      ],
      "execution_count": 14,
      "outputs": [
        {
          "output_type": "execute_result",
          "data": {
            "text/plain": [
              "(12288, 9)"
            ]
          },
          "metadata": {
            "tags": []
          },
          "execution_count": 14
        }
      ]
    },
    {
      "cell_type": "code",
      "metadata": {
        "id": "h_IU6IMnromY",
        "colab": {
          "base_uri": "https://localhost:8080/"
        },
        "outputId": "4b697c4d-7deb-4e3e-d0bb-866830b518dd"
      },
      "source": [
        "data_itog.info(memory_usage='deep')"
      ],
      "execution_count": 15,
      "outputs": [
        {
          "output_type": "stream",
          "text": [
            "<class 'pandas.core.frame.DataFrame'>\n",
            "Int64Index: 12288 entries, 18060 to 1281\n",
            "Data columns (total 9 columns):\n",
            " #   Column            Non-Null Count  Dtype  \n",
            "---  ------            --------------  -----  \n",
            " 0   Brand             11242 non-null  object \n",
            " 1   Condition         11243 non-null  object \n",
            " 2   Fuel              11092 non-null  object \n",
            " 3   KMs Driven        11179 non-null  float64\n",
            " 4   Model             11091 non-null  object \n",
            " 5   Price             12288 non-null  int64  \n",
            " 6   Registered City   10021 non-null  object \n",
            " 7   Transaction Type  11092 non-null  object \n",
            " 8   Year              11179 non-null  float64\n",
            "dtypes: float64(2), int64(1), object(6)\n",
            "memory usage: 4.6 MB\n"
          ],
          "name": "stdout"
        }
      ]
    },
    {
      "cell_type": "code",
      "metadata": {
        "id": "ZD4UNIA3rsSt",
        "colab": {
          "base_uri": "https://localhost:8080/",
          "height": 0
        },
        "outputId": "0fb74a72-37d1-4345-957e-49dcc87a78e7"
      },
      "source": [
        "data_obj = data_itog.select_dtypes(include=['object']).copy()\n",
        "data_obj.describe()"
      ],
      "execution_count": 16,
      "outputs": [
        {
          "output_type": "execute_result",
          "data": {
            "text/html": [
              "<div>\n",
              "<style scoped>\n",
              "    .dataframe tbody tr th:only-of-type {\n",
              "        vertical-align: middle;\n",
              "    }\n",
              "\n",
              "    .dataframe tbody tr th {\n",
              "        vertical-align: top;\n",
              "    }\n",
              "\n",
              "    .dataframe thead th {\n",
              "        text-align: right;\n",
              "    }\n",
              "</style>\n",
              "<table border=\"1\" class=\"dataframe\">\n",
              "  <thead>\n",
              "    <tr style=\"text-align: right;\">\n",
              "      <th></th>\n",
              "      <th>Brand</th>\n",
              "      <th>Condition</th>\n",
              "      <th>Fuel</th>\n",
              "      <th>Model</th>\n",
              "      <th>Registered City</th>\n",
              "      <th>Transaction Type</th>\n",
              "    </tr>\n",
              "  </thead>\n",
              "  <tbody>\n",
              "    <tr>\n",
              "      <th>count</th>\n",
              "      <td>11242</td>\n",
              "      <td>11243</td>\n",
              "      <td>11092</td>\n",
              "      <td>11091</td>\n",
              "      <td>10021</td>\n",
              "      <td>11092</td>\n",
              "    </tr>\n",
              "    <tr>\n",
              "      <th>unique</th>\n",
              "      <td>22</td>\n",
              "      <td>2</td>\n",
              "      <td>5</td>\n",
              "      <td>260</td>\n",
              "      <td>47</td>\n",
              "      <td>2</td>\n",
              "    </tr>\n",
              "    <tr>\n",
              "      <th>top</th>\n",
              "      <td>Suzuki</td>\n",
              "      <td>Used</td>\n",
              "      <td>Petrol</td>\n",
              "      <td>Cultus VXR</td>\n",
              "      <td>Karachi</td>\n",
              "      <td>Cash</td>\n",
              "    </tr>\n",
              "    <tr>\n",
              "      <th>freq</th>\n",
              "      <td>4846</td>\n",
              "      <td>9061</td>\n",
              "      <td>7083</td>\n",
              "      <td>878</td>\n",
              "      <td>8220</td>\n",
              "      <td>10587</td>\n",
              "    </tr>\n",
              "  </tbody>\n",
              "</table>\n",
              "</div>"
            ],
            "text/plain": [
              "         Brand Condition    Fuel       Model Registered City Transaction Type\n",
              "count    11242     11243   11092       11091           10021            11092\n",
              "unique      22         2       5         260              47                2\n",
              "top     Suzuki      Used  Petrol  Cultus VXR         Karachi             Cash\n",
              "freq      4846      9061    7083         878            8220            10587"
            ]
          },
          "metadata": {
            "tags": []
          },
          "execution_count": 16
        }
      ]
    },
    {
      "cell_type": "code",
      "metadata": {
        "id": "D4T-9SKBsWPz"
      },
      "source": [
        "converted_obj = pd.DataFrame()\n",
        "\n",
        "for col in data_itog.columns:\n",
        "    if ((col != 'Price') & (col != 'Year') & (col != 'KMs Driven')):\n",
        "        num_unique_values = len(data_itog[col].unique())\n",
        "        num_total_values = len(data_itog[col])\n",
        "        if num_unique_values / num_total_values < 0.5:\n",
        "            converted_obj.loc[:,col] = data_itog[col].astype('category')\n",
        "        else:\n",
        "            converted_obj.loc[:,col] = data_itog[col]\n",
        "    else:\n",
        "        converted_obj.loc[:,col] = data_itog[col]"
      ],
      "execution_count": 17,
      "outputs": []
    },
    {
      "cell_type": "code",
      "metadata": {
        "id": "HwCIXmkZtUBY",
        "colab": {
          "base_uri": "https://localhost:8080/"
        },
        "outputId": "2a364787-620c-4033-9e49-43e282f753af"
      },
      "source": [
        "converted_obj.info(memory_usage='deep')"
      ],
      "execution_count": 18,
      "outputs": [
        {
          "output_type": "stream",
          "text": [
            "<class 'pandas.core.frame.DataFrame'>\n",
            "Int64Index: 12288 entries, 18060 to 1281\n",
            "Data columns (total 9 columns):\n",
            " #   Column            Non-Null Count  Dtype   \n",
            "---  ------            --------------  -----   \n",
            " 0   Brand             11242 non-null  category\n",
            " 1   Condition         11243 non-null  category\n",
            " 2   Fuel              11092 non-null  category\n",
            " 3   KMs Driven        11179 non-null  float64 \n",
            " 4   Model             11091 non-null  category\n",
            " 5   Price             12288 non-null  int64   \n",
            " 6   Registered City   10021 non-null  category\n",
            " 7   Transaction Type  11092 non-null  category\n",
            " 8   Year              11179 non-null  float64 \n",
            "dtypes: category(6), float64(2), int64(1)\n",
            "memory usage: 501.2 KB\n"
          ],
          "name": "stdout"
        }
      ]
    },
    {
      "cell_type": "code",
      "metadata": {
        "id": "PtAJoRuetZhB",
        "colab": {
          "base_uri": "https://localhost:8080/",
          "height": 0
        },
        "outputId": "c51df613-e1d2-4524-84a9-148fd8a4d1b3"
      },
      "source": [
        "converted_obj.describe(include=['category'])"
      ],
      "execution_count": 19,
      "outputs": [
        {
          "output_type": "execute_result",
          "data": {
            "text/html": [
              "<div>\n",
              "<style scoped>\n",
              "    .dataframe tbody tr th:only-of-type {\n",
              "        vertical-align: middle;\n",
              "    }\n",
              "\n",
              "    .dataframe tbody tr th {\n",
              "        vertical-align: top;\n",
              "    }\n",
              "\n",
              "    .dataframe thead th {\n",
              "        text-align: right;\n",
              "    }\n",
              "</style>\n",
              "<table border=\"1\" class=\"dataframe\">\n",
              "  <thead>\n",
              "    <tr style=\"text-align: right;\">\n",
              "      <th></th>\n",
              "      <th>Brand</th>\n",
              "      <th>Condition</th>\n",
              "      <th>Fuel</th>\n",
              "      <th>Model</th>\n",
              "      <th>Registered City</th>\n",
              "      <th>Transaction Type</th>\n",
              "    </tr>\n",
              "  </thead>\n",
              "  <tbody>\n",
              "    <tr>\n",
              "      <th>count</th>\n",
              "      <td>11242</td>\n",
              "      <td>11243</td>\n",
              "      <td>11092</td>\n",
              "      <td>11091</td>\n",
              "      <td>10021</td>\n",
              "      <td>11092</td>\n",
              "    </tr>\n",
              "    <tr>\n",
              "      <th>unique</th>\n",
              "      <td>22</td>\n",
              "      <td>2</td>\n",
              "      <td>5</td>\n",
              "      <td>260</td>\n",
              "      <td>47</td>\n",
              "      <td>2</td>\n",
              "    </tr>\n",
              "    <tr>\n",
              "      <th>top</th>\n",
              "      <td>Suzuki</td>\n",
              "      <td>Used</td>\n",
              "      <td>Petrol</td>\n",
              "      <td>Cultus VXR</td>\n",
              "      <td>Karachi</td>\n",
              "      <td>Cash</td>\n",
              "    </tr>\n",
              "    <tr>\n",
              "      <th>freq</th>\n",
              "      <td>4846</td>\n",
              "      <td>9061</td>\n",
              "      <td>7083</td>\n",
              "      <td>878</td>\n",
              "      <td>8220</td>\n",
              "      <td>10587</td>\n",
              "    </tr>\n",
              "  </tbody>\n",
              "</table>\n",
              "</div>"
            ],
            "text/plain": [
              "         Brand Condition    Fuel       Model Registered City Transaction Type\n",
              "count    11242     11243   11092       11091           10021            11092\n",
              "unique      22         2       5         260              47                2\n",
              "top     Suzuki      Used  Petrol  Cultus VXR         Karachi             Cash\n",
              "freq      4846      9061    7083         878            8220            10587"
            ]
          },
          "metadata": {
            "tags": []
          },
          "execution_count": 19
        }
      ]
    },
    {
      "cell_type": "code",
      "metadata": {
        "id": "rT7QcOPYtfkl",
        "colab": {
          "base_uri": "https://localhost:8080/",
          "height": 0
        },
        "outputId": "88b82ac3-d7e1-4f85-e87d-6778401cde57"
      },
      "source": [
        "plt.scatter(converted_obj['Year'], converted_obj['Price'], alpha=0.01)\n",
        "pass"
      ],
      "execution_count": 20,
      "outputs": [
        {
          "output_type": "display_data",
          "data": {
            "image/png": "[encoded data removed]",
            "text/plain": [
              "<Figure size 432x288 with 1 Axes>"
            ]
          },
          "metadata": {
            "tags": [],
            "needs_background": "light"
          }
        }
      ]
    },
    {
      "cell_type": "code",
      "metadata": {
        "id": "IKVDKnCytu4Q",
        "colab": {
          "base_uri": "https://localhost:8080/",
          "height": 0
        },
        "outputId": "7c2831dd-ef77-4278-b79f-c04c8de56bee"
      },
      "source": [
        "plt.scatter(converted_obj['Year'], converted_obj['KMs Driven'], alpha=0.01)\n",
        "pass"
      ],
      "execution_count": 21,
      "outputs": [
        {
          "output_type": "display_data",
          "data": {
            "image/png": "[encoded data removed]",
            "text/plain": [
              "<Figure size 432x288 with 1 Axes>"
            ]
          },
          "metadata": {
            "tags": [],
            "needs_background": "light"
          }
        }
      ]
    },
    {
      "cell_type": "code",
      "metadata": {
        "id": "ybQEQxCJt94o",
        "colab": {
          "base_uri": "https://localhost:8080/",
          "height": 0
        },
        "outputId": "914e66dd-50e3-48a6-e10e-b63f06561596"
      },
      "source": [
        "plt.scatter(converted_obj['KMs Driven'], converted_obj['Price'], alpha=0.01)\n",
        "pass"
      ],
      "execution_count": 22,
      "outputs": [
        {
          "output_type": "display_data",
          "data": {
            "image/png": "[encoded data removed]",
            "text/plain": [
              "<Figure size 432x288 with 1 Axes>"
            ]
          },
          "metadata": {
            "tags": [],
            "needs_background": "light"
          }
        }
      ]
    },
    {
      "cell_type": "code",
      "metadata": {
        "id": "RjzBzp_JucVf",
        "colab": {
          "base_uri": "https://localhost:8080/",
          "height": 0
        },
        "outputId": "ea9b8994-53fd-4a42-8b9f-401bca2f2d79"
      },
      "source": [
        "sns.distplot(converted_obj['Price'], bins=15)\n",
        "plt.grid()\n",
        "pass"
      ],
      "execution_count": 23,
      "outputs": [
        {
          "output_type": "stream",
          "text": [
            "/usr/local/lib/python3.6/dist-packages/seaborn/distributions.py:2551: FutureWarning: `distplot` is a deprecated function and will be removed in a future version. Please adapt your code to use either `displot` (a figure-level function with similar flexibility) or `histplot` (an axes-level function for histograms).\n",
            "  warnings.warn(msg, FutureWarning)\n"
          ],
          "name": "stderr"
        },
        {
          "output_type": "display_data",
          "data": {
            "image/png": "[encoded data removed]",
            "text/plain": [
              "<Figure size 432x288 with 1 Axes>"
            ]
          },
          "metadata": {
            "tags": [],
            "needs_background": "light"
          }
        }
      ]
    },
    {
      "cell_type": "code",
      "metadata": {
        "id": "ME9FrIiRumKW",
        "colab": {
          "base_uri": "https://localhost:8080/",
          "height": 0
        },
        "outputId": "8d923d3b-83c5-40eb-b532-5f3b6f26fdd5"
      },
      "source": [
        "corr_mat = converted_obj.corr()\n",
        "corr_mat"
      ],
      "execution_count": 24,
      "outputs": [
        {
          "output_type": "execute_result",
          "data": {
            "text/html": [
              "<div>\n",
              "<style scoped>\n",
              "    .dataframe tbody tr th:only-of-type {\n",
              "        vertical-align: middle;\n",
              "    }\n",
              "\n",
              "    .dataframe tbody tr th {\n",
              "        vertical-align: top;\n",
              "    }\n",
              "\n",
              "    .dataframe thead th {\n",
              "        text-align: right;\n",
              "    }\n",
              "</style>\n",
              "<table border=\"1\" class=\"dataframe\">\n",
              "  <thead>\n",
              "    <tr style=\"text-align: right;\">\n",
              "      <th></th>\n",
              "      <th>KMs Driven</th>\n",
              "      <th>Price</th>\n",
              "      <th>Year</th>\n",
              "    </tr>\n",
              "  </thead>\n",
              "  <tbody>\n",
              "    <tr>\n",
              "      <th>KMs Driven</th>\n",
              "      <td>1.000000</td>\n",
              "      <td>-0.081638</td>\n",
              "      <td>-0.158147</td>\n",
              "    </tr>\n",
              "    <tr>\n",
              "      <th>Price</th>\n",
              "      <td>-0.081638</td>\n",
              "      <td>1.000000</td>\n",
              "      <td>0.496733</td>\n",
              "    </tr>\n",
              "    <tr>\n",
              "      <th>Year</th>\n",
              "      <td>-0.158147</td>\n",
              "      <td>0.496733</td>\n",
              "      <td>1.000000</td>\n",
              "    </tr>\n",
              "  </tbody>\n",
              "</table>\n",
              "</div>"
            ],
            "text/plain": [
              "            KMs Driven     Price      Year\n",
              "KMs Driven    1.000000 -0.081638 -0.158147\n",
              "Price        -0.081638  1.000000  0.496733\n",
              "Year         -0.158147  0.496733  1.000000"
            ]
          },
          "metadata": {
            "tags": []
          },
          "execution_count": 24
        }
      ]
    },
    {
      "cell_type": "code",
      "metadata": {
        "id": "ln_MoDm0wlK5",
        "colab": {
          "base_uri": "https://localhost:8080/",
          "height": 0
        },
        "outputId": "702c8a42-2011-4b8d-e633-9a61d5dce6af"
      },
      "source": [
        "sns.heatmap(corr_mat, square=True, cmap='coolwarm')\n",
        "pass"
      ],
      "execution_count": 25,
      "outputs": [
        {
          "output_type": "display_data",
          "data": {
            "image/png": "[encoded data removed]",
            "text/plain": [
              "<Figure size 432x288 with 2 Axes>"
            ]
          },
          "metadata": {
            "tags": [],
            "needs_background": "light"
          }
        }
      ]
    },
    {
      "cell_type": "code",
      "metadata": {
        "id": "7bJnR8zDwvWz",
        "colab": {
          "base_uri": "https://localhost:8080/"
        },
        "outputId": "836dfb1b-49ae-43df-d83e-f84a204505ee"
      },
      "source": [
        "converted_obj.isna().sum()"
      ],
      "execution_count": 26,
      "outputs": [
        {
          "output_type": "execute_result",
          "data": {
            "text/plain": [
              "Brand               1046\n",
              "Condition           1045\n",
              "Fuel                1196\n",
              "KMs Driven          1109\n",
              "Model               1197\n",
              "Price                  0\n",
              "Registered City     2267\n",
              "Transaction Type    1196\n",
              "Year                1109\n",
              "dtype: int64"
            ]
          },
          "metadata": {
            "tags": []
          },
          "execution_count": 26
        }
      ]
    },
    {
      "cell_type": "code",
      "metadata": {
        "id": "t5EjgW9hw_8q"
      },
      "source": [
        "converted_obj.fillna(data.median(axis = 0), axis=0 , inplace=True)"
      ],
      "execution_count": 27,
      "outputs": []
    },
    {
      "cell_type": "code",
      "metadata": {
        "id": "s2L7LamhxFbc",
        "colab": {
          "base_uri": "https://localhost:8080/"
        },
        "outputId": "d40e2216-40df-40b2-d9cf-7cdb4e1b1f7e"
      },
      "source": [
        "converted_obj.isna().sum()"
      ],
      "execution_count": 28,
      "outputs": [
        {
          "output_type": "execute_result",
          "data": {
            "text/plain": [
              "Brand               1046\n",
              "Condition           1045\n",
              "Fuel                1196\n",
              "KMs Driven             0\n",
              "Model               1197\n",
              "Price                  0\n",
              "Registered City     2267\n",
              "Transaction Type    1196\n",
              "Year                   0\n",
              "dtype: int64"
            ]
          },
          "metadata": {
            "tags": []
          },
          "execution_count": 28
        }
      ]
    },
    {
      "cell_type": "code",
      "metadata": {
        "id": "1NRw2JX6xHQL"
      },
      "source": [
        "converted_obj['Brand'].fillna(data['Brand'].mode().iloc[0], inplace=True)\n",
        "converted_obj['Condition'].fillna(data['Condition'].mode().iloc[0], inplace=True)\n",
        "converted_obj['Fuel'].fillna(data['Fuel'].mode().iloc[0], inplace=True)\n",
        "converted_obj['Model'].fillna(data['Model'].mode().iloc[0], inplace=True)\n",
        "converted_obj['Registered City'].fillna(data['Registered City'].mode().iloc[0], inplace=True)\n",
        "converted_obj['Transaction Type'].fillna(data['Transaction Type'].mode().iloc[0], inplace=True)"
      ],
      "execution_count": 29,
      "outputs": []
    },
    {
      "cell_type": "code",
      "metadata": {
        "id": "Hz6p6nslxxkP",
        "colab": {
          "base_uri": "https://localhost:8080/"
        },
        "outputId": "2424f52d-12fe-40c7-ce2e-ea9ba2f7d8af"
      },
      "source": [
        "converted_obj.isna().sum()"
      ],
      "execution_count": 30,
      "outputs": [
        {
          "output_type": "execute_result",
          "data": {
            "text/plain": [
              "Brand               0\n",
              "Condition           0\n",
              "Fuel                0\n",
              "KMs Driven          0\n",
              "Model               0\n",
              "Price               0\n",
              "Registered City     0\n",
              "Transaction Type    0\n",
              "Year                0\n",
              "dtype: int64"
            ]
          },
          "metadata": {
            "tags": []
          },
          "execution_count": 30
        }
      ]
    },
    {
      "cell_type": "code",
      "metadata": {
        "id": "fx7zcL6Wx1js",
        "colab": {
          "base_uri": "https://localhost:8080/"
        },
        "outputId": "f5872ab4-ea16-455b-9d15-3ab4ab0385eb"
      },
      "source": [
        "converted_obj['Condition'].value_counts()"
      ],
      "execution_count": 31,
      "outputs": [
        {
          "output_type": "execute_result",
          "data": {
            "text/plain": [
              "Used    10106\n",
              "New      2182\n",
              "Name: Condition, dtype: int64"
            ]
          },
          "metadata": {
            "tags": []
          },
          "execution_count": 31
        }
      ]
    },
    {
      "cell_type": "markdown",
      "metadata": {
        "id": "TAR51HJcy36H"
      },
      "source": [
        "2138 от числа 12285 = 17.4%"
      ]
    },
    {
      "cell_type": "code",
      "metadata": {
        "id": "9FlMouFey7Aq"
      },
      "source": [
        "condition_ = converted_obj['Condition']\n",
        "converted_obj = converted_obj.drop(\"Condition\", axis = 1)"
      ],
      "execution_count": 32,
      "outputs": []
    },
    {
      "cell_type": "markdown",
      "metadata": {
        "id": "2i7ULSBUzocv"
      },
      "source": [
        "##Бинаризация."
      ]
    },
    {
      "cell_type": "code",
      "metadata": {
        "id": "PKhex1OTzpwG"
      },
      "source": [
        "Building_dummies = pd.get_dummies(converted_obj['Brand'])\n",
        "converted_obj = pd.concat((converted_obj, Building_dummies), axis=1)\n",
        "converted_obj = converted_obj.drop(['Brand'], axis=1)\n",
        "\n",
        "Building_dummies = pd.get_dummies(converted_obj['Fuel'])\n",
        "converted_obj = pd.concat((converted_obj, Building_dummies), axis=1)\n",
        "converted_obj = converted_obj.drop(['Fuel'], axis=1)\n",
        "\n",
        "Building_dummies = pd.get_dummies(converted_obj['Model'])\n",
        "converted_obj = pd.concat((converted_obj, Building_dummies), axis=1)\n",
        "converted_obj = converted_obj.drop(['Model'], axis=1)\n",
        "\n",
        "Building_dummies = pd.get_dummies(converted_obj['Registered City'])\n",
        "converted_obj = pd.concat((converted_obj, Building_dummies), axis=1)\n",
        "converted_obj = converted_obj.drop(['Registered City'], axis=1)\n",
        "\n",
        "Building_dummies = pd.get_dummies(converted_obj['Transaction Type'])\n",
        "converted_obj = pd.concat((converted_obj, Building_dummies), axis=1)\n",
        "converted_obj = converted_obj.drop(['Transaction Type'], axis=1)"
      ],
      "execution_count": 33,
      "outputs": []
    },
    {
      "cell_type": "markdown",
      "metadata": {
        "id": "fRPd0ZUZ_eUm"
      },
      "source": [
        "##Нормализация количественных признаков"
      ]
    },
    {
      "cell_type": "code",
      "metadata": {
        "id": "1PotBnRn_fzn",
        "colab": {
          "base_uri": "https://localhost:8080/"
        },
        "outputId": "7e48ee60-17bb-4b96-b00d-68204e7f817b"
      },
      "source": [
        "converted_obj.info(memory_usage='deep')"
      ],
      "execution_count": 34,
      "outputs": [
        {
          "output_type": "stream",
          "text": [
            "<class 'pandas.core.frame.DataFrame'>\n",
            "Int64Index: 12288 entries, 18060 to 1281\n",
            "Columns: 339 entries, KMs Driven to Installment/Leasing\n",
            "dtypes: float64(2), int64(1), uint8(336)\n",
            "memory usage: 4.3 MB\n"
          ],
          "name": "stdout"
        }
      ]
    },
    {
      "cell_type": "code",
      "metadata": {
        "id": "YetRSeB7_njK"
      },
      "source": [
        "data_stand = (converted_obj - converted_obj.mean(axis = 0))/converted_obj.std(axis = 0)"
      ],
      "execution_count": 35,
      "outputs": []
    },
    {
      "cell_type": "code",
      "metadata": {
        "id": "hqy_4Rt5_uB6",
        "colab": {
          "base_uri": "https://localhost:8080/",
          "height": 0
        },
        "outputId": "c90c969a-4802-49aa-e5c4-4374627c4fc7"
      },
      "source": [
        "data_stand.describe()"
      ],
      "execution_count": 36,
      "outputs": [
        {
          "output_type": "execute_result",
          "data": {
            "text/html": [
              "<div>\n",
              "<style scoped>\n",
              "    .dataframe tbody tr th:only-of-type {\n",
              "        vertical-align: middle;\n",
              "    }\n",
              "\n",
              "    .dataframe tbody tr th {\n",
              "        vertical-align: top;\n",
              "    }\n",
              "\n",
              "    .dataframe thead th {\n",
              "        text-align: right;\n",
              "    }\n",
              "</style>\n",
              "<table border=\"1\" class=\"dataframe\">\n",
              "  <thead>\n",
              "    <tr style=\"text-align: right;\">\n",
              "      <th></th>\n",
              "      <th>KMs Driven</th>\n",
              "      <th>Price</th>\n",
              "      <th>Year</th>\n",
              "      <th>Audi</th>\n",
              "      <th>BMW</th>\n",
              "      <th>Changan</th>\n",
              "      <th>Chevrolet</th>\n",
              "      <th>Classic &amp; Antiques</th>\n",
              "      <th>Daewoo</th>\n",
              "      <th>Daihatsu</th>\n",
              "      <th>FAW</th>\n",
              "      <th>Honda</th>\n",
              "      <th>Hyundai</th>\n",
              "      <th>KIA</th>\n",
              "      <th>Lexus</th>\n",
              "      <th>Mazda</th>\n",
              "      <th>Mercedes</th>\n",
              "      <th>Mitsubishi</th>\n",
              "      <th>Nissan</th>\n",
              "      <th>Other Brands</th>\n",
              "      <th>Porsche</th>\n",
              "      <th>Range Rover</th>\n",
              "      <th>Subaru</th>\n",
              "      <th>Suzuki</th>\n",
              "      <th>Toyota</th>\n",
              "      <th>CNG</th>\n",
              "      <th>Diesel</th>\n",
              "      <th>Hybrid</th>\n",
              "      <th>LPG</th>\n",
              "      <th>Petrol</th>\n",
              "      <th>120 Y</th>\n",
              "      <th>200 D</th>\n",
              "      <th>240 Gd</th>\n",
              "      <th>250 D</th>\n",
              "      <th>3 Series</th>\n",
              "      <th>323</th>\n",
              "      <th>350Z</th>\n",
              "      <th>5 Series</th>\n",
              "      <th>6 Series</th>\n",
              "      <th>7 Series</th>\n",
              "      <th>...</th>\n",
              "      <th>Chitral</th>\n",
              "      <th>Faisalabad</th>\n",
              "      <th>Gujranwala</th>\n",
              "      <th>Gujrat</th>\n",
              "      <th>Haripur</th>\n",
              "      <th>Hyderabad</th>\n",
              "      <th>Islamabad</th>\n",
              "      <th>Kandhura</th>\n",
              "      <th>Karachi</th>\n",
              "      <th>Karak</th>\n",
              "      <th>Kasur</th>\n",
              "      <th>Khairpur</th>\n",
              "      <th>Khanewal</th>\n",
              "      <th>Khanpur</th>\n",
              "      <th>Khaplu</th>\n",
              "      <th>Khushab</th>\n",
              "      <th>Kohat</th>\n",
              "      <th>Lahore</th>\n",
              "      <th>Larkana</th>\n",
              "      <th>Lasbela</th>\n",
              "      <th>Mandi Bahauddin</th>\n",
              "      <th>Mardan</th>\n",
              "      <th>Mirpur</th>\n",
              "      <th>Multan</th>\n",
              "      <th>Muzaffarabad</th>\n",
              "      <th>Nawabshah</th>\n",
              "      <th>Okara</th>\n",
              "      <th>Peshawar</th>\n",
              "      <th>Quetta</th>\n",
              "      <th>Rahimyar Khan</th>\n",
              "      <th>Rawalpindi</th>\n",
              "      <th>Sahiwal</th>\n",
              "      <th>Sargodha</th>\n",
              "      <th>Sialkot</th>\n",
              "      <th>Sukkar</th>\n",
              "      <th>Sukkur</th>\n",
              "      <th>Tank</th>\n",
              "      <th>Vehari</th>\n",
              "      <th>Cash</th>\n",
              "      <th>Installment/Leasing</th>\n",
              "    </tr>\n",
              "  </thead>\n",
              "  <tbody>\n",
              "    <tr>\n",
              "      <th>count</th>\n",
              "      <td>1.228800e+04</td>\n",
              "      <td>1.228800e+04</td>\n",
              "      <td>1.228800e+04</td>\n",
              "      <td>1.228800e+04</td>\n",
              "      <td>1.228800e+04</td>\n",
              "      <td>1.228800e+04</td>\n",
              "      <td>1.228800e+04</td>\n",
              "      <td>1.228800e+04</td>\n",
              "      <td>1.228800e+04</td>\n",
              "      <td>1.228800e+04</td>\n",
              "      <td>1.228800e+04</td>\n",
              "      <td>1.228800e+04</td>\n",
              "      <td>1.228800e+04</td>\n",
              "      <td>1.228800e+04</td>\n",
              "      <td>1.228800e+04</td>\n",
              "      <td>1.228800e+04</td>\n",
              "      <td>1.228800e+04</td>\n",
              "      <td>1.228800e+04</td>\n",
              "      <td>1.228800e+04</td>\n",
              "      <td>1.228800e+04</td>\n",
              "      <td>1.228800e+04</td>\n",
              "      <td>1.228800e+04</td>\n",
              "      <td>1.228800e+04</td>\n",
              "      <td>1.228800e+04</td>\n",
              "      <td>1.228800e+04</td>\n",
              "      <td>1.228800e+04</td>\n",
              "      <td>1.228800e+04</td>\n",
              "      <td>1.228800e+04</td>\n",
              "      <td>1.228800e+04</td>\n",
              "      <td>1.228800e+04</td>\n",
              "      <td>1.228800e+04</td>\n",
              "      <td>1.228800e+04</td>\n",
              "      <td>1.228800e+04</td>\n",
              "      <td>1.228800e+04</td>\n",
              "      <td>1.228800e+04</td>\n",
              "      <td>1.228800e+04</td>\n",
              "      <td>1.228800e+04</td>\n",
              "      <td>1.228800e+04</td>\n",
              "      <td>1.228800e+04</td>\n",
              "      <td>1.228800e+04</td>\n",
              "      <td>...</td>\n",
              "      <td>1.228800e+04</td>\n",
              "      <td>1.228800e+04</td>\n",
              "      <td>1.228800e+04</td>\n",
              "      <td>1.228800e+04</td>\n",
              "      <td>1.228800e+04</td>\n",
              "      <td>1.228800e+04</td>\n",
              "      <td>1.228800e+04</td>\n",
              "      <td>1.228800e+04</td>\n",
              "      <td>1.228800e+04</td>\n",
              "      <td>1.228800e+04</td>\n",
              "      <td>1.228800e+04</td>\n",
              "      <td>1.228800e+04</td>\n",
              "      <td>1.228800e+04</td>\n",
              "      <td>1.228800e+04</td>\n",
              "      <td>1.228800e+04</td>\n",
              "      <td>1.228800e+04</td>\n",
              "      <td>1.228800e+04</td>\n",
              "      <td>1.228800e+04</td>\n",
              "      <td>1.228800e+04</td>\n",
              "      <td>1.228800e+04</td>\n",
              "      <td>1.228800e+04</td>\n",
              "      <td>1.228800e+04</td>\n",
              "      <td>1.228800e+04</td>\n",
              "      <td>1.228800e+04</td>\n",
              "      <td>1.228800e+04</td>\n",
              "      <td>1.228800e+04</td>\n",
              "      <td>1.228800e+04</td>\n",
              "      <td>1.228800e+04</td>\n",
              "      <td>1.228800e+04</td>\n",
              "      <td>1.228800e+04</td>\n",
              "      <td>1.228800e+04</td>\n",
              "      <td>1.228800e+04</td>\n",
              "      <td>1.228800e+04</td>\n",
              "      <td>1.228800e+04</td>\n",
              "      <td>1.228800e+04</td>\n",
              "      <td>1.228800e+04</td>\n",
              "      <td>1.228800e+04</td>\n",
              "      <td>1.228800e+04</td>\n",
              "      <td>1.228800e+04</td>\n",
              "      <td>1.228800e+04</td>\n",
              "    </tr>\n",
              "    <tr>\n",
              "      <th>mean</th>\n",
              "      <td>1.701531e-16</td>\n",
              "      <td>9.870193e-17</td>\n",
              "      <td>8.677105e-15</td>\n",
              "      <td>-5.307864e-16</td>\n",
              "      <td>5.311721e-16</td>\n",
              "      <td>7.460548e-16</td>\n",
              "      <td>7.407089e-16</td>\n",
              "      <td>-6.060464e-17</td>\n",
              "      <td>1.181681e-15</td>\n",
              "      <td>5.186100e-16</td>\n",
              "      <td>2.050842e-15</td>\n",
              "      <td>-4.823073e-16</td>\n",
              "      <td>-5.427222e-16</td>\n",
              "      <td>-8.735891e-16</td>\n",
              "      <td>-1.764567e-16</td>\n",
              "      <td>-2.512174e-15</td>\n",
              "      <td>-4.760630e-16</td>\n",
              "      <td>8.266680e-16</td>\n",
              "      <td>-5.077996e-16</td>\n",
              "      <td>-1.536380e-15</td>\n",
              "      <td>-1.064068e-15</td>\n",
              "      <td>-1.758277e-15</td>\n",
              "      <td>-1.638913e-16</td>\n",
              "      <td>3.492757e-16</td>\n",
              "      <td>6.231723e-16</td>\n",
              "      <td>3.485168e-16</td>\n",
              "      <td>-9.543690e-16</td>\n",
              "      <td>-1.115287e-15</td>\n",
              "      <td>7.074504e-16</td>\n",
              "      <td>-3.114009e-16</td>\n",
              "      <td>-1.283107e-15</td>\n",
              "      <td>1.571205e-15</td>\n",
              "      <td>-6.587130e-16</td>\n",
              "      <td>8.990687e-16</td>\n",
              "      <td>-5.179488e-16</td>\n",
              "      <td>-9.889708e-16</td>\n",
              "      <td>5.515483e-16</td>\n",
              "      <td>4.639041e-16</td>\n",
              "      <td>-1.909133e-16</td>\n",
              "      <td>-2.056144e-17</td>\n",
              "      <td>...</td>\n",
              "      <td>-7.807193e-16</td>\n",
              "      <td>-2.764049e-16</td>\n",
              "      <td>3.128787e-16</td>\n",
              "      <td>1.696388e-15</td>\n",
              "      <td>-8.529994e-16</td>\n",
              "      <td>-1.685274e-15</td>\n",
              "      <td>-4.195546e-16</td>\n",
              "      <td>8.134890e-16</td>\n",
              "      <td>-1.446055e-16</td>\n",
              "      <td>-9.180934e-16</td>\n",
              "      <td>2.574720e-16</td>\n",
              "      <td>5.124453e-16</td>\n",
              "      <td>-1.803288e-16</td>\n",
              "      <td>-1.131507e-15</td>\n",
              "      <td>-1.565548e-15</td>\n",
              "      <td>1.038067e-15</td>\n",
              "      <td>6.500608e-16</td>\n",
              "      <td>-4.878910e-19</td>\n",
              "      <td>-1.909133e-16</td>\n",
              "      <td>9.089454e-17</td>\n",
              "      <td>5.625349e-16</td>\n",
              "      <td>9.236059e-16</td>\n",
              "      <td>3.028329e-16</td>\n",
              "      <td>4.879994e-16</td>\n",
              "      <td>-1.949635e-16</td>\n",
              "      <td>3.675829e-16</td>\n",
              "      <td>-5.129962e-16</td>\n",
              "      <td>7.223395e-16</td>\n",
              "      <td>8.160790e-16</td>\n",
              "      <td>6.781340e-16</td>\n",
              "      <td>1.378382e-16</td>\n",
              "      <td>1.093289e-15</td>\n",
              "      <td>1.151807e-16</td>\n",
              "      <td>-8.644389e-16</td>\n",
              "      <td>5.002963e-16</td>\n",
              "      <td>5.460144e-16</td>\n",
              "      <td>-7.353291e-17</td>\n",
              "      <td>-1.765260e-15</td>\n",
              "      <td>5.182848e-16</td>\n",
              "      <td>-5.045290e-16</td>\n",
              "    </tr>\n",
              "    <tr>\n",
              "      <th>std</th>\n",
              "      <td>1.000000e+00</td>\n",
              "      <td>1.000000e+00</td>\n",
              "      <td>1.000000e+00</td>\n",
              "      <td>1.000000e+00</td>\n",
              "      <td>1.000000e+00</td>\n",
              "      <td>1.000000e+00</td>\n",
              "      <td>1.000000e+00</td>\n",
              "      <td>1.000000e+00</td>\n",
              "      <td>1.000000e+00</td>\n",
              "      <td>1.000000e+00</td>\n",
              "      <td>1.000000e+00</td>\n",
              "      <td>1.000000e+00</td>\n",
              "      <td>1.000000e+00</td>\n",
              "      <td>1.000000e+00</td>\n",
              "      <td>1.000000e+00</td>\n",
              "      <td>1.000000e+00</td>\n",
              "      <td>1.000000e+00</td>\n",
              "      <td>1.000000e+00</td>\n",
              "      <td>1.000000e+00</td>\n",
              "      <td>1.000000e+00</td>\n",
              "      <td>1.000000e+00</td>\n",
              "      <td>1.000000e+00</td>\n",
              "      <td>1.000000e+00</td>\n",
              "      <td>1.000000e+00</td>\n",
              "      <td>1.000000e+00</td>\n",
              "      <td>1.000000e+00</td>\n",
              "      <td>1.000000e+00</td>\n",
              "      <td>1.000000e+00</td>\n",
              "      <td>1.000000e+00</td>\n",
              "      <td>1.000000e+00</td>\n",
              "      <td>1.000000e+00</td>\n",
              "      <td>1.000000e+00</td>\n",
              "      <td>1.000000e+00</td>\n",
              "      <td>1.000000e+00</td>\n",
              "      <td>1.000000e+00</td>\n",
              "      <td>1.000000e+00</td>\n",
              "      <td>1.000000e+00</td>\n",
              "      <td>1.000000e+00</td>\n",
              "      <td>1.000000e+00</td>\n",
              "      <td>1.000000e+00</td>\n",
              "      <td>...</td>\n",
              "      <td>1.000000e+00</td>\n",
              "      <td>1.000000e+00</td>\n",
              "      <td>1.000000e+00</td>\n",
              "      <td>1.000000e+00</td>\n",
              "      <td>1.000000e+00</td>\n",
              "      <td>1.000000e+00</td>\n",
              "      <td>1.000000e+00</td>\n",
              "      <td>1.000000e+00</td>\n",
              "      <td>1.000000e+00</td>\n",
              "      <td>1.000000e+00</td>\n",
              "      <td>1.000000e+00</td>\n",
              "      <td>1.000000e+00</td>\n",
              "      <td>1.000000e+00</td>\n",
              "      <td>1.000000e+00</td>\n",
              "      <td>1.000000e+00</td>\n",
              "      <td>1.000000e+00</td>\n",
              "      <td>1.000000e+00</td>\n",
              "      <td>1.000000e+00</td>\n",
              "      <td>1.000000e+00</td>\n",
              "      <td>1.000000e+00</td>\n",
              "      <td>1.000000e+00</td>\n",
              "      <td>1.000000e+00</td>\n",
              "      <td>1.000000e+00</td>\n",
              "      <td>1.000000e+00</td>\n",
              "      <td>1.000000e+00</td>\n",
              "      <td>1.000000e+00</td>\n",
              "      <td>1.000000e+00</td>\n",
              "      <td>1.000000e+00</td>\n",
              "      <td>1.000000e+00</td>\n",
              "      <td>1.000000e+00</td>\n",
              "      <td>1.000000e+00</td>\n",
              "      <td>1.000000e+00</td>\n",
              "      <td>1.000000e+00</td>\n",
              "      <td>1.000000e+00</td>\n",
              "      <td>1.000000e+00</td>\n",
              "      <td>1.000000e+00</td>\n",
              "      <td>1.000000e+00</td>\n",
              "      <td>1.000000e+00</td>\n",
              "      <td>1.000000e+00</td>\n",
              "      <td>1.000000e+00</td>\n",
              "    </tr>\n",
              "    <tr>\n",
              "      <th>min</th>\n",
              "      <td>-6.059416e-01</td>\n",
              "      <td>-1.071888e+00</td>\n",
              "      <td>-3.675986e+00</td>\n",
              "      <td>-2.552279e-02</td>\n",
              "      <td>-3.495848e-02</td>\n",
              "      <td>-1.275828e-02</td>\n",
              "      <td>-3.377173e-02</td>\n",
              "      <td>-1.562627e-02</td>\n",
              "      <td>-5.267237e-02</td>\n",
              "      <td>-3.315387e-01</td>\n",
              "      <td>-5.714520e-02</td>\n",
              "      <td>-3.914702e-01</td>\n",
              "      <td>-1.029979e-01</td>\n",
              "      <td>-6.826353e-02</td>\n",
              "      <td>-2.993178e-02</td>\n",
              "      <td>-5.925666e-02</td>\n",
              "      <td>-5.994418e-02</td>\n",
              "      <td>-1.331262e-01</td>\n",
              "      <td>-1.752057e-01</td>\n",
              "      <td>-8.492660e-02</td>\n",
              "      <td>-9.021098e-03</td>\n",
              "      <td>-1.804440e-02</td>\n",
              "      <td>-2.552279e-02</td>\n",
              "      <td>-9.597530e-01</td>\n",
              "      <td>-5.009204e-01</td>\n",
              "      <td>-6.059095e-01</td>\n",
              "      <td>-1.390198e-01</td>\n",
              "      <td>-1.985317e-01</td>\n",
              "      <td>-2.853767e-02</td>\n",
              "      <td>-1.436988e+00</td>\n",
              "      <td>-3.254193e-02</td>\n",
              "      <td>-1.275828e-02</td>\n",
              "      <td>-9.021098e-03</td>\n",
              "      <td>-9.021098e-03</td>\n",
              "      <td>-1.804440e-02</td>\n",
              "      <td>-1.562627e-02</td>\n",
              "      <td>-9.021098e-03</td>\n",
              "      <td>-1.804440e-02</td>\n",
              "      <td>-9.021098e-03</td>\n",
              "      <td>-1.562627e-02</td>\n",
              "      <td>...</td>\n",
              "      <td>-9.021098e-03</td>\n",
              "      <td>-5.925666e-02</td>\n",
              "      <td>-2.993178e-02</td>\n",
              "      <td>-1.275828e-02</td>\n",
              "      <td>-9.021098e-03</td>\n",
              "      <td>-3.254193e-02</td>\n",
              "      <td>-2.018297e-01</td>\n",
              "      <td>-9.021098e-03</td>\n",
              "      <td>-2.412965e+00</td>\n",
              "      <td>-2.210158e-02</td>\n",
              "      <td>-1.804440e-02</td>\n",
              "      <td>-1.275828e-02</td>\n",
              "      <td>-1.804440e-02</td>\n",
              "      <td>-1.562627e-02</td>\n",
              "      <td>-9.021098e-03</td>\n",
              "      <td>-1.275828e-02</td>\n",
              "      <td>-1.275828e-02</td>\n",
              "      <td>-2.910994e-01</td>\n",
              "      <td>-9.021098e-03</td>\n",
              "      <td>-1.562627e-02</td>\n",
              "      <td>-9.021098e-03</td>\n",
              "      <td>-1.804440e-02</td>\n",
              "      <td>-1.275828e-02</td>\n",
              "      <td>-6.704975e-02</td>\n",
              "      <td>-9.021098e-03</td>\n",
              "      <td>-1.562627e-02</td>\n",
              "      <td>-9.021098e-03</td>\n",
              "      <td>-5.188988e-02</td>\n",
              "      <td>-2.707211e-02</td>\n",
              "      <td>-2.387341e-02</td>\n",
              "      <td>-7.730312e-02</td>\n",
              "      <td>-1.275828e-02</td>\n",
              "      <td>-1.562627e-02</td>\n",
              "      <td>-3.721918e-02</td>\n",
              "      <td>-1.275828e-02</td>\n",
              "      <td>-1.804440e-02</td>\n",
              "      <td>-9.021098e-03</td>\n",
              "      <td>-1.562627e-02</td>\n",
              "      <td>-4.830194e+00</td>\n",
              "      <td>-2.070142e-01</td>\n",
              "    </tr>\n",
              "    <tr>\n",
              "      <th>25%</th>\n",
              "      <td>-4.588585e-01</td>\n",
              "      <td>-6.535134e-01</td>\n",
              "      <td>-3.789677e-01</td>\n",
              "      <td>-2.552279e-02</td>\n",
              "      <td>-3.495848e-02</td>\n",
              "      <td>-1.275828e-02</td>\n",
              "      <td>-3.377173e-02</td>\n",
              "      <td>-1.562627e-02</td>\n",
              "      <td>-5.267237e-02</td>\n",
              "      <td>-3.315387e-01</td>\n",
              "      <td>-5.714520e-02</td>\n",
              "      <td>-3.914702e-01</td>\n",
              "      <td>-1.029979e-01</td>\n",
              "      <td>-6.826353e-02</td>\n",
              "      <td>-2.993178e-02</td>\n",
              "      <td>-5.925666e-02</td>\n",
              "      <td>-5.994418e-02</td>\n",
              "      <td>-1.331262e-01</td>\n",
              "      <td>-1.752057e-01</td>\n",
              "      <td>-8.492660e-02</td>\n",
              "      <td>-9.021098e-03</td>\n",
              "      <td>-1.804440e-02</td>\n",
              "      <td>-2.552279e-02</td>\n",
              "      <td>-9.597530e-01</td>\n",
              "      <td>-5.009204e-01</td>\n",
              "      <td>-6.059095e-01</td>\n",
              "      <td>-1.390198e-01</td>\n",
              "      <td>-1.985317e-01</td>\n",
              "      <td>-2.853767e-02</td>\n",
              "      <td>-1.436988e+00</td>\n",
              "      <td>-3.254193e-02</td>\n",
              "      <td>-1.275828e-02</td>\n",
              "      <td>-9.021098e-03</td>\n",
              "      <td>-9.021098e-03</td>\n",
              "      <td>-1.804440e-02</td>\n",
              "      <td>-1.562627e-02</td>\n",
              "      <td>-9.021098e-03</td>\n",
              "      <td>-1.804440e-02</td>\n",
              "      <td>-9.021098e-03</td>\n",
              "      <td>-1.562627e-02</td>\n",
              "      <td>...</td>\n",
              "      <td>-9.021098e-03</td>\n",
              "      <td>-5.925666e-02</td>\n",
              "      <td>-2.993178e-02</td>\n",
              "      <td>-1.275828e-02</td>\n",
              "      <td>-9.021098e-03</td>\n",
              "      <td>-3.254193e-02</td>\n",
              "      <td>-2.018297e-01</td>\n",
              "      <td>-9.021098e-03</td>\n",
              "      <td>4.143941e-01</td>\n",
              "      <td>-2.210158e-02</td>\n",
              "      <td>-1.804440e-02</td>\n",
              "      <td>-1.275828e-02</td>\n",
              "      <td>-1.804440e-02</td>\n",
              "      <td>-1.562627e-02</td>\n",
              "      <td>-9.021098e-03</td>\n",
              "      <td>-1.275828e-02</td>\n",
              "      <td>-1.275828e-02</td>\n",
              "      <td>-2.910994e-01</td>\n",
              "      <td>-9.021098e-03</td>\n",
              "      <td>-1.562627e-02</td>\n",
              "      <td>-9.021098e-03</td>\n",
              "      <td>-1.804440e-02</td>\n",
              "      <td>-1.275828e-02</td>\n",
              "      <td>-6.704975e-02</td>\n",
              "      <td>-9.021098e-03</td>\n",
              "      <td>-1.562627e-02</td>\n",
              "      <td>-9.021098e-03</td>\n",
              "      <td>-5.188988e-02</td>\n",
              "      <td>-2.707211e-02</td>\n",
              "      <td>-2.387341e-02</td>\n",
              "      <td>-7.730312e-02</td>\n",
              "      <td>-1.275828e-02</td>\n",
              "      <td>-1.562627e-02</td>\n",
              "      <td>-3.721918e-02</td>\n",
              "      <td>-1.275828e-02</td>\n",
              "      <td>-1.804440e-02</td>\n",
              "      <td>-9.021098e-03</td>\n",
              "      <td>-1.562627e-02</td>\n",
              "      <td>2.070142e-01</td>\n",
              "      <td>-2.070142e-01</td>\n",
              "    </tr>\n",
              "    <tr>\n",
              "      <th>50%</th>\n",
              "      <td>-1.407910e-01</td>\n",
              "      <td>-2.625737e-01</td>\n",
              "      <td>1.894838e-01</td>\n",
              "      <td>-2.552279e-02</td>\n",
              "      <td>-3.495848e-02</td>\n",
              "      <td>-1.275828e-02</td>\n",
              "      <td>-3.377173e-02</td>\n",
              "      <td>-1.562627e-02</td>\n",
              "      <td>-5.267237e-02</td>\n",
              "      <td>-3.315387e-01</td>\n",
              "      <td>-5.714520e-02</td>\n",
              "      <td>-3.914702e-01</td>\n",
              "      <td>-1.029979e-01</td>\n",
              "      <td>-6.826353e-02</td>\n",
              "      <td>-2.993178e-02</td>\n",
              "      <td>-5.925666e-02</td>\n",
              "      <td>-5.994418e-02</td>\n",
              "      <td>-1.331262e-01</td>\n",
              "      <td>-1.752057e-01</td>\n",
              "      <td>-8.492660e-02</td>\n",
              "      <td>-9.021098e-03</td>\n",
              "      <td>-1.804440e-02</td>\n",
              "      <td>-2.552279e-02</td>\n",
              "      <td>-9.597530e-01</td>\n",
              "      <td>-5.009204e-01</td>\n",
              "      <td>-6.059095e-01</td>\n",
              "      <td>-1.390198e-01</td>\n",
              "      <td>-1.985317e-01</td>\n",
              "      <td>-2.853767e-02</td>\n",
              "      <td>6.958432e-01</td>\n",
              "      <td>-3.254193e-02</td>\n",
              "      <td>-1.275828e-02</td>\n",
              "      <td>-9.021098e-03</td>\n",
              "      <td>-9.021098e-03</td>\n",
              "      <td>-1.804440e-02</td>\n",
              "      <td>-1.562627e-02</td>\n",
              "      <td>-9.021098e-03</td>\n",
              "      <td>-1.804440e-02</td>\n",
              "      <td>-9.021098e-03</td>\n",
              "      <td>-1.562627e-02</td>\n",
              "      <td>...</td>\n",
              "      <td>-9.021098e-03</td>\n",
              "      <td>-5.925666e-02</td>\n",
              "      <td>-2.993178e-02</td>\n",
              "      <td>-1.275828e-02</td>\n",
              "      <td>-9.021098e-03</td>\n",
              "      <td>-3.254193e-02</td>\n",
              "      <td>-2.018297e-01</td>\n",
              "      <td>-9.021098e-03</td>\n",
              "      <td>4.143941e-01</td>\n",
              "      <td>-2.210158e-02</td>\n",
              "      <td>-1.804440e-02</td>\n",
              "      <td>-1.275828e-02</td>\n",
              "      <td>-1.804440e-02</td>\n",
              "      <td>-1.562627e-02</td>\n",
              "      <td>-9.021098e-03</td>\n",
              "      <td>-1.275828e-02</td>\n",
              "      <td>-1.275828e-02</td>\n",
              "      <td>-2.910994e-01</td>\n",
              "      <td>-9.021098e-03</td>\n",
              "      <td>-1.562627e-02</td>\n",
              "      <td>-9.021098e-03</td>\n",
              "      <td>-1.804440e-02</td>\n",
              "      <td>-1.275828e-02</td>\n",
              "      <td>-6.704975e-02</td>\n",
              "      <td>-9.021098e-03</td>\n",
              "      <td>-1.562627e-02</td>\n",
              "      <td>-9.021098e-03</td>\n",
              "      <td>-5.188988e-02</td>\n",
              "      <td>-2.707211e-02</td>\n",
              "      <td>-2.387341e-02</td>\n",
              "      <td>-7.730312e-02</td>\n",
              "      <td>-1.275828e-02</td>\n",
              "      <td>-1.562627e-02</td>\n",
              "      <td>-3.721918e-02</td>\n",
              "      <td>-1.275828e-02</td>\n",
              "      <td>-1.804440e-02</td>\n",
              "      <td>-9.021098e-03</td>\n",
              "      <td>-1.562627e-02</td>\n",
              "      <td>2.070142e-01</td>\n",
              "      <td>-2.070142e-01</td>\n",
              "    </tr>\n",
              "    <tr>\n",
              "      <th>75%</th>\n",
              "      <td>9.343126e-02</td>\n",
              "      <td>3.958511e-01</td>\n",
              "      <td>7.579353e-01</td>\n",
              "      <td>-2.552279e-02</td>\n",
              "      <td>-3.495848e-02</td>\n",
              "      <td>-1.275828e-02</td>\n",
              "      <td>-3.377173e-02</td>\n",
              "      <td>-1.562627e-02</td>\n",
              "      <td>-5.267237e-02</td>\n",
              "      <td>-3.315387e-01</td>\n",
              "      <td>-5.714520e-02</td>\n",
              "      <td>-3.914702e-01</td>\n",
              "      <td>-1.029979e-01</td>\n",
              "      <td>-6.826353e-02</td>\n",
              "      <td>-2.993178e-02</td>\n",
              "      <td>-5.925666e-02</td>\n",
              "      <td>-5.994418e-02</td>\n",
              "      <td>-1.331262e-01</td>\n",
              "      <td>-1.752057e-01</td>\n",
              "      <td>-8.492660e-02</td>\n",
              "      <td>-9.021098e-03</td>\n",
              "      <td>-1.804440e-02</td>\n",
              "      <td>-2.552279e-02</td>\n",
              "      <td>1.041850e+00</td>\n",
              "      <td>-5.009204e-01</td>\n",
              "      <td>1.650277e+00</td>\n",
              "      <td>-1.390198e-01</td>\n",
              "      <td>-1.985317e-01</td>\n",
              "      <td>-2.853767e-02</td>\n",
              "      <td>6.958432e-01</td>\n",
              "      <td>-3.254193e-02</td>\n",
              "      <td>-1.275828e-02</td>\n",
              "      <td>-9.021098e-03</td>\n",
              "      <td>-9.021098e-03</td>\n",
              "      <td>-1.804440e-02</td>\n",
              "      <td>-1.562627e-02</td>\n",
              "      <td>-9.021098e-03</td>\n",
              "      <td>-1.804440e-02</td>\n",
              "      <td>-9.021098e-03</td>\n",
              "      <td>-1.562627e-02</td>\n",
              "      <td>...</td>\n",
              "      <td>-9.021098e-03</td>\n",
              "      <td>-5.925666e-02</td>\n",
              "      <td>-2.993178e-02</td>\n",
              "      <td>-1.275828e-02</td>\n",
              "      <td>-9.021098e-03</td>\n",
              "      <td>-3.254193e-02</td>\n",
              "      <td>-2.018297e-01</td>\n",
              "      <td>-9.021098e-03</td>\n",
              "      <td>4.143941e-01</td>\n",
              "      <td>-2.210158e-02</td>\n",
              "      <td>-1.804440e-02</td>\n",
              "      <td>-1.275828e-02</td>\n",
              "      <td>-1.804440e-02</td>\n",
              "      <td>-1.562627e-02</td>\n",
              "      <td>-9.021098e-03</td>\n",
              "      <td>-1.275828e-02</td>\n",
              "      <td>-1.275828e-02</td>\n",
              "      <td>-2.910994e-01</td>\n",
              "      <td>-9.021098e-03</td>\n",
              "      <td>-1.562627e-02</td>\n",
              "      <td>-9.021098e-03</td>\n",
              "      <td>-1.804440e-02</td>\n",
              "      <td>-1.275828e-02</td>\n",
              "      <td>-6.704975e-02</td>\n",
              "      <td>-9.021098e-03</td>\n",
              "      <td>-1.562627e-02</td>\n",
              "      <td>-9.021098e-03</td>\n",
              "      <td>-5.188988e-02</td>\n",
              "      <td>-2.707211e-02</td>\n",
              "      <td>-2.387341e-02</td>\n",
              "      <td>-7.730312e-02</td>\n",
              "      <td>-1.275828e-02</td>\n",
              "      <td>-1.562627e-02</td>\n",
              "      <td>-3.721918e-02</td>\n",
              "      <td>-1.275828e-02</td>\n",
              "      <td>-1.804440e-02</td>\n",
              "      <td>-9.021098e-03</td>\n",
              "      <td>-1.562627e-02</td>\n",
              "      <td>2.070142e-01</td>\n",
              "      <td>-2.070142e-01</td>\n",
              "    </tr>\n",
              "    <tr>\n",
              "      <th>max</th>\n",
              "      <td>1.338165e+01</td>\n",
              "      <td>9.106263e+00</td>\n",
              "      <td>1.326387e+00</td>\n",
              "      <td>3.917748e+01</td>\n",
              "      <td>2.860303e+01</td>\n",
              "      <td>7.837410e+01</td>\n",
              "      <td>2.960816e+01</td>\n",
              "      <td>6.398958e+01</td>\n",
              "      <td>1.898374e+01</td>\n",
              "      <td>3.015994e+00</td>\n",
              "      <td>1.749786e+01</td>\n",
              "      <td>2.554265e+00</td>\n",
              "      <td>9.708148e+00</td>\n",
              "      <td>1.464792e+01</td>\n",
              "      <td>3.340659e+01</td>\n",
              "      <td>1.687437e+01</td>\n",
              "      <td>1.668083e+01</td>\n",
              "      <td>7.511056e+00</td>\n",
              "      <td>5.707111e+00</td>\n",
              "      <td>1.177392e+01</td>\n",
              "      <td>1.108422e+02</td>\n",
              "      <td>5.541435e+01</td>\n",
              "      <td>3.917748e+01</td>\n",
              "      <td>1.041850e+00</td>\n",
              "      <td>1.996163e+00</td>\n",
              "      <td>1.650277e+00</td>\n",
              "      <td>7.192634e+00</td>\n",
              "      <td>5.036570e+00</td>\n",
              "      <td>3.503855e+01</td>\n",
              "      <td>6.958432e-01</td>\n",
              "      <td>3.072709e+01</td>\n",
              "      <td>7.837410e+01</td>\n",
              "      <td>1.108422e+02</td>\n",
              "      <td>1.108422e+02</td>\n",
              "      <td>5.541435e+01</td>\n",
              "      <td>6.398958e+01</td>\n",
              "      <td>1.108422e+02</td>\n",
              "      <td>5.541435e+01</td>\n",
              "      <td>1.108422e+02</td>\n",
              "      <td>6.398958e+01</td>\n",
              "      <td>...</td>\n",
              "      <td>1.108422e+02</td>\n",
              "      <td>1.687437e+01</td>\n",
              "      <td>3.340659e+01</td>\n",
              "      <td>7.837410e+01</td>\n",
              "      <td>1.108422e+02</td>\n",
              "      <td>3.072709e+01</td>\n",
              "      <td>4.954269e+00</td>\n",
              "      <td>1.108422e+02</td>\n",
              "      <td>4.143941e-01</td>\n",
              "      <td>4.524194e+01</td>\n",
              "      <td>5.541435e+01</td>\n",
              "      <td>7.837410e+01</td>\n",
              "      <td>5.541435e+01</td>\n",
              "      <td>6.398958e+01</td>\n",
              "      <td>1.108422e+02</td>\n",
              "      <td>7.837410e+01</td>\n",
              "      <td>7.837410e+01</td>\n",
              "      <td>3.434973e+00</td>\n",
              "      <td>1.108422e+02</td>\n",
              "      <td>6.398958e+01</td>\n",
              "      <td>1.108422e+02</td>\n",
              "      <td>5.541435e+01</td>\n",
              "      <td>7.837410e+01</td>\n",
              "      <td>1.491308e+01</td>\n",
              "      <td>1.108422e+02</td>\n",
              "      <td>6.398958e+01</td>\n",
              "      <td>1.108422e+02</td>\n",
              "      <td>1.927001e+01</td>\n",
              "      <td>3.693538e+01</td>\n",
              "      <td>4.188420e+01</td>\n",
              "      <td>1.293504e+01</td>\n",
              "      <td>7.837410e+01</td>\n",
              "      <td>6.398958e+01</td>\n",
              "      <td>2.686568e+01</td>\n",
              "      <td>7.837410e+01</td>\n",
              "      <td>5.541435e+01</td>\n",
              "      <td>1.108422e+02</td>\n",
              "      <td>6.398958e+01</td>\n",
              "      <td>2.070142e-01</td>\n",
              "      <td>4.830194e+00</td>\n",
              "    </tr>\n",
              "  </tbody>\n",
              "</table>\n",
              "<p>8 rows × 339 columns</p>\n",
              "</div>"
            ],
            "text/plain": [
              "         KMs Driven         Price  ...          Cash  Installment/Leasing\n",
              "count  1.228800e+04  1.228800e+04  ...  1.228800e+04         1.228800e+04\n",
              "mean   1.701531e-16  9.870193e-17  ...  5.182848e-16        -5.045290e-16\n",
              "std    1.000000e+00  1.000000e+00  ...  1.000000e+00         1.000000e+00\n",
              "min   -6.059416e-01 -1.071888e+00  ... -4.830194e+00        -2.070142e-01\n",
              "25%   -4.588585e-01 -6.535134e-01  ...  2.070142e-01        -2.070142e-01\n",
              "50%   -1.407910e-01 -2.625737e-01  ...  2.070142e-01        -2.070142e-01\n",
              "75%    9.343126e-02  3.958511e-01  ...  2.070142e-01        -2.070142e-01\n",
              "max    1.338165e+01  9.106263e+00  ...  2.070142e-01         4.830194e+00\n",
              "\n",
              "[8 rows x 339 columns]"
            ]
          },
          "metadata": {
            "tags": []
          },
          "execution_count": 36
        }
      ]
    },
    {
      "cell_type": "code",
      "metadata": {
        "id": "ofNeRKLP_xtR",
        "colab": {
          "base_uri": "https://localhost:8080/"
        },
        "outputId": "b1957183-aa81-487b-a699-367d31e73ab5"
      },
      "source": [
        "X = data_stand\n",
        "y = condition_\n",
        "from sklearn.model_selection import train_test_split\n",
        "X_train, X_test, y_train, y_test = train_test_split(X, y, test_size = 0.3, random_state = 42)\n",
        "\n",
        "N_train, _ = X_train.shape \n",
        "N_test,  _ = X_test.shape \n",
        "\n",
        "print(N_train, N_test)"
      ],
      "execution_count": 37,
      "outputs": [
        {
          "output_type": "stream",
          "text": [
            "8601 3687\n"
          ],
          "name": "stdout"
        }
      ]
    },
    {
      "cell_type": "code",
      "metadata": {
        "id": "MC11_mXIAblC",
        "colab": {
          "base_uri": "https://localhost:8080/"
        },
        "outputId": "65248340-8bca-4e00-f709-754260b9af95"
      },
      "source": [
        "from sklearn.neighbors import KNeighborsClassifier\n",
        "\n",
        "knn = KNeighborsClassifier(n_neighbors = 10)\n",
        "knn.fit(X_train, y_train)"
      ],
      "execution_count": 38,
      "outputs": [
        {
          "output_type": "execute_result",
          "data": {
            "text/plain": [
              "KNeighborsClassifier(algorithm='auto', leaf_size=30, metric='minkowski',\n",
              "                     metric_params=None, n_jobs=None, n_neighbors=10, p=2,\n",
              "                     weights='uniform')"
            ]
          },
          "metadata": {
            "tags": []
          },
          "execution_count": 38
        }
      ]
    },
    {
      "cell_type": "code",
      "metadata": {
        "id": "MlRRVPCHCYfc",
        "colab": {
          "base_uri": "https://localhost:8080/"
        },
        "outputId": "00707788-5bae-4ac8-f800-6feb1181a25f"
      },
      "source": [
        "y_train_predict = knn.predict(X_train)\n",
        "y_test_predict = knn.predict(X_test)\n",
        "\n",
        "err_train = np.mean(y_train != y_train_predict)\n",
        "err_test  = np.mean(y_test  != y_test_predict)\n",
        "\n",
        "print(err_train, err_test)"
      ],
      "execution_count": 39,
      "outputs": [
        {
          "output_type": "stream",
          "text": [
            "0.15009882571793978 0.1714130729590453\n"
          ],
          "name": "stdout"
        }
      ]
    },
    {
      "cell_type": "code",
      "metadata": {
        "id": "z4NJhv1oELrI",
        "colab": {
          "base_uri": "https://localhost:8080/"
        },
        "outputId": "a6346be0-c426-4a6a-9eee-68b53f094a0c"
      },
      "source": [
        "from sklearn.metrics import confusion_matrix\n",
        "\n",
        "print(confusion_matrix(y_test, y_test_predict))"
      ],
      "execution_count": 40,
      "outputs": [
        {
          "output_type": "stream",
          "text": [
            "[[ 219  432]\n",
            " [ 200 2836]]\n"
          ],
          "name": "stdout"
        }
      ]
    },
    {
      "cell_type": "markdown",
      "metadata": {
        "id": "_swId_IMCqf0"
      },
      "source": [
        "## Применение PCA"
      ]
    },
    {
      "cell_type": "code",
      "metadata": {
        "id": "ebRXBsROCxhE",
        "colab": {
          "base_uri": "https://localhost:8080/"
        },
        "outputId": "74d6ae0d-973a-4b40-b020-e138f10ede4b"
      },
      "source": [
        "from sklearn.decomposition import PCA\r\n",
        "pca = PCA(n_components=2)\r\n",
        "X_pca = pca.fit_transform(data_stand)\r\n",
        "print(\"Главные компоненты (по строкам):\")\r\n",
        "print(pca.components_)\r\n",
        "print(\"Дисперсии по главным компонентам,Cобственные значения вдоль каждой компоненты:\")\r\n",
        "print(pca.explained_variance_)\r\n",
        "print(\"Среднеквадратические отклонения:\")\r\n",
        "print(np.sqrt(pca.explained_variance_))\r\n",
        "print(\"Соответствующие сингулярные значения:\")\r\n",
        "print(pca.singular_values_)"
      ],
      "execution_count": 41,
      "outputs": [
        {
          "output_type": "stream",
          "text": [
            "Главные компоненты (по строкам):\n",
            "[[-5.61413423e-02  3.69928575e-01  3.25299590e-01  2.65399062e-02\n",
            "   2.76605355e-02 -3.34844599e-03  3.37853715e-03 -7.43844708e-04\n",
            "  -3.94598530e-02 -4.71775757e-03  4.01305217e-02  1.25617946e-01\n",
            "  -2.74939497e-02 -3.78649365e-02  2.25857683e-02  2.62236786e-02\n",
            "   3.17943338e-02  2.25419134e-03  1.32802010e-02  2.30837986e-03\n",
            "   9.18503608e-03  2.28083193e-02  7.11639777e-03 -3.27006013e-01\n",
            "   2.94782520e-01 -3.86357297e-01  7.08117807e-02  5.77440816e-02\n",
            "  -1.63481690e-02  3.22102691e-01 -2.10090259e-02 -5.62473331e-04\n",
            "   1.02137866e-03  1.11461161e-03  7.69708993e-03 -5.32657452e-03\n",
            "   6.83991302e-03  1.20883199e-02  6.31509594e-03  1.47946358e-02\n",
            "  -9.41801401e-03  9.48731299e-03  9.58778910e-03  1.62165024e-02\n",
            "   1.49942072e-02 -5.03069762e-04 -3.99133830e-04 -5.72061441e-04\n",
            "   7.65864328e-03  1.83448755e-02  5.80267402e-03  1.41615710e-02\n",
            "   1.93651515e-03 -1.07598384e-01 -3.84075608e-03  7.49502517e-02\n",
            "  -3.28791601e-03  8.72416071e-03  1.02442649e-02  3.84352475e-03\n",
            "   3.23289089e-02 -4.24716937e-02  6.31040602e-04 -2.64518924e-03\n",
            "   2.97694651e-02  2.49297355e-03 -9.02913796e-02  1.13619005e-02\n",
            "   2.13743714e-02  1.48905232e-02  5.80605965e-03  7.38323726e-03\n",
            "   1.09828696e-02  6.62075006e-03  1.81237200e-02 -2.80847659e-03\n",
            "   7.78269939e-04  1.48403434e-02  9.64302319e-03  1.87398240e-02\n",
            "  -2.59197852e-02  9.82166713e-03  9.18503608e-03 -5.58335884e-03\n",
            "  -1.34188592e-03 -9.81175650e-02 -2.09631398e-03  6.44252143e-03\n",
            "   4.01142772e-02  2.06454440e-02  6.85364181e-02  1.53217882e-02\n",
            "  -1.08814443e-02  3.26008877e-03  3.80683188e-02  1.41094086e-02\n",
            "   3.05297165e-02  7.54518495e-02 -3.12834485e-02  1.89836476e-02\n",
            "   3.44152178e-03  8.09054313e-03  2.46394757e-02  1.58875317e-02\n",
            "   3.92829922e-02  3.19675403e-02  1.44712353e-01  5.80133959e-03\n",
            "   7.54786481e-02  5.63429309e-04  8.94618211e-02 -9.05205117e-04\n",
            "   7.03734681e-03  6.24609854e-03 -2.72520065e-02 -3.77353023e-02\n",
            "  -8.64184883e-02 -2.36926890e-02 -7.70941275e-05  3.08163171e-02\n",
            "   2.40712688e-02  5.04840740e-03  1.96492306e-02  7.71503824e-03\n",
            "   1.01300452e-02  1.08115801e-02 -3.00026075e-03  1.86970337e-02\n",
            "   2.17198393e-04  9.92085865e-03  6.16284789e-03  2.73893838e-03\n",
            "   3.34228009e-03 -1.79734376e-02 -1.32446588e-03 -1.01074369e-01\n",
            "   4.29116280e-03  2.41003745e-02  8.69024644e-03  8.04272359e-03\n",
            "   7.20417472e-03  3.61622944e-02  1.87815123e-02 -1.39189214e-02\n",
            "   1.22903591e-02  6.74394483e-05  5.87059468e-03  1.58398451e-02\n",
            "   5.26446722e-03  3.45756062e-02  7.99205267e-02  1.15657832e-02\n",
            "   6.67528457e-03  4.38731830e-03  6.58381567e-03  8.23460599e-03\n",
            "  -1.98641400e-03  5.80332337e-03  7.48602501e-03  9.05868868e-03\n",
            "   1.09605093e-02  4.97952235e-03 -4.60388563e-03  2.64194236e-04\n",
            "   1.20307093e-02 -1.56682178e-03 -1.32301253e-01  3.87728344e-03\n",
            "  -1.34762535e-02  3.97313222e-03  4.44662570e-03 -2.17570224e-02\n",
            "  -6.34292778e-03  4.01658315e-02 -3.04334209e-02  1.20224481e-02\n",
            "   4.72112640e-03  6.16088788e-04  3.03836373e-03 -2.10767097e-04\n",
            "  -8.56247242e-02  1.50876734e-02  1.59648495e-02  1.69369538e-03\n",
            "  -1.13508890e-01 -6.31801613e-02  5.28230942e-03  5.87473671e-03\n",
            "   5.27205164e-02  3.62182282e-03  1.33161878e-02  1.54410567e-02\n",
            "   2.82441284e-02  2.21180048e-02  1.30989944e-02  2.04760235e-02\n",
            "   3.69505811e-03  8.05499997e-03 -1.14245817e-02  5.03512519e-03\n",
            "  -6.03769870e-04  1.69746363e-03  1.51704705e-03 -6.99365052e-03\n",
            "   7.03689409e-02 -7.30472891e-03  2.60301258e-03  5.62616816e-03\n",
            "   2.39221931e-02  7.00860634e-03  1.11703049e-02 -2.99478991e-03\n",
            "   6.40993370e-02  3.22900561e-02  3.93361054e-03  8.99745837e-03\n",
            "  -2.48403494e-02  5.42890610e-02  1.31615892e-02  1.51829821e-02\n",
            "   2.78101011e-05  1.17877196e-02  5.53698629e-03  1.82202875e-02\n",
            "   1.33018533e-02 -4.21543771e-02  4.28303827e-03  6.42834296e-03\n",
            "   6.67166637e-03 -6.61069593e-03 -1.93467089e-03  1.08349803e-02\n",
            "   2.71370522e-02  6.35343209e-03  1.25757564e-02  8.46679037e-03\n",
            "  -2.10741972e-02  1.14464597e-02  6.34631033e-03  5.01031460e-03\n",
            "   1.27284117e-03  1.45064883e-02  6.16228302e-03  1.27619761e-02\n",
            "   6.55443051e-03 -9.94666320e-03  4.62009682e-03 -9.86157898e-05\n",
            "   1.12501288e-02 -1.06385187e-02  6.94989474e-03  2.14981680e-02\n",
            "  -5.73928450e-03 -1.01763543e-02 -9.41262085e-03 -4.53290778e-02\n",
            "   2.01062822e-02 -1.94743786e-03  5.83276141e-03  3.19482769e-03\n",
            "   9.51955735e-03  1.00968519e-02  9.24341320e-03  5.25421767e-03\n",
            "   3.88682438e-03  1.33704093e-02  2.42694239e-02  8.94904952e-03\n",
            "   8.95844073e-03  3.82959716e-03  6.22037909e-03  5.40903119e-02\n",
            "   1.89009311e-03  1.02465036e-01  3.64352254e-03  2.43465136e-02\n",
            "   4.00548120e-03  3.51888871e-03  5.74996453e-03 -2.71544597e-03\n",
            "   8.04541544e-03  2.48781354e-02  1.49879068e-02  6.91287762e-03\n",
            "   1.29669048e-02  1.88600784e-03  7.84290112e-03 -4.42471617e-04\n",
            "   1.36628999e-02  1.07363430e-02 -1.08727526e-02  3.06982847e-03\n",
            "  -2.81912108e-04  1.36614267e-03 -9.85322488e-03  1.00555626e-02\n",
            "   9.45991298e-03  1.29639045e-02 -8.44553496e-03 -8.14623946e-03\n",
            "  -6.14461359e-03  2.00996581e-03  2.33648390e-03 -2.88470582e-03\n",
            "  -7.77857972e-03  8.08859575e-02 -1.29606633e-03 -8.97419197e-02\n",
            "  -7.61943935e-03  6.08833979e-03 -3.87517387e-03  3.98494390e-03\n",
            "  -2.46223446e-03 -7.27426796e-03  4.58671315e-04  5.63582490e-03\n",
            "   6.75258142e-02  6.31509594e-03 -2.51063517e-03 -7.57128006e-03\n",
            "  -6.64641432e-03 -5.92046618e-04 -9.37827046e-03 -4.40139454e-04\n",
            "  -9.83865926e-03  4.03826243e-03 -1.16010804e-03 -9.17981751e-03\n",
            "  -8.18748668e-03 -5.55611716e-03 -8.04008760e-03 -2.02528385e-03\n",
            "   5.41417728e-03  5.51703705e-03  2.90362256e-03  6.01869165e-03\n",
            "  -7.81884001e-03 -1.14765462e-01  1.14765462e-01]\n",
            " [ 1.07922157e-01  1.81567028e-01 -2.25408178e-01 -3.91623084e-02\n",
            "   4.51291961e-02  1.41412595e-03 -3.47164056e-02  1.06689812e-02\n",
            "   6.78380910e-02  5.19091459e-02 -1.62968124e-01  4.24458383e-02\n",
            "   5.27750673e-02  8.46462582e-02 -3.64683742e-02 -5.80050543e-02\n",
            "   9.84585382e-02  4.14863760e-02 -1.83157779e-03  3.92934984e-03\n",
            "  -5.92612059e-03  3.90418600e-02 -7.32059834e-03 -2.91962066e-01\n",
            "   2.58872393e-01  1.37079873e-01  1.98411456e-01  1.67283606e-01\n",
            "   1.81450262e-02 -2.56561072e-01  2.06698435e-02  2.07755297e-02\n",
            "   2.73373932e-02  2.44740242e-02  1.57544238e-02  2.75734646e-03\n",
            "  -1.22865208e-02  2.49042572e-02  5.52649438e-02  1.52538812e-02\n",
            "   6.51511415e-02 -9.72173102e-03 -3.22650193e-02 -9.48033272e-03\n",
            "  -4.40481894e-02  5.35064994e-03 -3.57448040e-02  3.17766479e-03\n",
            "   1.64547722e-02 -2.11892780e-03  2.13236863e-03  1.75989306e-02\n",
            "   1.05517781e-02 -6.47105490e-02 -1.01932846e-02  1.07384508e-01\n",
            "   1.10515674e-02 -2.43887134e-02  5.16005304e-03  3.97720531e-03\n",
            "  -1.20566142e-02 -2.30603851e-02  9.39468211e-03  3.00171020e-03\n",
            "   9.50691433e-03  1.11329418e-03 -2.62469211e-02 -6.44214897e-03\n",
            "   4.62215423e-02  2.46902424e-02  3.59734820e-04  1.12257898e-02\n",
            "   2.25848963e-03  1.13453406e-02  7.21697843e-03 -1.31908383e-03\n",
            "   4.51269668e-03 -3.62890455e-02 -1.39798462e-02 -8.25007345e-02\n",
            "  -7.29425233e-03  2.80353924e-03 -5.92612059e-03  2.21524755e-02\n",
            "  -8.89889462e-03  1.09034841e-01  3.31820781e-03 -2.29756682e-02\n",
            "  -3.27161340e-02  1.01555073e-02 -6.79499596e-03  6.52745697e-03\n",
            "   3.85919009e-02  2.41920346e-03  8.02694374e-03  1.60758064e-02\n",
            "   2.49384493e-03  3.22674639e-03  5.73422350e-02 -1.71683768e-02\n",
            "  -6.37022743e-04  1.00575455e-03  5.99233762e-02  7.86905851e-03\n",
            "   3.70063744e-02  2.35129422e-02  6.15496679e-02  5.85986340e-02\n",
            "   5.78384747e-02  2.39054431e-02  4.58174177e-02  8.17690664e-03\n",
            "   3.07439324e-03  1.94897666e-02 -1.90932277e-02 -4.85765243e-02\n",
            "  -1.73952827e-01  3.46476411e-02  2.67871546e-02 -2.51768456e-02\n",
            "  -1.66382300e-02  1.83345618e-02  6.84176933e-02 -8.07524580e-03\n",
            "  -6.84341587e-03 -1.13380019e-02  6.19579366e-03 -9.09241639e-03\n",
            "  -2.66781276e-03 -1.23050891e-02  5.22774182e-03 -5.34748802e-02\n",
            "  -2.80512870e-02  2.46025871e-02 -8.90420071e-03  1.98087696e-02\n",
            "  -2.76971480e-02  2.26174994e-02 -7.92526517e-03 -2.62264379e-02\n",
            "  -1.08922441e-02  2.04196848e-02  1.37308530e-02  2.10839366e-02\n",
            "   1.32613631e-02 -5.11490459e-03  1.10625800e-02  1.60224089e-02\n",
            "  -1.66066874e-02 -1.21300818e-02  1.18457166e-01  2.75594618e-02\n",
            "  -3.88765921e-02  5.73880387e-03  4.51721034e-03  6.98002136e-03\n",
            "   8.52600138e-03 -2.22326500e-02  2.25672366e-02 -2.75503280e-02\n",
            "  -8.98688500e-03 -2.23116560e-02 -7.15227385e-03 -9.94498326e-03\n",
            "  -6.13655566e-03 -3.19286151e-02  1.91852465e-02 -1.32845246e-03\n",
            "   4.23178305e-03  1.05532445e-02 -1.91747171e-02  3.32161293e-02\n",
            "   7.79174339e-03  6.32720082e-02 -3.64129219e-02 -1.19297706e-02\n",
            "   3.99956223e-03  1.76852492e-02 -2.21104305e-02  1.34178699e-03\n",
            "   1.40187304e-02  1.96089594e-02  1.45065553e-02 -9.13812606e-03\n",
            "  -2.98778276e-02 -7.21187195e-02  2.08524017e-03  1.58443975e-03\n",
            "  -1.74704528e-02  5.10240014e-04 -2.03506293e-03 -2.48586272e-02\n",
            "  -1.30537296e-02 -1.24186150e-02 -1.09922702e-02 -2.60796634e-04\n",
            "   5.87007077e-03  6.76686983e-03  4.95298882e-02 -2.12752509e-03\n",
            "   5.48204916e-02  5.02942473e-03 -5.82921991e-03 -2.23328166e-04\n",
            "   3.00739288e-02  1.53798858e-02  1.96668865e-02 -3.45722378e-03\n",
            "   3.93402793e-03  2.69761695e-02 -1.50493701e-02  3.97936132e-03\n",
            "   5.87965131e-02  2.33941722e-02 -1.76764783e-03  8.41185090e-03\n",
            "   4.50349668e-02  7.84427163e-02  2.03950219e-02 -3.19093094e-03\n",
            "   4.29204306e-04  6.66554186e-03  9.35173243e-03 -3.55262454e-02\n",
            "  -3.18497710e-02  7.25131916e-02  3.73138706e-03  7.18096762e-04\n",
            "   3.67902937e-03 -3.46807419e-02  2.64114992e-02 -4.24881483e-03\n",
            "   1.04382523e-02 -2.01259286e-02  3.23262724e-02 -1.28561182e-02\n",
            "   4.70895731e-02 -1.86184994e-02 -1.02849150e-02 -1.99344594e-02\n",
            "   3.60821173e-03  2.27785037e-02 -2.19788506e-02 -5.63312200e-02\n",
            "   1.21751405e-02  3.29376471e-03 -6.88184095e-04 -1.01365724e-02\n",
            "  -4.98273468e-02  3.01010993e-02  1.69685826e-02  2.67380588e-02\n",
            "   3.60693182e-02  2.08069692e-02  2.88890939e-02  5.15447445e-02\n",
            "   4.37373362e-02 -7.86085531e-02 -2.93273334e-02 -2.38484245e-04\n",
            "  -9.10709444e-03 -4.45247688e-03 -1.71630031e-02  1.52665155e-02\n",
            "   3.96697643e-03  1.03536243e-02 -8.43573570e-02  5.49232285e-04\n",
            "   4.09851385e-03  1.07894473e-03  6.88013649e-03  5.47979913e-02\n",
            "  -2.40525176e-02  4.16317186e-02  1.27029385e-02 -9.76170588e-02\n",
            "  -2.02048453e-02  2.18586540e-04 -1.10316339e-02  1.66928218e-02\n",
            "   2.53062419e-03 -1.02083940e-01  1.27518534e-02  1.03477199e-02\n",
            "  -2.05901383e-02  3.36712288e-04 -2.22205330e-02 -1.60324399e-02\n",
            "  -1.14052775e-02 -7.04608876e-03  1.05015292e-03 -9.13932294e-03\n",
            "  -1.43705656e-02 -8.22851447e-03  8.97652648e-04 -4.03556430e-02\n",
            "  -2.69247329e-02  1.02038820e-03 -1.16935467e-03 -2.38426955e-03\n",
            "   8.26563277e-03 -1.15732028e-02 -1.19879177e-02 -6.15528195e-03\n",
            "   6.77926892e-04 -4.25531226e-02 -6.82341786e-03  8.92188512e-02\n",
            "   8.68674016e-03 -1.14475504e-03  9.57458312e-03  3.07040899e-04\n",
            "  -6.43391217e-03 -1.76120809e-03 -7.74550048e-04 -4.45912942e-02\n",
            "  -5.80554844e-02  5.52649438e-02  2.52233683e-02 -2.35007349e-03\n",
            "   1.58030868e-03  1.66212095e-03 -8.30856476e-03  1.81395861e-02\n",
            "   7.31497287e-05 -4.37562426e-04 -4.44844995e-02  8.42233358e-04\n",
            "  -8.59689070e-03 -3.73662768e-02 -4.50550501e-03 -2.77303782e-03\n",
            "  -1.22722485e-03  2.21857488e-02 -4.02975545e-03 -3.27872664e-03\n",
            "   1.38253401e-03  3.46110230e-01 -3.46110230e-01]]\n",
            "Дисперсии по главным компонентам,Cобственные значения вдоль каждой компоненты:\n",
            "[3.58980066 2.5464644 ]\n",
            "Среднеквадратические отклонения:\n",
            "[1.89467693 1.59576452]\n",
            "Соответствующие сингулярные значения:\n",
            "[210.01876266 176.88529632]\n"
          ],
          "name": "stdout"
        }
      ]
    },
    {
      "cell_type": "code",
      "metadata": {
        "id": "mxEmVkRbC1vA",
        "colab": {
          "base_uri": "https://localhost:8080/",
          "height": 0
        },
        "outputId": "ba2586ec-553b-4494-9bd9-edee96ad2f10"
      },
      "source": [
        "y = condition_\r\n",
        "\r\n",
        "plt.figure(figsize=(10,10))\r\n",
        "for i in range(len(X_pca)):\r\n",
        "    plt.scatter(X_pca[i, 0], X_pca[i, 1], c= 'red' if y.values[i] == 'Used' else 'blue')"
      ],
      "execution_count": 42,
      "outputs": [
        {
          "output_type": "display_data",
          "data": {
            "image/png": "[encoded data removed]",
            "text/plain": [
              "<Figure size 720x720 with 1 Axes>"
            ]
          },
          "metadata": {
            "tags": [],
            "needs_background": "light"
          }
        }
      ]
    },
    {
      "cell_type": "code",
      "metadata": {
        "id": "22TPFybeDAqg",
        "colab": {
          "base_uri": "https://localhost:8080/"
        },
        "outputId": "c208a7b6-0d79-4ebb-8e5d-69c4cb415798"
      },
      "source": [
        "\r\n",
        "pca = PCA(n_components=2)\r\n",
        "X_pca = pca.fit_transform(data_stand)\r\n",
        "X = X_pca\r\n",
        "y = condition_\r\n",
        "from sklearn.model_selection import train_test_split\r\n",
        "X_train, X_test, y_train, y_test = train_test_split(X, y, test_size = 0.3, random_state = 42)\r\n",
        "\r\n",
        "N_train, _ = X_train.shape \r\n",
        "N_test,  _ = X_test.shape \r\n",
        "\r\n",
        "print(N_train, N_test)"
      ],
      "execution_count": 43,
      "outputs": [
        {
          "output_type": "stream",
          "text": [
            "8601 3687\n"
          ],
          "name": "stdout"
        }
      ]
    },
    {
      "cell_type": "code",
      "metadata": {
        "id": "OFmEuHDEDBXg",
        "colab": {
          "base_uri": "https://localhost:8080/"
        },
        "outputId": "9a502a3e-6183-4436-d73f-02b2132752e3"
      },
      "source": [
        "from sklearn.neighbors import KNeighborsClassifier\r\n",
        "knn = KNeighborsClassifier(n_neighbors = 10)\r\n",
        "knn.fit(X_train, y_train)\r\n",
        "knn.fit(X_test, y_test)\r\n",
        "y_train_predict = knn.predict(X_train)\r\n",
        "y_test_predict = knn.predict(X_test)\r\n",
        "err_train = np.mean(y_train != y_train_predict)\r\n",
        "err_test = np.mean(y_test != y_test_predict)\r\n",
        "\r\n",
        "print(err_train, err_test)"
      ],
      "execution_count": 44,
      "outputs": [
        {
          "output_type": "stream",
          "text": [
            "0.18265317986280666 0.15676701925684838\n"
          ],
          "name": "stdout"
        }
      ]
    },
    {
      "cell_type": "code",
      "metadata": {
        "id": "l6SDR6iqDEr9",
        "colab": {
          "base_uri": "https://localhost:8080/",
          "height": 0
        },
        "outputId": "e335479a-399b-44ef-823f-5cb9893cf1eb"
      },
      "source": [
        "from sklearn.model_selection import train_test_split\r\n",
        "err_train_list = []\r\n",
        "err_test_list = []\r\n",
        "for n_comp in range(2, 10):\r\n",
        "    pca = PCA(n_components=n_comp)\r\n",
        "    X_pca = pca.fit_transform(data_stand)\r\n",
        "    X_train, X_test, y_train, y_test = train_test_split(X_pca, y, test_size = 0.3, random_state = 42)\r\n",
        "    knn = KNeighborsClassifier(n_neighbors = 10)\r\n",
        "    knn.fit(X_train, y_train)\r\n",
        "    knn.fit(X_test, y_test)\r\n",
        "    y_train_predict = knn.predict(X_train)\r\n",
        "    y_test_predict = knn.predict(X_test)\r\n",
        "    err_train = np.mean(y_train != y_train_predict)\r\n",
        "    err_test = np.mean(y_test != y_test_predict)\r\n",
        "    \r\n",
        "    err_train_list.append(err_train)\r\n",
        "    err_test_list.append(err_test)\r\n",
        "    \r\n",
        "plt.plot(range(2, 10), err_train_list, label=\"Train error\")\r\n",
        "plt.plot(range(2, 10), err_test_list, label=\"Test error\")\r\n",
        "plt.xlabel('n')\r\n",
        "plt.ylabel('error')\r\n",
        "plt.legend()\r\n",
        "plt.show()\r\n",
        "print(min(err_train_list), 2 + err_train_list.index(min(err_train_list)))\r\n",
        "print(min(err_test_list), 2 + err_test_list.index(min(err_test_list)))"
      ],
      "execution_count": 45,
      "outputs": [
        {
          "output_type": "display_data",
          "data": {
            "image/png": "[encoded data removed]",
            "text/plain": [
              "<Figure size 432x288 with 1 Axes>"
            ]
          },
          "metadata": {
            "tags": [],
            "needs_background": "light"
          }
        },
        {
          "output_type": "stream",
          "text": [
            "0.1691663760027904 5\n",
            "0.14835909953892054 7\n"
          ],
          "name": "stdout"
        }
      ]
    },
    {
      "cell_type": "markdown",
      "metadata": {
        "id": "l3UAPcNbnDPV"
      },
      "source": [
        "\r\n",
        "##Применение LDA\r\n"
      ]
    },
    {
      "cell_type": "code",
      "metadata": {
        "id": "Md_qR6_tnPjm",
        "colab": {
          "base_uri": "https://localhost:8080/"
        },
        "outputId": "7b53ec20-0d5e-44ba-b352-726a023dfff8"
      },
      "source": [
        "from sklearn import discriminant_analysis\r\n",
        "lda_model = discriminant_analysis.LinearDiscriminantAnalysis()\r\n",
        "X = data_stand\r\n",
        "y = condition_\r\n",
        "X_train, X_test, y_train, y_test = train_test_split(X, y, test_size = 0.3, random_state = 42)  \r\n",
        "    \r\n",
        "N_train, _ = X_train.shape \r\n",
        "N_test,  _ = X_test.shape \r\n",
        "print(N_train, N_test)\r\n",
        "\r\n",
        "\r\n",
        "lda_model.fit(X_train, y_train)\r\n",
        "y_pred = lda_model.predict(X_train)\r\n",
        "y_test_pred = lda_model.predict(X_test)\r\n",
        "print (np.mean(y_train != y_pred))\r\n",
        "print (np.mean(y_test != y_test_pred))"
      ],
      "execution_count": 46,
      "outputs": [
        {
          "output_type": "stream",
          "text": [
            "8601 3687\n",
            "0.1740495291245204\n",
            "0.1779224301600217\n"
          ],
          "name": "stdout"
        }
      ]
    },
    {
      "cell_type": "code",
      "metadata": {
        "id": "4t-bmL43neJT"
      },
      "source": [
        "from sklearn import neighbors\r\n",
        "err_train = []\r\n",
        "err_test = []\r\n",
        "k_range = range(10, 20)\r\n",
        "for k in k_range:\r\n",
        "    knn_model = neighbors.KNeighborsClassifier(n_neighbors = k)\r\n",
        "    knn_model.fit(X_train, y_train)\r\n",
        "    knn_model.fit(X_test, y_test)\r\n",
        "    y_pred      = knn_model.predict(X_train)\r\n",
        "    y_test_pred = knn_model.predict(X_test)\r\n",
        "    err_train.append(np.mean(y_train != y_pred))\r\n",
        "    err_test.append(np.mean(y_test != y_test_pred))"
      ],
      "execution_count": 47,
      "outputs": []
    },
    {
      "cell_type": "code",
      "metadata": {
        "id": "MthMwUd2nqve",
        "colab": {
          "base_uri": "https://localhost:8080/",
          "height": 0
        },
        "outputId": "35a4ebe0-a65f-4bcc-ffd0-439e1d8dba98"
      },
      "source": [
        "plt.plot(k_range, err_train, 'r')\r\n",
        "plt.plot(k_range, err_test, 'b')"
      ],
      "execution_count": 48,
      "outputs": [
        {
          "output_type": "execute_result",
          "data": {
            "text/plain": [
              "[<matplotlib.lines.Line2D at 0x7ffb80b8b390>]"
            ]
          },
          "metadata": {
            "tags": []
          },
          "execution_count": 48
        },
        {
          "output_type": "display_data",
          "data": {
            "image/png": "[encoded data removed]",
            "text/plain": [
              "<Figure size 432x288 with 1 Axes>"
            ]
          },
          "metadata": {
            "tags": [],
            "needs_background": "light"
          }
        }
      ]
    },
    {
      "cell_type": "code",
      "metadata": {
        "id": "HBrDZm-RnuFN",
        "colab": {
          "base_uri": "https://localhost:8080/"
        },
        "outputId": "f3badaa1-d642-4a22-b704-ae8ef8ff9fef"
      },
      "source": [
        "for iii in range(len(err_train)):\r\n",
        "    print (err_train[iii], err_test[iii])"
      ],
      "execution_count": 49,
      "outputs": [
        {
          "output_type": "stream",
          "text": [
            "0.17742123008952448 0.1470029834553838\n",
            "0.17323567027089873 0.14863032275562787\n",
            "0.17521218462969423 0.14890154597233524\n",
            "0.17381699802348563 0.15378356387306755\n",
            "0.1753284501802116 0.15812313534038513\n",
            "0.17114289036158586 0.1551396799566043\n",
            "0.1707940937100337 0.1562245728234337\n",
            "0.17056156260899896 0.15920802820721452\n",
            "0.17067782815951635 0.1589368049905072\n",
            "0.17125915591210325 0.161106590724166\n"
          ],
          "name": "stdout"
        }
      ]
    }
  ]
}