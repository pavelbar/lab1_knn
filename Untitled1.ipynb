{
  "nbformat": 4,
  "nbformat_minor": 0,
  "metadata": {
    "colab": {
      "name": "Untitled1.ipynb",
      "provenance": [],
      "toc_visible": true,
      "include_colab_link": true
    },
    "kernelspec": {
      "name": "python3",
      "display_name": "Python 3"
    }
  },
  "cells": [
    {
      "cell_type": "markdown",
      "metadata": {
        "id": "view-in-github",
        "colab_type": "text"
      },
      "source": [
        "<a href=\"https://colab.research.google.com/github/pavelbar/lab1_knn/blob/main/Untitled1.ipynb\" target=\"_parent\"><img src=\"https://colab.research.google.com/assets/colab-badge.svg\" alt=\"Open In Colab\"/></a>"
      ]
    },
    {
      "cell_type": "code",
      "metadata": {
        "id": "oJ0avyLEcETi"
      },
      "source": [
        "import numpy as np              # Массивы (матрицы, векторы, линейная алгебра)\n",
        "import matplotlib.pyplot as plt # Научная графика\n",
        "%matplotlib inline \n",
        "    # Говорим jupyter'у, чтобы весь графический вывод был в браузере, а не в отдельном окне\n",
        "import pandas as pd             # Таблицы и временные ряды (dataframe, series)\n",
        "import seaborn as sns           # Еще больше красивой графики для визуализации данных\n",
        "import sklearn                  # Алгоритмы машинного обучения"
      ],
      "execution_count": 1,
      "outputs": []
    },
    {
      "cell_type": "code",
      "metadata": {
        "id": "XhqE95fokn3F",
        "colab": {
          "base_uri": "https://localhost:8080/"
        },
        "outputId": "97105512-af42-4a18-a1d2-4833e029fd78"
      },
      "source": [
        "from google.colab import drive\n",
        "drive.mount('/content/drive')"
      ],
      "execution_count": 2,
      "outputs": [
        {
          "output_type": "stream",
          "text": [
            "Mounted at /content/drive\n"
          ],
          "name": "stdout"
        }
      ]
    },
    {
      "cell_type": "markdown",
      "metadata": {
        "id": "fCaaF_1IE1gL"
      },
      "source": [
        "Эти данные касаются подержанных и новых автомобилей, атак-же их цен в Пакистане. "
      ]
    },
    {
      "cell_type": "markdown",
      "metadata": {
        "id": "Bg7vs4DXDY8E"
      },
      "source": [
        "##Предварительная работа с данными"
      ]
    },
    {
      "cell_type": "code",
      "metadata": {
        "id": "r7NJsB0YcPVJ"
      },
      "source": [
        "data = pd.read_csv('/content/drive/My Drive/AAA_LABS/OLX_Car_Data_CSV.csv',  encoding= 'unicode_escape')\n"
      ],
      "execution_count": 3,
      "outputs": []
    },
    {
      "cell_type": "code",
      "metadata": {
        "id": "ZNmo5YU7lwY1",
        "colab": {
          "base_uri": "https://localhost:8080/"
        },
        "outputId": "d6b57ab1-7246-4439-ca5a-05a9a3d3b6ff"
      },
      "source": [
        "data.shape"
      ],
      "execution_count": 4,
      "outputs": [
        {
          "output_type": "execute_result",
          "data": {
            "text/plain": [
              "(24973, 9)"
            ]
          },
          "metadata": {
            "tags": []
          },
          "execution_count": 4
        }
      ]
    },
    {
      "cell_type": "code",
      "metadata": {
        "id": "VKe3JSxYl45P",
        "colab": {
          "base_uri": "https://localhost:8080/",
          "height": 359
        },
        "outputId": "b584d027-c217-4c0b-c788-218739087bb9"
      },
      "source": [
        "data.sample(10)"
      ],
      "execution_count": 5,
      "outputs": [
        {
          "output_type": "execute_result",
          "data": {
            "text/html": [
              "<div>\n",
              "<style scoped>\n",
              "    .dataframe tbody tr th:only-of-type {\n",
              "        vertical-align: middle;\n",
              "    }\n",
              "\n",
              "    .dataframe tbody tr th {\n",
              "        vertical-align: top;\n",
              "    }\n",
              "\n",
              "    .dataframe thead th {\n",
              "        text-align: right;\n",
              "    }\n",
              "</style>\n",
              "<table border=\"1\" class=\"dataframe\">\n",
              "  <thead>\n",
              "    <tr style=\"text-align: right;\">\n",
              "      <th></th>\n",
              "      <th>Brand</th>\n",
              "      <th>Condition</th>\n",
              "      <th>Fuel</th>\n",
              "      <th>KMs Driven</th>\n",
              "      <th>Model</th>\n",
              "      <th>Price</th>\n",
              "      <th>Registered City</th>\n",
              "      <th>Transaction Type</th>\n",
              "      <th>Year</th>\n",
              "    </tr>\n",
              "  </thead>\n",
              "  <tbody>\n",
              "    <tr>\n",
              "      <th>733</th>\n",
              "      <td>Chevrolet</td>\n",
              "      <td>New</td>\n",
              "      <td>Petrol</td>\n",
              "      <td>80000.0</td>\n",
              "      <td>Exclusive</td>\n",
              "      <td>350000</td>\n",
              "      <td>Karachi</td>\n",
              "      <td>Cash</td>\n",
              "      <td>2005.0</td>\n",
              "    </tr>\n",
              "    <tr>\n",
              "      <th>19887</th>\n",
              "      <td>Suzuki</td>\n",
              "      <td>Used</td>\n",
              "      <td>Petrol</td>\n",
              "      <td>39000.0</td>\n",
              "      <td>Bolan</td>\n",
              "      <td>780000</td>\n",
              "      <td>Lahore</td>\n",
              "      <td>Cash</td>\n",
              "      <td>2015.0</td>\n",
              "    </tr>\n",
              "    <tr>\n",
              "      <th>17997</th>\n",
              "      <td>Suzuki</td>\n",
              "      <td>Used</td>\n",
              "      <td>Petrol</td>\n",
              "      <td>101000.0</td>\n",
              "      <td>Wagon R</td>\n",
              "      <td>915000</td>\n",
              "      <td>Karachi</td>\n",
              "      <td>Cash</td>\n",
              "      <td>2014.0</td>\n",
              "    </tr>\n",
              "    <tr>\n",
              "      <th>11639</th>\n",
              "      <td>Suzuki</td>\n",
              "      <td>Used</td>\n",
              "      <td>Petrol</td>\n",
              "      <td>62000.0</td>\n",
              "      <td>Cultus VXR</td>\n",
              "      <td>725000</td>\n",
              "      <td>Karachi</td>\n",
              "      <td>Cash</td>\n",
              "      <td>2012.0</td>\n",
              "    </tr>\n",
              "    <tr>\n",
              "      <th>19288</th>\n",
              "      <td>Toyota</td>\n",
              "      <td>Used</td>\n",
              "      <td>Petrol</td>\n",
              "      <td>96000.0</td>\n",
              "      <td>Other</td>\n",
              "      <td>1365000</td>\n",
              "      <td>Karachi</td>\n",
              "      <td>Cash</td>\n",
              "      <td>2005.0</td>\n",
              "    </tr>\n",
              "    <tr>\n",
              "      <th>4741</th>\n",
              "      <td>Suzuki</td>\n",
              "      <td>Used</td>\n",
              "      <td>CNG</td>\n",
              "      <td>10000.0</td>\n",
              "      <td>Alto</td>\n",
              "      <td>360000</td>\n",
              "      <td>Karachi</td>\n",
              "      <td>Cash</td>\n",
              "      <td>2005.0</td>\n",
              "    </tr>\n",
              "    <tr>\n",
              "      <th>11356</th>\n",
              "      <td>Toyota</td>\n",
              "      <td>Used</td>\n",
              "      <td>Petrol</td>\n",
              "      <td>115000.0</td>\n",
              "      <td>Other</td>\n",
              "      <td>850000</td>\n",
              "      <td>Karachi</td>\n",
              "      <td>Cash</td>\n",
              "      <td>2005.0</td>\n",
              "    </tr>\n",
              "    <tr>\n",
              "      <th>8575</th>\n",
              "      <td>Daihatsu</td>\n",
              "      <td>Used</td>\n",
              "      <td>CNG</td>\n",
              "      <td>50000.0</td>\n",
              "      <td>Charade</td>\n",
              "      <td>250000</td>\n",
              "      <td>Karachi</td>\n",
              "      <td>Cash</td>\n",
              "      <td>1992.0</td>\n",
              "    </tr>\n",
              "    <tr>\n",
              "      <th>8029</th>\n",
              "      <td>Toyota</td>\n",
              "      <td>New</td>\n",
              "      <td>Hybrid</td>\n",
              "      <td>40000.0</td>\n",
              "      <td>Corolla Axio</td>\n",
              "      <td>2850000</td>\n",
              "      <td>Karachi</td>\n",
              "      <td>Cash</td>\n",
              "      <td>2015.0</td>\n",
              "    </tr>\n",
              "    <tr>\n",
              "      <th>24023</th>\n",
              "      <td>NaN</td>\n",
              "      <td>NaN</td>\n",
              "      <td>NaN</td>\n",
              "      <td>NaN</td>\n",
              "      <td>NaN</td>\n",
              "      <td>460000</td>\n",
              "      <td>NaN</td>\n",
              "      <td>NaN</td>\n",
              "      <td>NaN</td>\n",
              "    </tr>\n",
              "  </tbody>\n",
              "</table>\n",
              "</div>"
            ],
            "text/plain": [
              "           Brand Condition    Fuel  ...  Registered City Transaction Type    Year\n",
              "733    Chevrolet       New  Petrol  ...          Karachi             Cash  2005.0\n",
              "19887     Suzuki      Used  Petrol  ...           Lahore             Cash  2015.0\n",
              "17997     Suzuki      Used  Petrol  ...          Karachi             Cash  2014.0\n",
              "11639     Suzuki      Used  Petrol  ...          Karachi             Cash  2012.0\n",
              "19288     Toyota      Used  Petrol  ...          Karachi             Cash  2005.0\n",
              "4741      Suzuki      Used     CNG  ...          Karachi             Cash  2005.0\n",
              "11356     Toyota      Used  Petrol  ...          Karachi             Cash  2005.0\n",
              "8575    Daihatsu      Used     CNG  ...          Karachi             Cash  1992.0\n",
              "8029      Toyota       New  Hybrid  ...          Karachi             Cash  2015.0\n",
              "24023        NaN       NaN     NaN  ...              NaN              NaN     NaN\n",
              "\n",
              "[10 rows x 9 columns]"
            ]
          },
          "metadata": {
            "tags": []
          },
          "execution_count": 5
        }
      ]
    },
    {
      "cell_type": "code",
      "metadata": {
        "id": "oVZ6OX3QmPcV"
      },
      "source": [
        "data = data.sample(frac=1)"
      ],
      "execution_count": 6,
      "outputs": []
    },
    {
      "cell_type": "code",
      "metadata": {
        "id": "FOo8rtj_nIt2"
      },
      "source": [
        "df1 = data[0:12486]\n",
        "df2 = data[12486:24973]"
      ],
      "execution_count": 7,
      "outputs": []
    },
    {
      "cell_type": "code",
      "metadata": {
        "id": "6NnKDHXLoMPD",
        "colab": {
          "base_uri": "https://localhost:8080/",
          "height": 276
        },
        "outputId": "18f12b88-15c5-4f8e-fd6f-42c1e43c9ee5"
      },
      "source": [
        "plt.scatter(data['Year'], data['Price'])\n",
        "pass"
      ],
      "execution_count": 8,
      "outputs": [
        {
          "output_type": "display_data",
          "data": {
            "image/png": "[encoded data removed]",
            "text/plain": [
              "<Figure size 432x288 with 1 Axes>"
            ]
          },
          "metadata": {
            "tags": [],
            "needs_background": "light"
          }
        }
      ]
    },
    {
      "cell_type": "code",
      "metadata": {
        "id": "SHiNMu0qoyCa",
        "colab": {
          "base_uri": "https://localhost:8080/",
          "height": 276
        },
        "outputId": "63f54ebc-8de4-4831-e27a-cdd8377cf597"
      },
      "source": [
        "plt.scatter(data['Year'], data['KMs Driven'])\n",
        "pass"
      ],
      "execution_count": 9,
      "outputs": [
        {
          "output_type": "display_data",
          "data": {
            "image/png": "[encoded data removed]",
            "text/plain": [
              "<Figure size 432x288 with 1 Axes>"
            ]
          },
          "metadata": {
            "tags": [],
            "needs_background": "light"
          }
        }
      ]
    },
    {
      "cell_type": "code",
      "metadata": {
        "id": "DqJmtCFhpPpZ",
        "colab": {
          "base_uri": "https://localhost:8080/",
          "height": 289
        },
        "outputId": "09dce891-dc93-488c-c385-91b7cef0fcd1"
      },
      "source": [
        "plt.scatter(data['KMs Driven'], data['Price'])\n",
        "pass"
      ],
      "execution_count": 10,
      "outputs": [
        {
          "output_type": "display_data",
          "data": {
            "image/png": "[encoded data removed]",
            "text/plain": [
              "<Figure size 432x288 with 1 Axes>"
            ]
          },
          "metadata": {
            "tags": [],
            "needs_background": "light"
          }
        }
      ]
    },
    {
      "cell_type": "markdown",
      "metadata": {
        "id": "5EhcC9XfptOn"
      },
      "source": [
        "### Борьба с выбросами.\n"
      ]
    },
    {
      "cell_type": "code",
      "metadata": {
        "id": "4cA3W1Z-p5D_",
        "colab": {
          "base_uri": "https://localhost:8080/"
        },
        "outputId": "17a3dc97-0274-4ac9-9584-b4a3c1fa1feb"
      },
      "source": [
        "df1['Price'].quantile([0.005,.01,.05,.1,.5,.9,.95,.99,.995])"
      ],
      "execution_count": 11,
      "outputs": [
        {
          "output_type": "execute_result",
          "data": {
            "text/plain": [
              "0.005      80000.0\n",
              "0.010      90000.0\n",
              "0.050     150000.0\n",
              "0.100     200000.0\n",
              "0.500     650000.0\n",
              "0.900    1700000.0\n",
              "0.950    2193750.0\n",
              "0.990    4350000.0\n",
              "0.995    6437250.0\n",
              "Name: Price, dtype: float64"
            ]
          },
          "metadata": {
            "tags": []
          },
          "execution_count": 11
        }
      ]
    },
    {
      "cell_type": "code",
      "metadata": {
        "id": "vZ6lJz_KqLZ5",
        "colab": {
          "base_uri": "https://localhost:8080/"
        },
        "outputId": "14047ddc-7dfa-4c6a-b164-71a3efe4a71f"
      },
      "source": [
        "df1['Year'].quantile([0.005,.01,.05,.1,.5,.9,.95,.99,.995])"
      ],
      "execution_count": 12,
      "outputs": [
        {
          "output_type": "execute_result",
          "data": {
            "text/plain": [
              "0.005    1976.0\n",
              "0.010    1982.0\n",
              "0.050    1986.0\n",
              "0.100    1991.0\n",
              "0.500    2008.0\n",
              "0.900    2016.0\n",
              "0.950    2017.0\n",
              "0.990    2018.0\n",
              "0.995    2018.0\n",
              "Name: Year, dtype: float64"
            ]
          },
          "metadata": {
            "tags": []
          },
          "execution_count": 12
        }
      ]
    },
    {
      "cell_type": "code",
      "metadata": {
        "id": "wZ6Z2-ODqXKY",
        "colab": {
          "base_uri": "https://localhost:8080/"
        },
        "outputId": "274c9e3d-d4e2-4e6f-a399-c8d9bc6df668"
      },
      "source": [
        "df1['KMs Driven'].quantile([0.005,.01,.05,.1,.5,.9,.95,.99,.995])"
      ],
      "execution_count": 13,
      "outputs": [
        {
          "output_type": "execute_result",
          "data": {
            "text/plain": [
              "0.005          1.0\n",
              "0.010          1.0\n",
              "0.050          1.0\n",
              "0.100         18.0\n",
              "0.500      66000.0\n",
              "0.900     150000.0\n",
              "0.950     210000.0\n",
              "0.990    1009040.0\n",
              "0.995    2000000.0\n",
              "Name: KMs Driven, dtype: float64"
            ]
          },
          "metadata": {
            "tags": []
          },
          "execution_count": 13
        }
      ]
    },
    {
      "cell_type": "code",
      "metadata": {
        "id": "CyVhC1WKqkP_",
        "colab": {
          "base_uri": "https://localhost:8080/"
        },
        "outputId": "4fca56d5-4e09-4bae-ae07-9e84f073021c"
      },
      "source": [
        "rows_to_drop = df1[\n",
        "    (df1['Price'] < df1['Price'].quantile(0.005)) | (df1['Price'] > df1['Price'].quantile(0.995)) | \n",
        "    (df1['Year'] < df1['Year'].quantile(0.005)) | (df1['Year'] > df1['Year'].quantile(0.995)) |\n",
        "    (df1['KMs Driven']  < df1['KMs Driven' ].quantile(0.005)) | (df1['KMs Driven']  > df1['KMs Driven' ].quantile(0.995))].index\n",
        "data_itog = df1.drop(rows_to_drop)\n",
        "data_itog.shape"
      ],
      "execution_count": 14,
      "outputs": [
        {
          "output_type": "execute_result",
          "data": {
            "text/plain": [
              "(12267, 9)"
            ]
          },
          "metadata": {
            "tags": []
          },
          "execution_count": 14
        }
      ]
    },
    {
      "cell_type": "code",
      "metadata": {
        "id": "h_IU6IMnromY",
        "colab": {
          "base_uri": "https://localhost:8080/"
        },
        "outputId": "e0ee12e8-72f6-4fa7-990b-ac9bf9dc2614"
      },
      "source": [
        "data_itog.info(memory_usage='deep')"
      ],
      "execution_count": 15,
      "outputs": [
        {
          "output_type": "stream",
          "text": [
            "<class 'pandas.core.frame.DataFrame'>\n",
            "Int64Index: 12267 entries, 6455 to 14228\n",
            "Data columns (total 9 columns):\n",
            " #   Column            Non-Null Count  Dtype  \n",
            "---  ------            --------------  -----  \n",
            " 0   Brand             11182 non-null  object \n",
            " 1   Condition         11182 non-null  object \n",
            " 2   Fuel              11044 non-null  object \n",
            " 3   KMs Driven        11114 non-null  float64\n",
            " 4   Model             11042 non-null  object \n",
            " 5   Price             12267 non-null  int64  \n",
            " 6   Registered City   10006 non-null  object \n",
            " 7   Transaction Type  11044 non-null  object \n",
            " 8   Year              11115 non-null  float64\n",
            "dtypes: float64(2), int64(1), object(6)\n",
            "memory usage: 4.5 MB\n"
          ],
          "name": "stdout"
        }
      ]
    },
    {
      "cell_type": "code",
      "metadata": {
        "id": "ZD4UNIA3rsSt",
        "colab": {
          "base_uri": "https://localhost:8080/",
          "height": 173
        },
        "outputId": "c73623b6-192c-4594-ce5f-8246738bb13e"
      },
      "source": [
        "data_obj = data_itog.select_dtypes(include=['object']).copy()\n",
        "data_obj.describe()"
      ],
      "execution_count": 16,
      "outputs": [
        {
          "output_type": "execute_result",
          "data": {
            "text/html": [
              "<div>\n",
              "<style scoped>\n",
              "    .dataframe tbody tr th:only-of-type {\n",
              "        vertical-align: middle;\n",
              "    }\n",
              "\n",
              "    .dataframe tbody tr th {\n",
              "        vertical-align: top;\n",
              "    }\n",
              "\n",
              "    .dataframe thead th {\n",
              "        text-align: right;\n",
              "    }\n",
              "</style>\n",
              "<table border=\"1\" class=\"dataframe\">\n",
              "  <thead>\n",
              "    <tr style=\"text-align: right;\">\n",
              "      <th></th>\n",
              "      <th>Brand</th>\n",
              "      <th>Condition</th>\n",
              "      <th>Fuel</th>\n",
              "      <th>Model</th>\n",
              "      <th>Registered City</th>\n",
              "      <th>Transaction Type</th>\n",
              "    </tr>\n",
              "  </thead>\n",
              "  <tbody>\n",
              "    <tr>\n",
              "      <th>count</th>\n",
              "      <td>11182</td>\n",
              "      <td>11182</td>\n",
              "      <td>11044</td>\n",
              "      <td>11042</td>\n",
              "      <td>10006</td>\n",
              "      <td>11044</td>\n",
              "    </tr>\n",
              "    <tr>\n",
              "      <th>unique</th>\n",
              "      <td>22</td>\n",
              "      <td>2</td>\n",
              "      <td>5</td>\n",
              "      <td>251</td>\n",
              "      <td>56</td>\n",
              "      <td>2</td>\n",
              "    </tr>\n",
              "    <tr>\n",
              "      <th>top</th>\n",
              "      <td>Suzuki</td>\n",
              "      <td>Used</td>\n",
              "      <td>Petrol</td>\n",
              "      <td>Cultus VXR</td>\n",
              "      <td>Karachi</td>\n",
              "      <td>Cash</td>\n",
              "    </tr>\n",
              "    <tr>\n",
              "      <th>freq</th>\n",
              "      <td>4839</td>\n",
              "      <td>9022</td>\n",
              "      <td>6965</td>\n",
              "      <td>853</td>\n",
              "      <td>8088</td>\n",
              "      <td>10543</td>\n",
              "    </tr>\n",
              "  </tbody>\n",
              "</table>\n",
              "</div>"
            ],
            "text/plain": [
              "         Brand Condition    Fuel       Model Registered City Transaction Type\n",
              "count    11182     11182   11044       11042           10006            11044\n",
              "unique      22         2       5         251              56                2\n",
              "top     Suzuki      Used  Petrol  Cultus VXR         Karachi             Cash\n",
              "freq      4839      9022    6965         853            8088            10543"
            ]
          },
          "metadata": {
            "tags": []
          },
          "execution_count": 16
        }
      ]
    },
    {
      "cell_type": "code",
      "metadata": {
        "id": "D4T-9SKBsWPz"
      },
      "source": [
        "converted_obj = pd.DataFrame()\n",
        "\n",
        "for col in data_itog.columns:\n",
        "    if ((col != 'Price') & (col != 'Year') & (col != 'KMs Driven')):\n",
        "        num_unique_values = len(data_itog[col].unique())\n",
        "        num_total_values = len(data_itog[col])\n",
        "        if num_unique_values / num_total_values < 0.5:\n",
        "            converted_obj.loc[:,col] = data_itog[col].astype('category')\n",
        "        else:\n",
        "            converted_obj.loc[:,col] = data_itog[col]\n",
        "    else:\n",
        "        converted_obj.loc[:,col] = data_itog[col]"
      ],
      "execution_count": 17,
      "outputs": []
    },
    {
      "cell_type": "code",
      "metadata": {
        "id": "HwCIXmkZtUBY",
        "colab": {
          "base_uri": "https://localhost:8080/"
        },
        "outputId": "7184f6c3-e3d6-475b-86e3-814d33b4108e"
      },
      "source": [
        "converted_obj.info(memory_usage='deep')"
      ],
      "execution_count": 18,
      "outputs": [
        {
          "output_type": "stream",
          "text": [
            "<class 'pandas.core.frame.DataFrame'>\n",
            "Int64Index: 12267 entries, 6455 to 14228\n",
            "Data columns (total 9 columns):\n",
            " #   Column            Non-Null Count  Dtype   \n",
            "---  ------            --------------  -----   \n",
            " 0   Brand             11182 non-null  category\n",
            " 1   Condition         11182 non-null  category\n",
            " 2   Fuel              11044 non-null  category\n",
            " 3   KMs Driven        11114 non-null  float64 \n",
            " 4   Model             11042 non-null  category\n",
            " 5   Price             12267 non-null  int64   \n",
            " 6   Registered City   10006 non-null  category\n",
            " 7   Transaction Type  11044 non-null  category\n",
            " 8   Year              11115 non-null  float64 \n",
            "dtypes: category(6), float64(2), int64(1)\n",
            "memory usage: 501.8 KB\n"
          ],
          "name": "stdout"
        }
      ]
    },
    {
      "cell_type": "code",
      "metadata": {
        "id": "PtAJoRuetZhB",
        "colab": {
          "base_uri": "https://localhost:8080/",
          "height": 173
        },
        "outputId": "424eca34-56f2-408d-cad7-89761166f4b1"
      },
      "source": [
        "converted_obj.describe(include=['category'])"
      ],
      "execution_count": 19,
      "outputs": [
        {
          "output_type": "execute_result",
          "data": {
            "text/html": [
              "<div>\n",
              "<style scoped>\n",
              "    .dataframe tbody tr th:only-of-type {\n",
              "        vertical-align: middle;\n",
              "    }\n",
              "\n",
              "    .dataframe tbody tr th {\n",
              "        vertical-align: top;\n",
              "    }\n",
              "\n",
              "    .dataframe thead th {\n",
              "        text-align: right;\n",
              "    }\n",
              "</style>\n",
              "<table border=\"1\" class=\"dataframe\">\n",
              "  <thead>\n",
              "    <tr style=\"text-align: right;\">\n",
              "      <th></th>\n",
              "      <th>Brand</th>\n",
              "      <th>Condition</th>\n",
              "      <th>Fuel</th>\n",
              "      <th>Model</th>\n",
              "      <th>Registered City</th>\n",
              "      <th>Transaction Type</th>\n",
              "    </tr>\n",
              "  </thead>\n",
              "  <tbody>\n",
              "    <tr>\n",
              "      <th>count</th>\n",
              "      <td>11182</td>\n",
              "      <td>11182</td>\n",
              "      <td>11044</td>\n",
              "      <td>11042</td>\n",
              "      <td>10006</td>\n",
              "      <td>11044</td>\n",
              "    </tr>\n",
              "    <tr>\n",
              "      <th>unique</th>\n",
              "      <td>22</td>\n",
              "      <td>2</td>\n",
              "      <td>5</td>\n",
              "      <td>251</td>\n",
              "      <td>56</td>\n",
              "      <td>2</td>\n",
              "    </tr>\n",
              "    <tr>\n",
              "      <th>top</th>\n",
              "      <td>Suzuki</td>\n",
              "      <td>Used</td>\n",
              "      <td>Petrol</td>\n",
              "      <td>Cultus VXR</td>\n",
              "      <td>Karachi</td>\n",
              "      <td>Cash</td>\n",
              "    </tr>\n",
              "    <tr>\n",
              "      <th>freq</th>\n",
              "      <td>4839</td>\n",
              "      <td>9022</td>\n",
              "      <td>6965</td>\n",
              "      <td>853</td>\n",
              "      <td>8088</td>\n",
              "      <td>10543</td>\n",
              "    </tr>\n",
              "  </tbody>\n",
              "</table>\n",
              "</div>"
            ],
            "text/plain": [
              "         Brand Condition    Fuel       Model Registered City Transaction Type\n",
              "count    11182     11182   11044       11042           10006            11044\n",
              "unique      22         2       5         251              56                2\n",
              "top     Suzuki      Used  Petrol  Cultus VXR         Karachi             Cash\n",
              "freq      4839      9022    6965         853            8088            10543"
            ]
          },
          "metadata": {
            "tags": []
          },
          "execution_count": 19
        }
      ]
    },
    {
      "cell_type": "code",
      "metadata": {
        "id": "rT7QcOPYtfkl",
        "colab": {
          "base_uri": "https://localhost:8080/",
          "height": 276
        },
        "outputId": "181bc97a-4dc1-4139-fcf5-61ab65da1ac7"
      },
      "source": [
        "plt.scatter(converted_obj['Year'], converted_obj['Price'], alpha=0.01)\n",
        "pass"
      ],
      "execution_count": 20,
      "outputs": [
        {
          "output_type": "display_data",
          "data": {
            "image/png": "[encoded data removed]",
            "text/plain": [
              "<Figure size 432x288 with 1 Axes>"
            ]
          },
          "metadata": {
            "tags": [],
            "needs_background": "light"
          }
        }
      ]
    },
    {
      "cell_type": "code",
      "metadata": {
        "id": "IKVDKnCytu4Q",
        "colab": {
          "base_uri": "https://localhost:8080/",
          "height": 276
        },
        "outputId": "d7db9b43-64d6-4c72-eb81-b24e9d6a5b7d"
      },
      "source": [
        "plt.scatter(converted_obj['Year'], converted_obj['KMs Driven'], alpha=0.01)\n",
        "pass"
      ],
      "execution_count": 21,
      "outputs": [
        {
          "output_type": "display_data",
          "data": {
            "image/png": "[encoded data removed]",
            "text/plain": [
              "<Figure size 432x288 with 1 Axes>"
            ]
          },
          "metadata": {
            "tags": [],
            "needs_background": "light"
          }
        }
      ]
    },
    {
      "cell_type": "code",
      "metadata": {
        "id": "ybQEQxCJt94o",
        "colab": {
          "base_uri": "https://localhost:8080/",
          "height": 289
        },
        "outputId": "9380f6ab-6ad1-4794-8943-f9cb5a2e60e9"
      },
      "source": [
        "plt.scatter(converted_obj['KMs Driven'], converted_obj['Price'], alpha=0.01)\n",
        "pass"
      ],
      "execution_count": 22,
      "outputs": [
        {
          "output_type": "display_data",
          "data": {
            "image/png": "[encoded data removed]",
            "text/plain": [
              "<Figure size 432x288 with 1 Axes>"
            ]
          },
          "metadata": {
            "tags": [],
            "needs_background": "light"
          }
        }
      ]
    },
    {
      "cell_type": "code",
      "metadata": {
        "id": "RjzBzp_JucVf",
        "colab": {
          "base_uri": "https://localhost:8080/",
          "height": 344
        },
        "outputId": "9e18bc77-139c-4a3c-df5c-b8f987e0c4f3"
      },
      "source": [
        "sns.distplot(converted_obj['Price'], bins=15)\n",
        "plt.grid()\n",
        "pass"
      ],
      "execution_count": 23,
      "outputs": [
        {
          "output_type": "stream",
          "text": [
            "/usr/local/lib/python3.6/dist-packages/seaborn/distributions.py:2551: FutureWarning: `distplot` is a deprecated function and will be removed in a future version. Please adapt your code to use either `displot` (a figure-level function with similar flexibility) or `histplot` (an axes-level function for histograms).\n",
            "  warnings.warn(msg, FutureWarning)\n"
          ],
          "name": "stderr"
        },
        {
          "output_type": "display_data",
          "data": {
            "image/png": "[encoded data removed]",
            "text/plain": [
              "<Figure size 432x288 with 1 Axes>"
            ]
          },
          "metadata": {
            "tags": [],
            "needs_background": "light"
          }
        }
      ]
    },
    {
      "cell_type": "code",
      "metadata": {
        "id": "ME9FrIiRumKW",
        "colab": {
          "base_uri": "https://localhost:8080/",
          "height": 142
        },
        "outputId": "7b65ed45-2fd0-451f-eae2-a2c03d0d3cb5"
      },
      "source": [
        "corr_mat = converted_obj.corr()\n",
        "corr_mat"
      ],
      "execution_count": 24,
      "outputs": [
        {
          "output_type": "execute_result",
          "data": {
            "text/html": [
              "<div>\n",
              "<style scoped>\n",
              "    .dataframe tbody tr th:only-of-type {\n",
              "        vertical-align: middle;\n",
              "    }\n",
              "\n",
              "    .dataframe tbody tr th {\n",
              "        vertical-align: top;\n",
              "    }\n",
              "\n",
              "    .dataframe thead th {\n",
              "        text-align: right;\n",
              "    }\n",
              "</style>\n",
              "<table border=\"1\" class=\"dataframe\">\n",
              "  <thead>\n",
              "    <tr style=\"text-align: right;\">\n",
              "      <th></th>\n",
              "      <th>KMs Driven</th>\n",
              "      <th>Price</th>\n",
              "      <th>Year</th>\n",
              "    </tr>\n",
              "  </thead>\n",
              "  <tbody>\n",
              "    <tr>\n",
              "      <th>KMs Driven</th>\n",
              "      <td>1.000000</td>\n",
              "      <td>-0.083824</td>\n",
              "      <td>-0.157351</td>\n",
              "    </tr>\n",
              "    <tr>\n",
              "      <th>Price</th>\n",
              "      <td>-0.083824</td>\n",
              "      <td>1.000000</td>\n",
              "      <td>0.509876</td>\n",
              "    </tr>\n",
              "    <tr>\n",
              "      <th>Year</th>\n",
              "      <td>-0.157351</td>\n",
              "      <td>0.509876</td>\n",
              "      <td>1.000000</td>\n",
              "    </tr>\n",
              "  </tbody>\n",
              "</table>\n",
              "</div>"
            ],
            "text/plain": [
              "            KMs Driven     Price      Year\n",
              "KMs Driven    1.000000 -0.083824 -0.157351\n",
              "Price        -0.083824  1.000000  0.509876\n",
              "Year         -0.157351  0.509876  1.000000"
            ]
          },
          "metadata": {
            "tags": []
          },
          "execution_count": 24
        }
      ]
    },
    {
      "cell_type": "code",
      "metadata": {
        "id": "ln_MoDm0wlK5",
        "colab": {
          "base_uri": "https://localhost:8080/",
          "height": 269
        },
        "outputId": "072e9b01-a89b-4832-f94c-fbd703c35dd5"
      },
      "source": [
        "sns.heatmap(corr_mat, square=True, cmap='coolwarm')\n",
        "pass"
      ],
      "execution_count": 25,
      "outputs": [
        {
          "output_type": "display_data",
          "data": {
            "image/png": "[encoded data removed]",
            "text/plain": [
              "<Figure size 432x288 with 2 Axes>"
            ]
          },
          "metadata": {
            "tags": [],
            "needs_background": "light"
          }
        }
      ]
    },
    {
      "cell_type": "code",
      "metadata": {
        "id": "7bJnR8zDwvWz",
        "colab": {
          "base_uri": "https://localhost:8080/"
        },
        "outputId": "a0ac71ab-241d-4a5d-e9de-109b99fdfc80"
      },
      "source": [
        "converted_obj.isna().sum()"
      ],
      "execution_count": 26,
      "outputs": [
        {
          "output_type": "execute_result",
          "data": {
            "text/plain": [
              "Brand               1085\n",
              "Condition           1085\n",
              "Fuel                1223\n",
              "KMs Driven          1153\n",
              "Model               1225\n",
              "Price                  0\n",
              "Registered City     2261\n",
              "Transaction Type    1223\n",
              "Year                1152\n",
              "dtype: int64"
            ]
          },
          "metadata": {
            "tags": []
          },
          "execution_count": 26
        }
      ]
    },
    {
      "cell_type": "code",
      "metadata": {
        "id": "t5EjgW9hw_8q"
      },
      "source": [
        "converted_obj.fillna(data.median(axis = 0), axis=0 , inplace=True)"
      ],
      "execution_count": 27,
      "outputs": []
    },
    {
      "cell_type": "code",
      "metadata": {
        "id": "s2L7LamhxFbc",
        "colab": {
          "base_uri": "https://localhost:8080/"
        },
        "outputId": "53ef03c4-49ea-4205-a308-f1551566e688"
      },
      "source": [
        "converted_obj.isna().sum()"
      ],
      "execution_count": 28,
      "outputs": [
        {
          "output_type": "execute_result",
          "data": {
            "text/plain": [
              "Brand               1085\n",
              "Condition           1085\n",
              "Fuel                1223\n",
              "KMs Driven             0\n",
              "Model               1225\n",
              "Price                  0\n",
              "Registered City     2261\n",
              "Transaction Type    1223\n",
              "Year                   0\n",
              "dtype: int64"
            ]
          },
          "metadata": {
            "tags": []
          },
          "execution_count": 28
        }
      ]
    },
    {
      "cell_type": "code",
      "metadata": {
        "id": "1NRw2JX6xHQL"
      },
      "source": [
        "converted_obj['Brand'].fillna(data['Brand'].mode().iloc[0], inplace=True)\n",
        "converted_obj['Condition'].fillna(data['Condition'].mode().iloc[0], inplace=True)\n",
        "converted_obj['Fuel'].fillna(data['Fuel'].mode().iloc[0], inplace=True)\n",
        "converted_obj['Model'].fillna(data['Model'].mode().iloc[0], inplace=True)\n",
        "converted_obj['Registered City'].fillna(data['Registered City'].mode().iloc[0], inplace=True)\n",
        "converted_obj['Transaction Type'].fillna(data['Transaction Type'].mode().iloc[0], inplace=True)"
      ],
      "execution_count": 29,
      "outputs": []
    },
    {
      "cell_type": "code",
      "metadata": {
        "id": "Hz6p6nslxxkP",
        "colab": {
          "base_uri": "https://localhost:8080/"
        },
        "outputId": "b7d68f5c-c285-46f6-b48b-85bc3c754386"
      },
      "source": [
        "converted_obj.isna().sum()"
      ],
      "execution_count": 30,
      "outputs": [
        {
          "output_type": "execute_result",
          "data": {
            "text/plain": [
              "Brand               0\n",
              "Condition           0\n",
              "Fuel                0\n",
              "KMs Driven          0\n",
              "Model               0\n",
              "Price               0\n",
              "Registered City     0\n",
              "Transaction Type    0\n",
              "Year                0\n",
              "dtype: int64"
            ]
          },
          "metadata": {
            "tags": []
          },
          "execution_count": 30
        }
      ]
    },
    {
      "cell_type": "code",
      "metadata": {
        "id": "fx7zcL6Wx1js",
        "colab": {
          "base_uri": "https://localhost:8080/"
        },
        "outputId": "6f893533-dd18-4b2e-d763-469351bb65a0"
      },
      "source": [
        "converted_obj['Condition'].value_counts()"
      ],
      "execution_count": 31,
      "outputs": [
        {
          "output_type": "execute_result",
          "data": {
            "text/plain": [
              "Used    10107\n",
              "New      2160\n",
              "Name: Condition, dtype: int64"
            ]
          },
          "metadata": {
            "tags": []
          },
          "execution_count": 31
        }
      ]
    },
    {
      "cell_type": "markdown",
      "metadata": {
        "id": "TAR51HJcy36H"
      },
      "source": [
        "2138 от числа 12285 = 17.4%"
      ]
    },
    {
      "cell_type": "code",
      "metadata": {
        "id": "9FlMouFey7Aq"
      },
      "source": [
        "condition_ = converted_obj['Condition']\n",
        "converted_obj = converted_obj.drop(\"Condition\", axis = 1)"
      ],
      "execution_count": 32,
      "outputs": []
    },
    {
      "cell_type": "markdown",
      "metadata": {
        "id": "2i7ULSBUzocv"
      },
      "source": [
        "##Бинаризация."
      ]
    },
    {
      "cell_type": "code",
      "metadata": {
        "id": "PKhex1OTzpwG"
      },
      "source": [
        "Building_dummies = pd.get_dummies(converted_obj['Brand'])\n",
        "converted_obj = pd.concat((converted_obj, Building_dummies), axis=1)\n",
        "converted_obj = converted_obj.drop(['Brand'], axis=1)\n",
        "\n",
        "Building_dummies = pd.get_dummies(converted_obj['Fuel'])\n",
        "converted_obj = pd.concat((converted_obj, Building_dummies), axis=1)\n",
        "converted_obj = converted_obj.drop(['Fuel'], axis=1)\n",
        "\n",
        "Building_dummies = pd.get_dummies(converted_obj['Model'])\n",
        "converted_obj = pd.concat((converted_obj, Building_dummies), axis=1)\n",
        "converted_obj = converted_obj.drop(['Model'], axis=1)\n",
        "\n",
        "Building_dummies = pd.get_dummies(converted_obj['Registered City'])\n",
        "converted_obj = pd.concat((converted_obj, Building_dummies), axis=1)\n",
        "converted_obj = converted_obj.drop(['Registered City'], axis=1)\n",
        "\n",
        "Building_dummies = pd.get_dummies(converted_obj['Transaction Type'])\n",
        "converted_obj = pd.concat((converted_obj, Building_dummies), axis=1)\n",
        "converted_obj = converted_obj.drop(['Transaction Type'], axis=1)"
      ],
      "execution_count": 33,
      "outputs": []
    },
    {
      "cell_type": "markdown",
      "metadata": {
        "id": "fRPd0ZUZ_eUm"
      },
      "source": [
        "##Нормализация количественных признаков"
      ]
    },
    {
      "cell_type": "code",
      "metadata": {
        "id": "1PotBnRn_fzn",
        "colab": {
          "base_uri": "https://localhost:8080/"
        },
        "outputId": "a6fd36e4-431c-4be8-9968-0da628018e41"
      },
      "source": [
        "converted_obj.info(memory_usage='deep')"
      ],
      "execution_count": 34,
      "outputs": [
        {
          "output_type": "stream",
          "text": [
            "<class 'pandas.core.frame.DataFrame'>\n",
            "Int64Index: 12267 entries, 6455 to 14228\n",
            "Columns: 339 entries, KMs Driven to Installment/Leasing\n",
            "dtypes: float64(2), int64(1), uint8(336)\n",
            "memory usage: 4.3 MB\n"
          ],
          "name": "stdout"
        }
      ]
    },
    {
      "cell_type": "code",
      "metadata": {
        "id": "YetRSeB7_njK"
      },
      "source": [
        "data_stand = (converted_obj - converted_obj.mean(axis = 0))/converted_obj.std(axis = 0)"
      ],
      "execution_count": 35,
      "outputs": []
    },
    {
      "cell_type": "code",
      "metadata": {
        "id": "hqy_4Rt5_uB6",
        "colab": {
          "base_uri": "https://localhost:8080/",
          "height": 0
        },
        "outputId": "106b0de0-61c5-49e9-eb5c-2ce00c1cbca7"
      },
      "source": [
        "data_stand.describe()"
      ],
      "execution_count": 36,
      "outputs": [
        {
          "output_type": "execute_result",
          "data": {
            "text/html": [
              "<div>\n",
              "<style scoped>\n",
              "    .dataframe tbody tr th:only-of-type {\n",
              "        vertical-align: middle;\n",
              "    }\n",
              "\n",
              "    .dataframe tbody tr th {\n",
              "        vertical-align: top;\n",
              "    }\n",
              "\n",
              "    .dataframe thead th {\n",
              "        text-align: right;\n",
              "    }\n",
              "</style>\n",
              "<table border=\"1\" class=\"dataframe\">\n",
              "  <thead>\n",
              "    <tr style=\"text-align: right;\">\n",
              "      <th></th>\n",
              "      <th>KMs Driven</th>\n",
              "      <th>Price</th>\n",
              "      <th>Year</th>\n",
              "      <th>Audi</th>\n",
              "      <th>BMW</th>\n",
              "      <th>Changan</th>\n",
              "      <th>Chevrolet</th>\n",
              "      <th>Classic &amp; Antiques</th>\n",
              "      <th>Daewoo</th>\n",
              "      <th>Daihatsu</th>\n",
              "      <th>FAW</th>\n",
              "      <th>Honda</th>\n",
              "      <th>Hyundai</th>\n",
              "      <th>KIA</th>\n",
              "      <th>Land Rover</th>\n",
              "      <th>Lexus</th>\n",
              "      <th>Mazda</th>\n",
              "      <th>Mercedes</th>\n",
              "      <th>Mitsubishi</th>\n",
              "      <th>Nissan</th>\n",
              "      <th>Other Brands</th>\n",
              "      <th>Range Rover</th>\n",
              "      <th>Subaru</th>\n",
              "      <th>Suzuki</th>\n",
              "      <th>Toyota</th>\n",
              "      <th>CNG</th>\n",
              "      <th>Diesel</th>\n",
              "      <th>Hybrid</th>\n",
              "      <th>LPG</th>\n",
              "      <th>Petrol</th>\n",
              "      <th>120 Y</th>\n",
              "      <th>200 D</th>\n",
              "      <th>240 Gd</th>\n",
              "      <th>250 D</th>\n",
              "      <th>3 Series</th>\n",
              "      <th>323</th>\n",
              "      <th>350Z</th>\n",
              "      <th>5 Series</th>\n",
              "      <th>7 Series</th>\n",
              "      <th>86</th>\n",
              "      <th>...</th>\n",
              "      <th>Haripur</th>\n",
              "      <th>Hyderabad</th>\n",
              "      <th>Islamabad</th>\n",
              "      <th>Jhelum</th>\n",
              "      <th>Kandhura</th>\n",
              "      <th>Karachi</th>\n",
              "      <th>Karak</th>\n",
              "      <th>Kasur</th>\n",
              "      <th>Khairpur</th>\n",
              "      <th>Khanewal</th>\n",
              "      <th>Khanpur</th>\n",
              "      <th>Khaplu</th>\n",
              "      <th>Khushab</th>\n",
              "      <th>Kohat</th>\n",
              "      <th>Lahore</th>\n",
              "      <th>Larkana</th>\n",
              "      <th>Lasbela</th>\n",
              "      <th>Mandi Bahauddin</th>\n",
              "      <th>Mardan</th>\n",
              "      <th>Mirpur</th>\n",
              "      <th>Multan</th>\n",
              "      <th>Muzaffarabad</th>\n",
              "      <th>Muzaffargarh</th>\n",
              "      <th>Nawabshah</th>\n",
              "      <th>Nowshera</th>\n",
              "      <th>Okara</th>\n",
              "      <th>Pakpattan</th>\n",
              "      <th>Peshawar</th>\n",
              "      <th>Quetta</th>\n",
              "      <th>Rahimyar Khan</th>\n",
              "      <th>Rawalpindi</th>\n",
              "      <th>Sahiwal</th>\n",
              "      <th>Sargodha</th>\n",
              "      <th>Sheikhüpura</th>\n",
              "      <th>Sialkot</th>\n",
              "      <th>Sukkar</th>\n",
              "      <th>Sukkur</th>\n",
              "      <th>Vehari</th>\n",
              "      <th>Cash</th>\n",
              "      <th>Installment/Leasing</th>\n",
              "    </tr>\n",
              "  </thead>\n",
              "  <tbody>\n",
              "    <tr>\n",
              "      <th>count</th>\n",
              "      <td>1.226700e+04</td>\n",
              "      <td>1.226700e+04</td>\n",
              "      <td>1.226700e+04</td>\n",
              "      <td>1.226700e+04</td>\n",
              "      <td>1.226700e+04</td>\n",
              "      <td>1.226700e+04</td>\n",
              "      <td>1.226700e+04</td>\n",
              "      <td>1.226700e+04</td>\n",
              "      <td>1.226700e+04</td>\n",
              "      <td>1.226700e+04</td>\n",
              "      <td>1.226700e+04</td>\n",
              "      <td>1.226700e+04</td>\n",
              "      <td>1.226700e+04</td>\n",
              "      <td>1.226700e+04</td>\n",
              "      <td>1.226700e+04</td>\n",
              "      <td>1.226700e+04</td>\n",
              "      <td>1.226700e+04</td>\n",
              "      <td>1.226700e+04</td>\n",
              "      <td>1.226700e+04</td>\n",
              "      <td>1.226700e+04</td>\n",
              "      <td>1.226700e+04</td>\n",
              "      <td>1.226700e+04</td>\n",
              "      <td>1.226700e+04</td>\n",
              "      <td>1.226700e+04</td>\n",
              "      <td>1.226700e+04</td>\n",
              "      <td>1.226700e+04</td>\n",
              "      <td>1.226700e+04</td>\n",
              "      <td>1.226700e+04</td>\n",
              "      <td>1.226700e+04</td>\n",
              "      <td>1.226700e+04</td>\n",
              "      <td>1.226700e+04</td>\n",
              "      <td>1.226700e+04</td>\n",
              "      <td>1.226700e+04</td>\n",
              "      <td>1.226700e+04</td>\n",
              "      <td>1.226700e+04</td>\n",
              "      <td>1.226700e+04</td>\n",
              "      <td>1.226700e+04</td>\n",
              "      <td>1.226700e+04</td>\n",
              "      <td>1.226700e+04</td>\n",
              "      <td>1.226700e+04</td>\n",
              "      <td>...</td>\n",
              "      <td>1.226700e+04</td>\n",
              "      <td>1.226700e+04</td>\n",
              "      <td>1.226700e+04</td>\n",
              "      <td>1.226700e+04</td>\n",
              "      <td>1.226700e+04</td>\n",
              "      <td>1.226700e+04</td>\n",
              "      <td>1.226700e+04</td>\n",
              "      <td>1.226700e+04</td>\n",
              "      <td>1.226700e+04</td>\n",
              "      <td>1.226700e+04</td>\n",
              "      <td>1.226700e+04</td>\n",
              "      <td>1.226700e+04</td>\n",
              "      <td>1.226700e+04</td>\n",
              "      <td>1.226700e+04</td>\n",
              "      <td>1.226700e+04</td>\n",
              "      <td>1.226700e+04</td>\n",
              "      <td>1.226700e+04</td>\n",
              "      <td>1.226700e+04</td>\n",
              "      <td>1.226700e+04</td>\n",
              "      <td>1.226700e+04</td>\n",
              "      <td>1.226700e+04</td>\n",
              "      <td>1.226700e+04</td>\n",
              "      <td>1.226700e+04</td>\n",
              "      <td>1.226700e+04</td>\n",
              "      <td>1.226700e+04</td>\n",
              "      <td>1.226700e+04</td>\n",
              "      <td>1.226700e+04</td>\n",
              "      <td>1.226700e+04</td>\n",
              "      <td>1.226700e+04</td>\n",
              "      <td>1.226700e+04</td>\n",
              "      <td>1.226700e+04</td>\n",
              "      <td>1.226700e+04</td>\n",
              "      <td>1.226700e+04</td>\n",
              "      <td>1.226700e+04</td>\n",
              "      <td>1.226700e+04</td>\n",
              "      <td>1.226700e+04</td>\n",
              "      <td>1.226700e+04</td>\n",
              "      <td>1.226700e+04</td>\n",
              "      <td>1.226700e+04</td>\n",
              "      <td>1.226700e+04</td>\n",
              "    </tr>\n",
              "    <tr>\n",
              "      <th>mean</th>\n",
              "      <td>1.990383e-16</td>\n",
              "      <td>5.860189e-17</td>\n",
              "      <td>8.626357e-15</td>\n",
              "      <td>3.464159e-15</td>\n",
              "      <td>-1.428280e-17</td>\n",
              "      <td>-2.352363e-17</td>\n",
              "      <td>2.230922e-16</td>\n",
              "      <td>-2.738957e-15</td>\n",
              "      <td>2.518818e-16</td>\n",
              "      <td>-5.359064e-16</td>\n",
              "      <td>-3.118616e-16</td>\n",
              "      <td>8.169149e-16</td>\n",
              "      <td>9.969268e-16</td>\n",
              "      <td>-7.850187e-16</td>\n",
              "      <td>2.881915e-16</td>\n",
              "      <td>7.476702e-16</td>\n",
              "      <td>-1.055964e-15</td>\n",
              "      <td>-6.617726e-16</td>\n",
              "      <td>-2.290311e-15</td>\n",
              "      <td>1.401526e-15</td>\n",
              "      <td>1.511902e-15</td>\n",
              "      <td>7.550186e-16</td>\n",
              "      <td>1.843408e-16</td>\n",
              "      <td>5.690945e-16</td>\n",
              "      <td>-6.598799e-16</td>\n",
              "      <td>1.737512e-15</td>\n",
              "      <td>2.916293e-16</td>\n",
              "      <td>-1.814075e-15</td>\n",
              "      <td>4.068583e-16</td>\n",
              "      <td>4.602353e-16</td>\n",
              "      <td>-2.643833e-16</td>\n",
              "      <td>1.027836e-15</td>\n",
              "      <td>9.982957e-16</td>\n",
              "      <td>-9.809909e-16</td>\n",
              "      <td>-1.106519e-15</td>\n",
              "      <td>-1.144612e-16</td>\n",
              "      <td>2.910851e-16</td>\n",
              "      <td>2.986694e-16</td>\n",
              "      <td>2.881915e-16</td>\n",
              "      <td>-1.575073e-15</td>\n",
              "      <td>...</td>\n",
              "      <td>-1.338956e-15</td>\n",
              "      <td>1.933894e-15</td>\n",
              "      <td>2.685279e-17</td>\n",
              "      <td>-5.581539e-16</td>\n",
              "      <td>2.939838e-16</td>\n",
              "      <td>7.087797e-16</td>\n",
              "      <td>5.596039e-16</td>\n",
              "      <td>6.521723e-17</td>\n",
              "      <td>-2.563728e-16</td>\n",
              "      <td>-1.224849e-15</td>\n",
              "      <td>2.881915e-16</td>\n",
              "      <td>3.009346e-16</td>\n",
              "      <td>2.455425e-17</td>\n",
              "      <td>-2.513638e-15</td>\n",
              "      <td>-3.440270e-16</td>\n",
              "      <td>2.881915e-16</td>\n",
              "      <td>-2.268320e-16</td>\n",
              "      <td>2.905059e-16</td>\n",
              "      <td>-2.080373e-15</td>\n",
              "      <td>2.985633e-16</td>\n",
              "      <td>2.125778e-16</td>\n",
              "      <td>2.881915e-16</td>\n",
              "      <td>2.887707e-16</td>\n",
              "      <td>-2.090379e-18</td>\n",
              "      <td>3.198000e-16</td>\n",
              "      <td>-1.530104e-15</td>\n",
              "      <td>2.893500e-16</td>\n",
              "      <td>-3.412893e-16</td>\n",
              "      <td>2.951855e-16</td>\n",
              "      <td>1.360971e-15</td>\n",
              "      <td>-1.150896e-15</td>\n",
              "      <td>3.671640e-17</td>\n",
              "      <td>-1.594638e-15</td>\n",
              "      <td>2.887707e-16</td>\n",
              "      <td>-2.118379e-16</td>\n",
              "      <td>1.653074e-16</td>\n",
              "      <td>1.471156e-16</td>\n",
              "      <td>7.465321e-16</td>\n",
              "      <td>-5.249689e-16</td>\n",
              "      <td>5.249734e-16</td>\n",
              "    </tr>\n",
              "    <tr>\n",
              "      <th>std</th>\n",
              "      <td>1.000000e+00</td>\n",
              "      <td>1.000000e+00</td>\n",
              "      <td>1.000000e+00</td>\n",
              "      <td>1.000000e+00</td>\n",
              "      <td>1.000000e+00</td>\n",
              "      <td>1.000000e+00</td>\n",
              "      <td>1.000000e+00</td>\n",
              "      <td>1.000000e+00</td>\n",
              "      <td>1.000000e+00</td>\n",
              "      <td>1.000000e+00</td>\n",
              "      <td>1.000000e+00</td>\n",
              "      <td>1.000000e+00</td>\n",
              "      <td>1.000000e+00</td>\n",
              "      <td>1.000000e+00</td>\n",
              "      <td>1.000000e+00</td>\n",
              "      <td>1.000000e+00</td>\n",
              "      <td>1.000000e+00</td>\n",
              "      <td>1.000000e+00</td>\n",
              "      <td>1.000000e+00</td>\n",
              "      <td>1.000000e+00</td>\n",
              "      <td>1.000000e+00</td>\n",
              "      <td>1.000000e+00</td>\n",
              "      <td>1.000000e+00</td>\n",
              "      <td>1.000000e+00</td>\n",
              "      <td>1.000000e+00</td>\n",
              "      <td>1.000000e+00</td>\n",
              "      <td>1.000000e+00</td>\n",
              "      <td>1.000000e+00</td>\n",
              "      <td>1.000000e+00</td>\n",
              "      <td>1.000000e+00</td>\n",
              "      <td>1.000000e+00</td>\n",
              "      <td>1.000000e+00</td>\n",
              "      <td>1.000000e+00</td>\n",
              "      <td>1.000000e+00</td>\n",
              "      <td>1.000000e+00</td>\n",
              "      <td>1.000000e+00</td>\n",
              "      <td>1.000000e+00</td>\n",
              "      <td>1.000000e+00</td>\n",
              "      <td>1.000000e+00</td>\n",
              "      <td>1.000000e+00</td>\n",
              "      <td>...</td>\n",
              "      <td>1.000000e+00</td>\n",
              "      <td>1.000000e+00</td>\n",
              "      <td>1.000000e+00</td>\n",
              "      <td>1.000000e+00</td>\n",
              "      <td>1.000000e+00</td>\n",
              "      <td>1.000000e+00</td>\n",
              "      <td>1.000000e+00</td>\n",
              "      <td>1.000000e+00</td>\n",
              "      <td>1.000000e+00</td>\n",
              "      <td>1.000000e+00</td>\n",
              "      <td>1.000000e+00</td>\n",
              "      <td>1.000000e+00</td>\n",
              "      <td>1.000000e+00</td>\n",
              "      <td>1.000000e+00</td>\n",
              "      <td>1.000000e+00</td>\n",
              "      <td>1.000000e+00</td>\n",
              "      <td>1.000000e+00</td>\n",
              "      <td>1.000000e+00</td>\n",
              "      <td>1.000000e+00</td>\n",
              "      <td>1.000000e+00</td>\n",
              "      <td>1.000000e+00</td>\n",
              "      <td>1.000000e+00</td>\n",
              "      <td>1.000000e+00</td>\n",
              "      <td>1.000000e+00</td>\n",
              "      <td>1.000000e+00</td>\n",
              "      <td>1.000000e+00</td>\n",
              "      <td>1.000000e+00</td>\n",
              "      <td>1.000000e+00</td>\n",
              "      <td>1.000000e+00</td>\n",
              "      <td>1.000000e+00</td>\n",
              "      <td>1.000000e+00</td>\n",
              "      <td>1.000000e+00</td>\n",
              "      <td>1.000000e+00</td>\n",
              "      <td>1.000000e+00</td>\n",
              "      <td>1.000000e+00</td>\n",
              "      <td>1.000000e+00</td>\n",
              "      <td>1.000000e+00</td>\n",
              "      <td>1.000000e+00</td>\n",
              "      <td>1.000000e+00</td>\n",
              "      <td>1.000000e+00</td>\n",
              "    </tr>\n",
              "    <tr>\n",
              "      <th>min</th>\n",
              "      <td>-6.003777e-01</td>\n",
              "      <td>-1.111485e+00</td>\n",
              "      <td>-3.486429e+00</td>\n",
              "      <td>-2.389385e-02</td>\n",
              "      <td>-3.129077e-02</td>\n",
              "      <td>-1.276919e-02</td>\n",
              "      <td>-4.040940e-02</td>\n",
              "      <td>-1.276919e-02</td>\n",
              "      <td>-5.574150e-02</td>\n",
              "      <td>-3.321562e-01</td>\n",
              "      <td>-5.999565e-02</td>\n",
              "      <td>-3.911642e-01</td>\n",
              "      <td>-1.030869e-01</td>\n",
              "      <td>-7.575387e-02</td>\n",
              "      <td>-9.028816e-03</td>\n",
              "      <td>-2.709529e-02</td>\n",
              "      <td>-5.425035e-02</td>\n",
              "      <td>-6.201484e-02</td>\n",
              "      <td>-1.363763e-01</td>\n",
              "      <td>-1.756070e-01</td>\n",
              "      <td>-7.999182e-02</td>\n",
              "      <td>-1.563964e-02</td>\n",
              "      <td>-2.995741e-02</td>\n",
              "      <td>-9.663678e-01</td>\n",
              "      <td>-4.926575e-01</td>\n",
              "      <td>-6.126564e-01</td>\n",
              "      <td>-1.376114e-01</td>\n",
              "      <td>-2.046180e-01</td>\n",
              "      <td>-2.856210e-02</td>\n",
              "      <td>-1.416754e+00</td>\n",
              "      <td>-2.554464e-02</td>\n",
              "      <td>-1.563964e-02</td>\n",
              "      <td>-1.563964e-02</td>\n",
              "      <td>-1.276919e-02</td>\n",
              "      <td>-2.019234e-02</td>\n",
              "      <td>-1.276919e-02</td>\n",
              "      <td>-9.028816e-03</td>\n",
              "      <td>-9.028816e-03</td>\n",
              "      <td>-9.028816e-03</td>\n",
              "      <td>-6.201484e-02</td>\n",
              "      <td>...</td>\n",
              "      <td>-1.276919e-02</td>\n",
              "      <td>-2.709529e-02</td>\n",
              "      <td>-2.082664e-01</td>\n",
              "      <td>-1.276919e-02</td>\n",
              "      <td>-9.028816e-03</td>\n",
              "      <td>-2.322775e+00</td>\n",
              "      <td>-2.019234e-02</td>\n",
              "      <td>-2.212050e-02</td>\n",
              "      <td>-1.276919e-02</td>\n",
              "      <td>-1.276919e-02</td>\n",
              "      <td>-9.028816e-03</td>\n",
              "      <td>-9.028816e-03</td>\n",
              "      <td>-1.276919e-02</td>\n",
              "      <td>-1.276919e-02</td>\n",
              "      <td>-3.019412e-01</td>\n",
              "      <td>-9.028816e-03</td>\n",
              "      <td>-1.276919e-02</td>\n",
              "      <td>-9.028816e-03</td>\n",
              "      <td>-1.276919e-02</td>\n",
              "      <td>-9.028816e-03</td>\n",
              "      <td>-6.710737e-02</td>\n",
              "      <td>-9.028816e-03</td>\n",
              "      <td>-9.028816e-03</td>\n",
              "      <td>-1.276919e-02</td>\n",
              "      <td>-1.805984e-02</td>\n",
              "      <td>-1.276919e-02</td>\n",
              "      <td>-9.028816e-03</td>\n",
              "      <td>-4.696491e-02</td>\n",
              "      <td>-2.389385e-02</td>\n",
              "      <td>-2.389385e-02</td>\n",
              "      <td>-7.790097e-02</td>\n",
              "      <td>-1.276919e-02</td>\n",
              "      <td>-2.019234e-02</td>\n",
              "      <td>-9.028816e-03</td>\n",
              "      <td>-4.040940e-02</td>\n",
              "      <td>-1.276919e-02</td>\n",
              "      <td>-1.563964e-02</td>\n",
              "      <td>-1.805984e-02</td>\n",
              "      <td>-4.845938e+00</td>\n",
              "      <td>-2.063416e-01</td>\n",
              "    </tr>\n",
              "    <tr>\n",
              "      <th>25%</th>\n",
              "      <td>-4.477256e-01</td>\n",
              "      <td>-6.753139e-01</td>\n",
              "      <td>-3.824901e-01</td>\n",
              "      <td>-2.389385e-02</td>\n",
              "      <td>-3.129077e-02</td>\n",
              "      <td>-1.276919e-02</td>\n",
              "      <td>-4.040940e-02</td>\n",
              "      <td>-1.276919e-02</td>\n",
              "      <td>-5.574150e-02</td>\n",
              "      <td>-3.321562e-01</td>\n",
              "      <td>-5.999565e-02</td>\n",
              "      <td>-3.911642e-01</td>\n",
              "      <td>-1.030869e-01</td>\n",
              "      <td>-7.575387e-02</td>\n",
              "      <td>-9.028816e-03</td>\n",
              "      <td>-2.709529e-02</td>\n",
              "      <td>-5.425035e-02</td>\n",
              "      <td>-6.201484e-02</td>\n",
              "      <td>-1.363763e-01</td>\n",
              "      <td>-1.756070e-01</td>\n",
              "      <td>-7.999182e-02</td>\n",
              "      <td>-1.563964e-02</td>\n",
              "      <td>-2.995741e-02</td>\n",
              "      <td>-9.663678e-01</td>\n",
              "      <td>-4.926575e-01</td>\n",
              "      <td>-6.126564e-01</td>\n",
              "      <td>-1.376114e-01</td>\n",
              "      <td>-2.046180e-01</td>\n",
              "      <td>-2.856210e-02</td>\n",
              "      <td>-1.416754e+00</td>\n",
              "      <td>-2.554464e-02</td>\n",
              "      <td>-1.563964e-02</td>\n",
              "      <td>-1.563964e-02</td>\n",
              "      <td>-1.276919e-02</td>\n",
              "      <td>-2.019234e-02</td>\n",
              "      <td>-1.276919e-02</td>\n",
              "      <td>-9.028816e-03</td>\n",
              "      <td>-9.028816e-03</td>\n",
              "      <td>-9.028816e-03</td>\n",
              "      <td>-6.201484e-02</td>\n",
              "      <td>...</td>\n",
              "      <td>-1.276919e-02</td>\n",
              "      <td>-2.709529e-02</td>\n",
              "      <td>-2.082664e-01</td>\n",
              "      <td>-1.276919e-02</td>\n",
              "      <td>-9.028816e-03</td>\n",
              "      <td>4.304844e-01</td>\n",
              "      <td>-2.019234e-02</td>\n",
              "      <td>-2.212050e-02</td>\n",
              "      <td>-1.276919e-02</td>\n",
              "      <td>-1.276919e-02</td>\n",
              "      <td>-9.028816e-03</td>\n",
              "      <td>-9.028816e-03</td>\n",
              "      <td>-1.276919e-02</td>\n",
              "      <td>-1.276919e-02</td>\n",
              "      <td>-3.019412e-01</td>\n",
              "      <td>-9.028816e-03</td>\n",
              "      <td>-1.276919e-02</td>\n",
              "      <td>-9.028816e-03</td>\n",
              "      <td>-1.276919e-02</td>\n",
              "      <td>-9.028816e-03</td>\n",
              "      <td>-6.710737e-02</td>\n",
              "      <td>-9.028816e-03</td>\n",
              "      <td>-9.028816e-03</td>\n",
              "      <td>-1.276919e-02</td>\n",
              "      <td>-1.805984e-02</td>\n",
              "      <td>-1.276919e-02</td>\n",
              "      <td>-9.028816e-03</td>\n",
              "      <td>-4.696491e-02</td>\n",
              "      <td>-2.389385e-02</td>\n",
              "      <td>-2.389385e-02</td>\n",
              "      <td>-7.790097e-02</td>\n",
              "      <td>-1.276919e-02</td>\n",
              "      <td>-2.019234e-02</td>\n",
              "      <td>-9.028816e-03</td>\n",
              "      <td>-4.040940e-02</td>\n",
              "      <td>-1.276919e-02</td>\n",
              "      <td>-1.563964e-02</td>\n",
              "      <td>-1.805984e-02</td>\n",
              "      <td>2.063416e-01</td>\n",
              "      <td>-2.063416e-01</td>\n",
              "    </tr>\n",
              "    <tr>\n",
              "      <th>50%</th>\n",
              "      <td>-1.388686e-01</td>\n",
              "      <td>-2.827596e-01</td>\n",
              "      <td>1.923134e-01</td>\n",
              "      <td>-2.389385e-02</td>\n",
              "      <td>-3.129077e-02</td>\n",
              "      <td>-1.276919e-02</td>\n",
              "      <td>-4.040940e-02</td>\n",
              "      <td>-1.276919e-02</td>\n",
              "      <td>-5.574150e-02</td>\n",
              "      <td>-3.321562e-01</td>\n",
              "      <td>-5.999565e-02</td>\n",
              "      <td>-3.911642e-01</td>\n",
              "      <td>-1.030869e-01</td>\n",
              "      <td>-7.575387e-02</td>\n",
              "      <td>-9.028816e-03</td>\n",
              "      <td>-2.709529e-02</td>\n",
              "      <td>-5.425035e-02</td>\n",
              "      <td>-6.201484e-02</td>\n",
              "      <td>-1.363763e-01</td>\n",
              "      <td>-1.756070e-01</td>\n",
              "      <td>-7.999182e-02</td>\n",
              "      <td>-1.563964e-02</td>\n",
              "      <td>-2.995741e-02</td>\n",
              "      <td>-9.663678e-01</td>\n",
              "      <td>-4.926575e-01</td>\n",
              "      <td>-6.126564e-01</td>\n",
              "      <td>-1.376114e-01</td>\n",
              "      <td>-2.046180e-01</td>\n",
              "      <td>-2.856210e-02</td>\n",
              "      <td>7.057814e-01</td>\n",
              "      <td>-2.554464e-02</td>\n",
              "      <td>-1.563964e-02</td>\n",
              "      <td>-1.563964e-02</td>\n",
              "      <td>-1.276919e-02</td>\n",
              "      <td>-2.019234e-02</td>\n",
              "      <td>-1.276919e-02</td>\n",
              "      <td>-9.028816e-03</td>\n",
              "      <td>-9.028816e-03</td>\n",
              "      <td>-9.028816e-03</td>\n",
              "      <td>-6.201484e-02</td>\n",
              "      <td>...</td>\n",
              "      <td>-1.276919e-02</td>\n",
              "      <td>-2.709529e-02</td>\n",
              "      <td>-2.082664e-01</td>\n",
              "      <td>-1.276919e-02</td>\n",
              "      <td>-9.028816e-03</td>\n",
              "      <td>4.304844e-01</td>\n",
              "      <td>-2.019234e-02</td>\n",
              "      <td>-2.212050e-02</td>\n",
              "      <td>-1.276919e-02</td>\n",
              "      <td>-1.276919e-02</td>\n",
              "      <td>-9.028816e-03</td>\n",
              "      <td>-9.028816e-03</td>\n",
              "      <td>-1.276919e-02</td>\n",
              "      <td>-1.276919e-02</td>\n",
              "      <td>-3.019412e-01</td>\n",
              "      <td>-9.028816e-03</td>\n",
              "      <td>-1.276919e-02</td>\n",
              "      <td>-9.028816e-03</td>\n",
              "      <td>-1.276919e-02</td>\n",
              "      <td>-9.028816e-03</td>\n",
              "      <td>-6.710737e-02</td>\n",
              "      <td>-9.028816e-03</td>\n",
              "      <td>-9.028816e-03</td>\n",
              "      <td>-1.276919e-02</td>\n",
              "      <td>-1.805984e-02</td>\n",
              "      <td>-1.276919e-02</td>\n",
              "      <td>-9.028816e-03</td>\n",
              "      <td>-4.696491e-02</td>\n",
              "      <td>-2.389385e-02</td>\n",
              "      <td>-2.389385e-02</td>\n",
              "      <td>-7.790097e-02</td>\n",
              "      <td>-1.276919e-02</td>\n",
              "      <td>-2.019234e-02</td>\n",
              "      <td>-9.028816e-03</td>\n",
              "      <td>-4.040940e-02</td>\n",
              "      <td>-1.276919e-02</td>\n",
              "      <td>-1.563964e-02</td>\n",
              "      <td>-1.805984e-02</td>\n",
              "      <td>2.063416e-01</td>\n",
              "      <td>-2.063416e-01</td>\n",
              "    </tr>\n",
              "    <tr>\n",
              "      <th>75%</th>\n",
              "      <td>9.352012e-02</td>\n",
              "      <td>4.223842e-01</td>\n",
              "      <td>7.671168e-01</td>\n",
              "      <td>-2.389385e-02</td>\n",
              "      <td>-3.129077e-02</td>\n",
              "      <td>-1.276919e-02</td>\n",
              "      <td>-4.040940e-02</td>\n",
              "      <td>-1.276919e-02</td>\n",
              "      <td>-5.574150e-02</td>\n",
              "      <td>-3.321562e-01</td>\n",
              "      <td>-5.999565e-02</td>\n",
              "      <td>-3.911642e-01</td>\n",
              "      <td>-1.030869e-01</td>\n",
              "      <td>-7.575387e-02</td>\n",
              "      <td>-9.028816e-03</td>\n",
              "      <td>-2.709529e-02</td>\n",
              "      <td>-5.425035e-02</td>\n",
              "      <td>-6.201484e-02</td>\n",
              "      <td>-1.363763e-01</td>\n",
              "      <td>-1.756070e-01</td>\n",
              "      <td>-7.999182e-02</td>\n",
              "      <td>-1.563964e-02</td>\n",
              "      <td>-2.995741e-02</td>\n",
              "      <td>1.034718e+00</td>\n",
              "      <td>-4.926575e-01</td>\n",
              "      <td>1.632103e+00</td>\n",
              "      <td>-1.376114e-01</td>\n",
              "      <td>-2.046180e-01</td>\n",
              "      <td>-2.856210e-02</td>\n",
              "      <td>7.057814e-01</td>\n",
              "      <td>-2.554464e-02</td>\n",
              "      <td>-1.563964e-02</td>\n",
              "      <td>-1.563964e-02</td>\n",
              "      <td>-1.276919e-02</td>\n",
              "      <td>-2.019234e-02</td>\n",
              "      <td>-1.276919e-02</td>\n",
              "      <td>-9.028816e-03</td>\n",
              "      <td>-9.028816e-03</td>\n",
              "      <td>-9.028816e-03</td>\n",
              "      <td>-6.201484e-02</td>\n",
              "      <td>...</td>\n",
              "      <td>-1.276919e-02</td>\n",
              "      <td>-2.709529e-02</td>\n",
              "      <td>-2.082664e-01</td>\n",
              "      <td>-1.276919e-02</td>\n",
              "      <td>-9.028816e-03</td>\n",
              "      <td>4.304844e-01</td>\n",
              "      <td>-2.019234e-02</td>\n",
              "      <td>-2.212050e-02</td>\n",
              "      <td>-1.276919e-02</td>\n",
              "      <td>-1.276919e-02</td>\n",
              "      <td>-9.028816e-03</td>\n",
              "      <td>-9.028816e-03</td>\n",
              "      <td>-1.276919e-02</td>\n",
              "      <td>-1.276919e-02</td>\n",
              "      <td>-3.019412e-01</td>\n",
              "      <td>-9.028816e-03</td>\n",
              "      <td>-1.276919e-02</td>\n",
              "      <td>-9.028816e-03</td>\n",
              "      <td>-1.276919e-02</td>\n",
              "      <td>-9.028816e-03</td>\n",
              "      <td>-6.710737e-02</td>\n",
              "      <td>-9.028816e-03</td>\n",
              "      <td>-9.028816e-03</td>\n",
              "      <td>-1.276919e-02</td>\n",
              "      <td>-1.805984e-02</td>\n",
              "      <td>-1.276919e-02</td>\n",
              "      <td>-9.028816e-03</td>\n",
              "      <td>-4.696491e-02</td>\n",
              "      <td>-2.389385e-02</td>\n",
              "      <td>-2.389385e-02</td>\n",
              "      <td>-7.790097e-02</td>\n",
              "      <td>-1.276919e-02</td>\n",
              "      <td>-2.019234e-02</td>\n",
              "      <td>-9.028816e-03</td>\n",
              "      <td>-4.040940e-02</td>\n",
              "      <td>-1.276919e-02</td>\n",
              "      <td>-1.563964e-02</td>\n",
              "      <td>-1.805984e-02</td>\n",
              "      <td>2.063416e-01</td>\n",
              "      <td>-2.063416e-01</td>\n",
              "    </tr>\n",
              "    <tr>\n",
              "      <th>max</th>\n",
              "      <td>1.327771e+01</td>\n",
              "      <td>8.106270e+00</td>\n",
              "      <td>1.341920e+00</td>\n",
              "      <td>4.184837e+01</td>\n",
              "      <td>3.195570e+01</td>\n",
              "      <td>7.830709e+01</td>\n",
              "      <td>2.474470e+01</td>\n",
              "      <td>7.830709e+01</td>\n",
              "      <td>1.793849e+01</td>\n",
              "      <td>3.010387e+00</td>\n",
              "      <td>1.666652e+01</td>\n",
              "      <td>2.556263e+00</td>\n",
              "      <td>9.699760e+00</td>\n",
              "      <td>1.319957e+01</td>\n",
              "      <td>1.107475e+02</td>\n",
              "      <td>3.690378e+01</td>\n",
              "      <td>1.843156e+01</td>\n",
              "      <td>1.612386e+01</td>\n",
              "      <td>7.332054e+00</td>\n",
              "      <td>5.694069e+00</td>\n",
              "      <td>1.250026e+01</td>\n",
              "      <td>6.393486e+01</td>\n",
              "      <td>3.337800e+01</td>\n",
              "      <td>1.034718e+00</td>\n",
              "      <td>2.029642e+00</td>\n",
              "      <td>1.632103e+00</td>\n",
              "      <td>7.266246e+00</td>\n",
              "      <td>4.886758e+00</td>\n",
              "      <td>3.500857e+01</td>\n",
              "      <td>7.057814e-01</td>\n",
              "      <td>3.914397e+01</td>\n",
              "      <td>6.393486e+01</td>\n",
              "      <td>6.393486e+01</td>\n",
              "      <td>7.830709e+01</td>\n",
              "      <td>4.951969e+01</td>\n",
              "      <td>7.830709e+01</td>\n",
              "      <td>1.107475e+02</td>\n",
              "      <td>1.107475e+02</td>\n",
              "      <td>1.107475e+02</td>\n",
              "      <td>1.612386e+01</td>\n",
              "      <td>...</td>\n",
              "      <td>7.830709e+01</td>\n",
              "      <td>3.690378e+01</td>\n",
              "      <td>4.801152e+00</td>\n",
              "      <td>7.830709e+01</td>\n",
              "      <td>1.107475e+02</td>\n",
              "      <td>4.304844e-01</td>\n",
              "      <td>4.951969e+01</td>\n",
              "      <td>4.520325e+01</td>\n",
              "      <td>7.830709e+01</td>\n",
              "      <td>7.830709e+01</td>\n",
              "      <td>1.107475e+02</td>\n",
              "      <td>1.107475e+02</td>\n",
              "      <td>7.830709e+01</td>\n",
              "      <td>7.830709e+01</td>\n",
              "      <td>3.311633e+00</td>\n",
              "      <td>1.107475e+02</td>\n",
              "      <td>7.830709e+01</td>\n",
              "      <td>1.107475e+02</td>\n",
              "      <td>7.830709e+01</td>\n",
              "      <td>1.107475e+02</td>\n",
              "      <td>1.490028e+01</td>\n",
              "      <td>1.107475e+02</td>\n",
              "      <td>1.107475e+02</td>\n",
              "      <td>7.830709e+01</td>\n",
              "      <td>5.536696e+01</td>\n",
              "      <td>7.830709e+01</td>\n",
              "      <td>1.107475e+02</td>\n",
              "      <td>2.129076e+01</td>\n",
              "      <td>4.184837e+01</td>\n",
              "      <td>4.184837e+01</td>\n",
              "      <td>1.283576e+01</td>\n",
              "      <td>7.830709e+01</td>\n",
              "      <td>4.951969e+01</td>\n",
              "      <td>1.107475e+02</td>\n",
              "      <td>2.474470e+01</td>\n",
              "      <td>7.830709e+01</td>\n",
              "      <td>6.393486e+01</td>\n",
              "      <td>5.536696e+01</td>\n",
              "      <td>2.063416e-01</td>\n",
              "      <td>4.845938e+00</td>\n",
              "    </tr>\n",
              "  </tbody>\n",
              "</table>\n",
              "<p>8 rows × 339 columns</p>\n",
              "</div>"
            ],
            "text/plain": [
              "         KMs Driven         Price  ...          Cash  Installment/Leasing\n",
              "count  1.226700e+04  1.226700e+04  ...  1.226700e+04         1.226700e+04\n",
              "mean   1.990383e-16  5.860189e-17  ... -5.249689e-16         5.249734e-16\n",
              "std    1.000000e+00  1.000000e+00  ...  1.000000e+00         1.000000e+00\n",
              "min   -6.003777e-01 -1.111485e+00  ... -4.845938e+00        -2.063416e-01\n",
              "25%   -4.477256e-01 -6.753139e-01  ...  2.063416e-01        -2.063416e-01\n",
              "50%   -1.388686e-01 -2.827596e-01  ...  2.063416e-01        -2.063416e-01\n",
              "75%    9.352012e-02  4.223842e-01  ...  2.063416e-01        -2.063416e-01\n",
              "max    1.327771e+01  8.106270e+00  ...  2.063416e-01         4.845938e+00\n",
              "\n",
              "[8 rows x 339 columns]"
            ]
          },
          "metadata": {
            "tags": []
          },
          "execution_count": 36
        }
      ]
    },
    {
      "cell_type": "code",
      "metadata": {
        "id": "ofNeRKLP_xtR",
        "colab": {
          "base_uri": "https://localhost:8080/"
        },
        "outputId": "4c85550d-133c-4534-95f7-63c846b457d0"
      },
      "source": [
        "X = data_stand\n",
        "y = condition_\n",
        "from sklearn.model_selection import train_test_split\n",
        "X_train, X_test, y_train, y_test = train_test_split(X, y, test_size = 0.3, random_state = 42)\n",
        "\n",
        "N_train, _ = X_train.shape \n",
        "N_test,  _ = X_test.shape \n",
        "\n",
        "print(N_train, N_test)"
      ],
      "execution_count": 37,
      "outputs": [
        {
          "output_type": "stream",
          "text": [
            "8586 3681\n"
          ],
          "name": "stdout"
        }
      ]
    },
    {
      "cell_type": "code",
      "metadata": {
        "id": "MC11_mXIAblC",
        "colab": {
          "base_uri": "https://localhost:8080/"
        },
        "outputId": "d55935da-566c-46d7-8fdb-5961de2b1e52"
      },
      "source": [
        "from sklearn.neighbors import KNeighborsClassifier\n",
        "\n",
        "knn = KNeighborsClassifier(n_neighbors = 10)\n",
        "knn.fit(X_train, y_train)"
      ],
      "execution_count": 38,
      "outputs": [
        {
          "output_type": "execute_result",
          "data": {
            "text/plain": [
              "KNeighborsClassifier(algorithm='auto', leaf_size=30, metric='minkowski',\n",
              "                     metric_params=None, n_jobs=None, n_neighbors=10, p=2,\n",
              "                     weights='uniform')"
            ]
          },
          "metadata": {
            "tags": []
          },
          "execution_count": 38
        }
      ]
    },
    {
      "cell_type": "code",
      "metadata": {
        "id": "MlRRVPCHCYfc",
        "colab": {
          "base_uri": "https://localhost:8080/"
        },
        "outputId": "9a02aae1-a1fb-4d1a-e758-765b6abc4482"
      },
      "source": [
        "y_train_predict = knn.predict(X_train)\n",
        "y_test_predict = knn.predict(X_test)\n",
        "\n",
        "err_train = np.mean(y_train != y_train_predict)\n",
        "err_test  = np.mean(y_test  != y_test_predict)\n",
        "\n",
        "print(err_train, err_test)"
      ],
      "execution_count": 39,
      "outputs": [
        {
          "output_type": "stream",
          "text": [
            "0.14791521080829256 0.16354251562075522\n"
          ],
          "name": "stdout"
        }
      ]
    },
    {
      "cell_type": "code",
      "metadata": {
        "id": "z4NJhv1oELrI",
        "colab": {
          "base_uri": "https://localhost:8080/"
        },
        "outputId": "5b412fe7-ca24-43ab-cbac-c47900d43dad"
      },
      "source": [
        "from sklearn.metrics import confusion_matrix\n",
        "\n",
        "print(confusion_matrix(y_test, y_test_predict))"
      ],
      "execution_count": 40,
      "outputs": [
        {
          "output_type": "stream",
          "text": [
            "[[ 215  423]\n",
            " [ 179 2864]]\n"
          ],
          "name": "stdout"
        }
      ]
    },
    {
      "cell_type": "markdown",
      "metadata": {
        "id": "l3UAPcNbnDPV"
      },
      "source": [
        "\r\n",
        "##Применение LDA\r\n"
      ]
    },
    {
      "cell_type": "code",
      "metadata": {
        "id": "Md_qR6_tnPjm",
        "outputId": "f40dda9b-23ee-4260-8c56-003d212479b8",
        "colab": {
          "base_uri": "https://localhost:8080/"
        }
      },
      "source": [
        "from sklearn import discriminant_analysis\r\n",
        "lda_model = discriminant_analysis.LinearDiscriminantAnalysis()\r\n",
        "X = data_stand\r\n",
        "y = condition_\r\n",
        "X_train, X_test, y_train, y_test = train_test_split(X, y, test_size = 0.3, random_state = 42)  \r\n",
        "    \r\n",
        "N_train, _ = X_train.shape \r\n",
        "N_test,  _ = X_test.shape \r\n",
        "print(N_train, N_test)\r\n",
        "\r\n",
        "\r\n",
        "lda_model.fit(X_train, y_train)\r\n",
        "y_pred = lda_model.predict(X_train)\r\n",
        "y_test_pred = lda_model.predict(X_test)\r\n",
        "print (np.mean(y_train != y_pred))\r\n",
        "print (np.mean(y_test != y_test_pred))"
      ],
      "execution_count": 41,
      "outputs": [
        {
          "output_type": "stream",
          "text": [
            "8586 3681\n",
            "0.17295597484276728\n",
            "0.18228742189622385\n"
          ],
          "name": "stdout"
        }
      ]
    },
    {
      "cell_type": "code",
      "metadata": {
        "id": "4t-bmL43neJT"
      },
      "source": [
        "from sklearn import neighbors\r\n",
        "err_train = []\r\n",
        "err_test = []\r\n",
        "k_range = range(40, 50)\r\n",
        "for k in k_range:\r\n",
        "    knn_model = neighbors.KNeighborsClassifier(n_neighbors = k)\r\n",
        "    knn_model.fit(X_train, y_train)\r\n",
        "    knn_model.fit(X_test, y_test)\r\n",
        "    y_pred      = knn_model.predict(X_train)\r\n",
        "    y_test_pred = knn_model.predict(X_test)\r\n",
        "    err_train.append(np.mean(y_train != y_pred))\r\n",
        "    err_test.append(np.mean(y_test != y_test_pred))"
      ],
      "execution_count": 42,
      "outputs": []
    },
    {
      "cell_type": "code",
      "metadata": {
        "id": "MthMwUd2nqve",
        "outputId": "6ab20416-2445-4a0e-a2ca-cbd7648c2d01",
        "colab": {
          "base_uri": "https://localhost:8080/",
          "height": 282
        }
      },
      "source": [
        "plt.plot(k_range, err_train, 'r')\r\n",
        "plt.plot(k_range, err_test, 'b')"
      ],
      "execution_count": 43,
      "outputs": [
        {
          "output_type": "execute_result",
          "data": {
            "text/plain": [
              "[<matplotlib.lines.Line2D at 0x7f46dee6c6a0>]"
            ]
          },
          "metadata": {
            "tags": []
          },
          "execution_count": 43
        },
        {
          "output_type": "display_data",
          "data": {
            "image/png": "[encoded data removed]",
            "text/plain": [
              "<Figure size 432x288 with 1 Axes>"
            ]
          },
          "metadata": {
            "tags": [],
            "needs_background": "light"
          }
        }
      ]
    },
    {
      "cell_type": "code",
      "metadata": {
        "id": "HBrDZm-RnuFN",
        "outputId": "933cccab-bed0-4272-e085-d89aa5724ff5",
        "colab": {
          "base_uri": "https://localhost:8080/"
        }
      },
      "source": [
        "print (err_train[3], err_test[3])"
      ],
      "execution_count": 44,
      "outputs": [
        {
          "output_type": "stream",
          "text": [
            "0.17703237829023993 0.16707416462917685\n"
          ],
          "name": "stdout"
        }
      ]
    }
  ]
}